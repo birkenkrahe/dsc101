{
  "nbformat": 4,
  "nbformat_minor": 0,
  "metadata": {
    "colab": {
      "name": "datastructures.ipynb",
      "provenance": [],
      "toc_visible": true,
      "authorship_tag": "ABX9TyMZ1KzTATevRFSt4zl0sxum",
      "include_colab_link": true
    },
    "kernelspec": {
      "name": "ir",
      "display_name": "R"
    },
    "language_info": {
      "name": "R"
    }
  },
  "cells": [
    {
      "cell_type": "markdown",
      "metadata": {
        "id": "view-in-github",
        "colab_type": "text"
      },
      "source": [
        "<a href=\"https://colab.research.google.com/github/birkenkrahe/notebooksf21/blob/main/datastructures.ipynb\" target=\"_parent\"><img src=\"https://colab.research.google.com/assets/colab-badge.svg\" alt=\"Open In Colab\"/></a>"
      ]
    },
    {
      "cell_type": "markdown",
      "metadata": {
        "id": "nSGdZ-yifObA"
      },
      "source": [
        "# Extended example: regression analysis\n",
        "\n",
        "(Image: linear model of mpg vs. weight from the mtcars data set)\n",
        "\n",
        "![mtcars_lm.png](data:image/png;base64,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)"
      ]
    },
    {
      "cell_type": "markdown",
      "metadata": {
        "id": "p6074FX0eUeo"
      },
      "source": [
        "# Objective\n",
        "We walk through a brief statistical regression analysis - fitting a linear function to a small data set in order to show different R objects along the way. The source of this exercise is Matloff (2011)."
      ]
    },
    {
      "cell_type": "markdown",
      "metadata": {
        "id": "b7Q6sLfPgCRb"
      },
      "source": [
        "## Get the data set\n",
        "The file `grades.txt` contains grades. The numbers correspond to letter grades on a 5-point scale common in Continental Europe: get the file [from GitHub](https://github.com/birkenkrahe/dsc101/blob/main/5_datastructures/data/grades.txt) and print it to the screen.\n",
        "\n",
        "Note: this whole operation depends on your operating system. Under windows, this should work:\n",
        "\n",
        "1.   In GitHub, click on `Raw` to see the raw data (see image below), then save to your computer with right click as `grades.txt`.\n",
        "\n",
        "2.   Go to the file explorer, right click on the file and open the menu `Properties`. Copy the absolute path to the file to the clipboard.\n",
        "\n",
        "![Screenshot from 2021-09-29 16-41-31.png](data:image/png;base64,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)\n",
        "\n"
      ]
    },
    {
      "cell_type": "markdown",
      "metadata": {
        "id": "fLRKlxaxg1i-"
      },
      "source": [
        "## What's in this data set?\n",
        "   Each row of the data set contains the data for one student consisting of the midterm examination grade, the final examination grade, and the average quiz grade.\n",
        "\n",
        "   We want to see how well the midterm and quiz grades predict the student's final exam grade.\n",
        "\n",
        "   We'll come back to this example when we go deeper into visualization and data interpretation.\n"
      ]
    },
    {
      "cell_type": "markdown",
      "metadata": {
        "id": "9BVnUP4xhOan"
      },
      "source": [
        "# Read data into R\n",
        "Read the data into R using the `read.table` function and assign it to a new object `grades`. Notice that the raw data did not have a header.\n",
        "\n",
        "## Windows\n",
        "Under Windows, replace the filename between `\"...\"` by the path to the file on your computer.\n",
        "\n",
        "The backward slash character \"\\\" will not be recognized by R as such unless you add an additional `\\` escape character. So if the path in your clipboard is e.g. `C:\\User\\Downloads\\grades.txt`, you need to put `C:\\\\User\\\\Downloads\\\\grades.txt` between the apostrophs of the command below."
      ]
    },
    {
      "cell_type": "code",
      "metadata": {
        "colab": {
          "base_uri": "https://localhost:8080/",
          "height": 34
        },
        "id": "YGfupIYTldkY",
        "outputId": "f97bb3b4-18d6-44d4-b052-cce4c2b61b9c"
      },
      "source": [
        "getwd()"
      ],
      "execution_count": 4,
      "outputs": [
        {
          "output_type": "display_data",
          "data": {
            "text/plain": [
              "[1] \"/content\""
            ],
            "text/latex": "'/content'",
            "text/markdown": "'/content'",
            "text/html": [
              "'/content'"
            ]
          },
          "metadata": {}
        }
      ]
    },
    {
      "cell_type": "code",
      "metadata": {
        "colab": {
          "base_uri": "https://localhost:8080/",
          "height": 233
        },
        "id": "Ropz8Zi3jVQ0",
        "outputId": "c5d199f3-46f0-4026-d11d-77401a8dffee"
      },
      "source": [
        "grades <- read.table(file=\"/home/marcus/GitHub/5_datastructures/data/grades.txt\",header=FALSE)"
      ],
      "execution_count": 3,
      "outputs": [
        {
          "output_type": "stream",
          "name": "stderr",
          "text": [
            "Warning message in file(file, \"rt\"):\n",
            "“cannot open file '/home/marcus/GitHub/5_datastructures/data/grades.txt': No such file or directory”\n"
          ]
        },
        {
          "output_type": "error",
          "ename": "ERROR",
          "evalue": "ignored",
          "traceback": [
            "Error in file(file, \"rt\"): cannot open the connection\nTraceback:\n",
            "1. read.table(file = \"/home/marcus/GitHub/5_datastructures/data/grades.txt\", \n .     header = FALSE)",
            "2. file(file, \"rt\")"
          ]
        }
      ]
    },
    {
      "cell_type": "markdown",
      "metadata": {
        "id": "vobJDqvgjJXp"
      },
      "source": [
        "# References\n",
        "Norman Matloff: The Art of R Programming. NoStarch Press, 2011."
      ]
    },
    {
      "cell_type": "code",
      "metadata": {
        "id": "PtCw0TYRi0Hl"
      },
      "source": [
        ""
      ],
      "execution_count": null,
      "outputs": []
    }
  ]
}