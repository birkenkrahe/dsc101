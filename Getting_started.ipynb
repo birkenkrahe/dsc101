{
  "nbformat": 4,
  "nbformat_minor": 0,
  "metadata": {
    "colab": {
      "name": "Getting started.ipynb",
      "provenance": [],
      "collapsed_sections": [],
      "authorship_tag": "ABX9TyPTsleQu3ig9GPwKNOvXnZz",
      "include_colab_link": true
    },
    "kernelspec": {
      "name": "ir",
      "display_name": "R"
    },
    "language_info": {
      "name": "R"
    }
  },
  "cells": [
    {
      "cell_type": "markdown",
      "metadata": {
        "id": "view-in-github",
        "colab_type": "text"
      },
      "source": [
        "<a href=\"https://colab.research.google.com/github/birkenkrahe/dsc101/blob/main/Getting_started.ipynb\" target=\"_parent\"><img src=\"https://colab.research.google.com/assets/colab-badge.svg\" alt=\"Open In Colab\"/></a>"
      ]
    },
    {
      "cell_type": "markdown",
      "metadata": {
        "id": "-ol6QvAYjSug"
      },
      "source": [
        "# Getting started\n",
        "Source: https://github.com/ds-101/fasteR/tree/master\n",
        "\n",
        "R includes a number of built-in datasets. To see which ones are already installed, use:"
      ]
    },
    {
      "cell_type": "code",
      "metadata": {
        "id": "D6aK8xVzjBTa"
      },
      "source": [
        "data(package=\"datasets\")"
      ],
      "execution_count": 2,
      "outputs": []
    },
    {
      "cell_type": "markdown",
      "metadata": {
        "id": "AeuJDo0WkEis"
      },
      "source": [
        "If you type `data()` without an argument, you get a list of all datasets available to you. And if you don't know what you're doing, look for help:"
      ]
    },
    {
      "cell_type": "code",
      "metadata": {
        "id": "eGdS9ywwkRuR"
      },
      "source": [
        "?data"
      ],
      "execution_count": 3,
      "outputs": []
    },
    {
      "cell_type": "markdown",
      "metadata": {
        "id": "aQMVH027khvA"
      },
      "source": [
        "However, you may not understand the help at this point. Here is an exercise for you: you have installed the package `dslabs` and want to know which datasets it contains: **complete and execute the following cell!**"
      ]
    },
    {
      "cell_type": "code",
      "metadata": {
        "colab": {
          "base_uri": "https://localhost:8080/"
        },
        "id": "pbhJ8kgslD7n",
        "outputId": "ecdf66af-7e89-4c12-f4d9-2f99d3e02d3e"
      },
      "source": [
        "install.packages(\"\")\n",
        "library()\n",
        "data(package=\"\")"
      ],
      "execution_count": 9,
      "outputs": [
        {
          "output_type": "stream",
          "text": [
            "Installing package into ‘/usr/local/lib/R/site-library’\n",
            "(as ‘lib’ is unspecified)\n",
            "\n"
          ],
          "name": "stderr"
        }
      ]
    },
    {
      "cell_type": "markdown",
      "metadata": {
        "id": "w_ebCxrwqVTA"
      },
      "source": [
        "Create a histogram of the `Nile` dataset. Simply use `Nile` as the argument of the `hist()` function. "
      ]
    },
    {
      "cell_type": "code",
      "metadata": {
        "id": "Up7LZIFgm1mK"
      },
      "source": [
        "hist()"
      ],
      "execution_count": null,
      "outputs": []
    },
    {
      "cell_type": "markdown",
      "metadata": {
        "id": "LRIp3EmCleMA"
      },
      "source": [
        ""
      ]
    }
  ]
}