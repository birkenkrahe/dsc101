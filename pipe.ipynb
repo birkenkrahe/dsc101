{
  "nbformat": 4,
  "nbformat_minor": 0,
  "metadata": {
    "colab": {
      "name": "pipe.ipynb",
      "provenance": [],
      "authorship_tag": "ABX9TyM/Uya+TjysU8Z0DT9M+KgE",
      "include_colab_link": true
    },
    "kernelspec": {
      "name": "ir",
      "display_name": "R"
    },
    "language_info": {
      "name": "R"
    }
  },
  "cells": [
    {
      "cell_type": "markdown",
      "metadata": {
        "id": "view-in-github",
        "colab_type": "text"
      },
      "source": [
        "<a href=\"https://colab.research.google.com/github/birkenkrahe/dsc101/blob/main/pipe.ipynb\" target=\"_parent\"><img src=\"https://colab.research.google.com/assets/colab-badge.svg\" alt=\"Open In Colab\"/></a>"
      ]
    },
    {
      "cell_type": "markdown",
      "metadata": {
        "id": "DqigE76maj5A"
      },
      "source": [
        "# Pas besoin de pipe"
      ]
    },
    {
      "cell_type": "markdown",
      "metadata": {
        "id": "5ceJ0av-XRO8"
      },
      "source": [
        "Test the new native pipe after reading [McNulty](https://towardsdatascience.com/ten-awesome-recent-developments-in-r-6bfad46299a0) (2021). As of R version 4.1.0, a native pipe operator is available and is notated as `|>`. Native pipe will take the expression preceding it and place it into the function that follows it as the first argument. For example:\n"
      ]
    },
    {
      "cell_type": "code",
      "metadata": {
        "id": "9WgFZAIeW7yQ"
      },
      "source": [
        "mtcars |> head()   # same as head(mtcars)"
      ],
      "execution_count": null,
      "outputs": []
    },
    {
      "cell_type": "markdown",
      "metadata": {
        "id": "nn4yUERLaGgm"
      },
      "source": [
        "With the pipe, you can dispense with specifying the data frame:"
      ]
    },
    {
      "cell_type": "code",
      "metadata": {
        "id": "Ddn5r2cSZlFw"
      },
      "source": [
        "mtcars |> head(2)  # same as head(mtcars,2)"
      ],
      "execution_count": null,
      "outputs": []
    },
    {
      "cell_type": "markdown",
      "metadata": {
        "id": "0G0F7fRoZ-Bm"
      },
      "source": [
        "The pipe allows you to string different function calls together:"
      ]
    },
    {
      "cell_type": "code",
      "metadata": {
        "colab": {
          "base_uri": "https://localhost:8080/",
          "height": 34
        },
        "id": "Op0vowU9Zr9O",
        "outputId": "e88caf22-c22f-4057-acdc-c52b12bb253a"
      },
      "source": [
        "mtcars |> subset(cyl==4) |> nrow() # same as nrow(subset(mtcars,cyl==4))"
      ],
      "execution_count": 15,
      "outputs": [
        {
          "output_type": "display_data",
          "data": {
            "text/plain": [
              "[1] 11"
            ],
            "text/latex": "11",
            "text/markdown": "11",
            "text/html": [
              "11"
            ]
          },
          "metadata": {
            "tags": []
          }
        }
      ]
    },
    {
      "cell_type": "markdown",
      "metadata": {
        "id": "eGornzHiaOD_"
      },
      "source": [
        "\n",
        "None of these uses convince me to want to use the pipe myself. I find it harder to unpack a pipe than a nested function call. Having to specify arguments helps me to customize a function.\n"
      ]
    }
  ]
}