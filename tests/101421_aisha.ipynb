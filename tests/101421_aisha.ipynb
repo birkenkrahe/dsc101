{
  "nbformat": 4,
  "nbformat_minor": 0,
  "metadata": {
    "colab": {
      "name": "101421_aisha.ipynb",
      "provenance": [],
      "collapsed_sections": []
    },
    "kernelspec": {
      "name": "ir",
      "display_name": "R"
    },
    "language_info": {
      "name": "R"
    }
  },
  "cells": [
    {
      "cell_type": "markdown",
      "metadata": {
        "id": "FklNdR300qSS"
      },
      "source": [
        "# EDA Basics - Problem Set\n",
        "## Instructions\n",
        "* This problem set leads you through a short Exploratory Data Analysis session with a simple, small, built-in dataset.\n",
        "* Open the table of contents to get an overview of the different problem parts.\n",
        "* Work through the following problems at your own pace or during a class session with a time limit of 30 minutes - including the time to learn how to operate the online notebook. \n",
        "* Create code chunks when necessary and execute them to see the output.\n",
        "* You can compare with the solution set when you're done, and when you've exhausted all avenues of help, including: R's onboard `help()` facility (invoke this from the interactive console or in a web browser, but not in this notebook - help pages don't render well); the web with discussion forums like [stackoverflow.com](https://stackoverflow.com) (register!); asking me for hints.\n",
        "* Use your own copy of the notebook to take notes and reflect on false stops and starts - turn this problem set into a lesson of it own.\n",
        "* Notebooks can be shared with other people in the same organization, e.g. to get comments, or to collaborate."
      ]
    },
    {
      "cell_type": "code",
      "metadata": {
        "id": "vOCvC_jrH42t"
      },
      "source": [
        ""
      ],
      "execution_count": null,
      "outputs": []
    },
    {
      "cell_type": "markdown",
      "metadata": {
        "id": "JccL0a9I2Cn_"
      },
      "source": [
        "## Find the dataset\n",
        "Base R includes a package of data sets called \"datasets\". It contains data on \"Areas of the World's Major Landmasses\". \n",
        "\n",
        "What's the name of this dataset?\n",
        "\n",
        "*Hint: add a code chunk below the line `Enter solution below`. To add a code chunk, use the `+ Code` menu at the top of the screen, or define a keyboard shortcut in the menu (opens with `CTRL + m + h`).*"
      ]
    },
    {
      "cell_type": "markdown",
      "metadata": {
        "id": "7ko65b9o26Mu"
      },
      "source": [
        "**Enter solution below:**"
      ]
    },
    {
      "cell_type": "markdown",
      "metadata": {
        "id": "CGxomVxU4zrc"
      },
      "source": [
        "## Load the dataset\n",
        "1. Load the dataset with the \"Areas of the World's Major Landmasses\"\n",
        "2. Print the first 10 lines."
      ]
    },
    {
      "cell_type": "code",
      "metadata": {
        "id": "1khHZjmYINMz"
      },
      "source": [
        "\n",
        "data()\n",
        "data(islands)"
      ],
      "execution_count": 3,
      "outputs": []
    },
    {
      "cell_type": "code",
      "metadata": {
        "colab": {
          "base_uri": "https://localhost:8080/",
          "height": 52
        },
        "id": "PKbQyKkXH_Ve",
        "outputId": "8fdd184e-8091-40eb-f810-633ba8b19908"
      },
      "source": [
        "head(islands, 10)"
      ],
      "execution_count": 5,
      "outputs": [
        {
          "output_type": "display_data",
          "data": {
            "text/plain": [
              "      Africa   Antarctica         Asia    Australia Axel Heiberg       Baffin \n",
              "       11506         5500        16988         2968           16          184 \n",
              "       Banks       Borneo      Britain      Celebes \n",
              "          23          280           84           73 "
            ],
            "text/latex": "\\begin{description*}\n\\item[Africa] 11506\n\\item[Antarctica] 5500\n\\item[Asia] 16988\n\\item[Australia] 2968\n\\item[Axel Heiberg] 16\n\\item[Baffin] 184\n\\item[Banks] 23\n\\item[Borneo] 280\n\\item[Britain] 84\n\\item[Celebes] 73\n\\end{description*}\n",
            "text/markdown": "Africa\n:   11506Antarctica\n:   5500Asia\n:   16988Australia\n:   2968Axel Heiberg\n:   16Baffin\n:   184Banks\n:   23Borneo\n:   280Britain\n:   84Celebes\n:   73\n\n",
            "text/html": [
              "<style>\n",
              ".dl-inline {width: auto; margin:0; padding: 0}\n",
              ".dl-inline>dt, .dl-inline>dd {float: none; width: auto; display: inline-block}\n",
              ".dl-inline>dt::after {content: \":\\0020\"; padding-right: .5ex}\n",
              ".dl-inline>dt:not(:first-of-type) {padding-left: .5ex}\n",
              "</style><dl class=dl-inline><dt>Africa</dt><dd>11506</dd><dt>Antarctica</dt><dd>5500</dd><dt>Asia</dt><dd>16988</dd><dt>Australia</dt><dd>2968</dd><dt>Axel Heiberg</dt><dd>16</dd><dt>Baffin</dt><dd>184</dd><dt>Banks</dt><dd>23</dd><dt>Borneo</dt><dd>280</dd><dt>Britain</dt><dd>84</dd><dt>Celebes</dt><dd>73</dd></dl>\n"
            ]
          },
          "metadata": {}
        }
      ]
    },
    {
      "cell_type": "markdown",
      "metadata": {
        "id": "J9olB1bx_Fut"
      },
      "source": [
        "**Enter solution below:**"
      ]
    },
    {
      "cell_type": "markdown",
      "metadata": {
        "id": "L4pDBouI9HUC"
      },
      "source": [
        "## Check data structure\n",
        "1. What kind of data structure is this dataset? - *Enter the command in a code cell, and then answer the question in the directly following text cell.*\n",
        "2. How many landmass areas does the dataset contain?\n",
        "\n",
        "*Bonus question: how many `methods` does the generic function contain that is used to check data structure?*"
      ]
    },
    {
      "cell_type": "code",
      "metadata": {
        "colab": {
          "base_uri": "https://localhost:8080/"
        },
        "id": "TvO9qQf_JS-r",
        "outputId": "2af88779-274b-4b60-f3e9-45590475a9d9"
      },
      "source": [
        "str(islands)          #numerical type\n"
      ],
      "execution_count": 9,
      "outputs": [
        {
          "output_type": "stream",
          "name": "stdout",
          "text": [
            " Named num [1:48] 11506 5500 16988 2968 16 ...\n",
            " - attr(*, \"names\")= chr [1:48] \"Africa\" \"Antarctica\" \"Asia\" \"Australia\" ...\n"
          ]
        }
      ]
    },
    {
      "cell_type": "code",
      "metadata": {
        "id": "ZHT-JX-5KY0e"
      },
      "source": [
        "## it contains 48 landmasses"
      ],
      "execution_count": null,
      "outputs": []
    },
    {
      "cell_type": "markdown",
      "metadata": {
        "id": "KbdraOIC_A1M"
      },
      "source": [
        "**Enter solution below:**"
      ]
    },
    {
      "cell_type": "markdown",
      "metadata": {
        "id": "UQYoE4vRABHT"
      },
      "source": [
        "## Check object type\n",
        "What type of R object is this dataset?"
      ]
    },
    {
      "cell_type": "code",
      "metadata": {
        "colab": {
          "base_uri": "https://localhost:8080/",
          "height": 35
        },
        "id": "QgS0hF5jKd9M",
        "outputId": "d12e6d20-71b5-4036-ea5d-de25264e3669"
      },
      "source": [
        "typeof(islands)"
      ],
      "execution_count": 10,
      "outputs": [
        {
          "output_type": "display_data",
          "data": {
            "text/plain": [
              "[1] \"double\""
            ],
            "text/latex": "'double'",
            "text/markdown": "'double'",
            "text/html": [
              "'double'"
            ]
          },
          "metadata": {}
        }
      ]
    },
    {
      "cell_type": "markdown",
      "metadata": {
        "id": "FVxPGeJFKmLY"
      },
      "source": [
        "its a R object type: \"double\""
      ]
    },
    {
      "cell_type": "markdown",
      "metadata": {
        "id": "Id8f6Y-wES0U"
      },
      "source": [
        "**Enter solution below:**"
      ]
    },
    {
      "cell_type": "markdown",
      "metadata": {
        "id": "_f1TSZLxGbNw"
      },
      "source": [
        "## Get to know the data\n",
        "1. Which area landmass is the largest? \n",
        "2. How large is it in square miles?\n",
        "\n",
        "*Hint: to answer (1), use the `max()` function to identify the largest landmass, and then extract the vector element using `[]`.*"
      ]
    },
    {
      "cell_type": "code",
      "metadata": {
        "colab": {
          "base_uri": "https://localhost:8080/",
          "height": 52
        },
        "id": "A1hnOrL7KvXC",
        "outputId": "1cadf2b4-ee8d-463d-9ed7-9849b0c3d87b"
      },
      "source": [
        "(max(islands))\n",
        "\n",
        "which.max(islands)"
      ],
      "execution_count": 15,
      "outputs": [
        {
          "output_type": "display_data",
          "data": {
            "text/plain": [
              "[1] 16988"
            ],
            "text/latex": "16988",
            "text/markdown": "16988",
            "text/html": [
              "16988"
            ]
          },
          "metadata": {}
        },
        {
          "output_type": "display_data",
          "data": {
            "text/plain": [
              "Asia \n",
              "   3 "
            ],
            "text/latex": "\\textbf{Asia:} 3",
            "text/markdown": "**Asia:** 3",
            "text/html": [
              "<strong>Asia:</strong> 3"
            ]
          },
          "metadata": {}
        }
      ]
    },
    {
      "cell_type": "markdown",
      "metadata": {
        "id": "nnopB1ErH-lM"
      },
      "source": [
        "**Enter solution below:**"
      ]
    },
    {
      "cell_type": "markdown",
      "metadata": {
        "id": "C-uwiSeFJuKX"
      },
      "source": [
        "3. What is the size of the *average* landmass in the dataset?"
      ]
    },
    {
      "cell_type": "code",
      "metadata": {
        "colab": {
          "base_uri": "https://localhost:8080/",
          "height": 52
        },
        "id": "EiCr3DtAL64N",
        "outputId": "28d2b2b0-dd7b-4da0-bba5-e0efc36623bc"
      },
      "source": [
        "landmass <- c(islands)\n",
        "mean(islands)\n",
        "mean(landmass)\n",
        "\n",
        "The average landmass is 1252.73"
      ],
      "execution_count": 20,
      "outputs": [
        {
          "output_type": "display_data",
          "data": {
            "text/plain": [
              "[1] 1252.729"
            ],
            "text/latex": "1252.72916666667",
            "text/markdown": "1252.72916666667",
            "text/html": [
              "1252.72916666667"
            ]
          },
          "metadata": {}
        },
        {
          "output_type": "display_data",
          "data": {
            "text/plain": [
              "[1] 1252.729"
            ],
            "text/latex": "1252.72916666667",
            "text/markdown": "1252.72916666667",
            "text/html": [
              "1252.72916666667"
            ]
          },
          "metadata": {}
        }
      ]
    },
    {
      "cell_type": "markdown",
      "metadata": {
        "id": "9rHnKW9VJ4Zl"
      },
      "source": [
        "**Enter solution below:**"
      ]
    },
    {
      "cell_type": "markdown",
      "metadata": {
        "id": "IckSD5eKKHpJ"
      },
      "source": [
        "4. How are the landmasses in the dataset called?"
      ]
    },
    {
      "cell_type": "markdown",
      "metadata": {
        "id": "U4Oj82x0KQLz"
      },
      "source": [
        "**Enter solution below:**"
      ]
    },
    {
      "cell_type": "markdown",
      "metadata": {
        "id": "KYCd5y59KgLB"
      },
      "source": [
        "5. What is the difference between the largest and the smallest landmass of the dataset?\n",
        "\n",
        "*Bonus question: solve this question using the `summary` function in two lines of code.*"
      ]
    },
    {
      "cell_type": "code",
      "metadata": {
        "colab": {
          "base_uri": "https://localhost:8080/",
          "height": 121
        },
        "id": "Jhxwers9MT4X",
        "outputId": "4a40d909-ea93-4670-b50c-17abfb4b3cb5"
      },
      "source": [
        "min(islands)\n",
        "which.min(islands)\n",
        "\n",
        "max(islands)\n",
        "which.max(islands)\n",
        "\n",
        "print(\"The difference is:\")\n",
        "\n",
        "(max(islands)) - (min(islands))"
      ],
      "execution_count": 30,
      "outputs": [
        {
          "output_type": "display_data",
          "data": {
            "text/plain": [
              "[1] 12"
            ],
            "text/latex": "12",
            "text/markdown": "12",
            "text/html": [
              "12"
            ]
          },
          "metadata": {}
        },
        {
          "output_type": "display_data",
          "data": {
            "text/plain": [
              "Vancouver \n",
              "       47 "
            ],
            "text/latex": "\\textbf{Vancouver:} 47",
            "text/markdown": "**Vancouver:** 47",
            "text/html": [
              "<strong>Vancouver:</strong> 47"
            ]
          },
          "metadata": {}
        },
        {
          "output_type": "display_data",
          "data": {
            "text/plain": [
              "[1] 16988"
            ],
            "text/latex": "16988",
            "text/markdown": "16988",
            "text/html": [
              "16988"
            ]
          },
          "metadata": {}
        },
        {
          "output_type": "display_data",
          "data": {
            "text/plain": [
              "Asia \n",
              "   3 "
            ],
            "text/latex": "\\textbf{Asia:} 3",
            "text/markdown": "**Asia:** 3",
            "text/html": [
              "<strong>Asia:</strong> 3"
            ]
          },
          "metadata": {}
        },
        {
          "output_type": "stream",
          "name": "stdout",
          "text": [
            "[1] \"The difference is:\"\n"
          ]
        },
        {
          "output_type": "display_data",
          "data": {
            "text/plain": [
              "[1] 16976"
            ],
            "text/latex": "16976",
            "text/markdown": "16976",
            "text/html": [
              "16976"
            ]
          },
          "metadata": {}
        }
      ]
    },
    {
      "cell_type": "code",
      "metadata": {
        "colab": {
          "base_uri": "https://localhost:8080/",
          "height": 87
        },
        "id": "gJEfwquQNQvU",
        "outputId": "df153be5-7b07-4433-f1dc-6971bb7b47d1"
      },
      "source": [
        "#bonus\n",
        "\n",
        "summary(max(islands), min(islands))\n",
        "summary(islands)"
      ],
      "execution_count": 34,
      "outputs": [
        {
          "output_type": "display_data",
          "data": {
            "text/plain": [
              "   Min. 1st Qu.  Median    Mean 3rd Qu.    Max. \n",
              "  16988   16988   16988   16988   16988   16988 "
            ]
          },
          "metadata": {}
        },
        {
          "output_type": "display_data",
          "data": {
            "text/plain": [
              "   Min. 1st Qu.  Median    Mean 3rd Qu.    Max. \n",
              "   12.0    20.5    41.0  1252.7   183.2 16988.0 "
            ]
          },
          "metadata": {}
        }
      ]
    },
    {
      "cell_type": "markdown",
      "metadata": {
        "id": "h7IvmooqLphU"
      },
      "source": [
        "**Enter solution below:**"
      ]
    },
    {
      "cell_type": "markdown",
      "metadata": {
        "id": "o3NpALvuJXjW"
      },
      "source": [
        "## Plot the data\n",
        "1. Plot an approximate representation of the distribution of the data in the dataset."
      ]
    },
    {
      "cell_type": "code",
      "metadata": {
        "colab": {
          "base_uri": "https://localhost:8080/",
          "height": 437
        },
        "id": "KcftRQkdM8SF",
        "outputId": "90e877b7-bf65-4d43-ea9a-d82f49767613"
      },
      "source": [
        "plot(islands)"
      ],
      "execution_count": 31,
      "outputs": [
        {
          "output_type": "display_data",
          "data": {
            "image/png": "[encoded data removed]",
            "text/plain": [
              "plot without title"
            ]
          },
          "metadata": {
            "image/png": {
              "width": 420,
              "height": 420
            }
          }
        }
      ]
    },
    {
      "cell_type": "markdown",
      "metadata": {
        "id": "snNBdQKkJ5xU"
      },
      "source": [
        "**Enter solution below:**"
      ]
    },
    {
      "cell_type": "markdown",
      "metadata": {
        "id": "_8XzzKIjOJ7R"
      },
      "source": [
        "2. What is the object class of this plot?"
      ]
    },
    {
      "cell_type": "code",
      "metadata": {
        "colab": {
          "base_uri": "https://localhost:8080/",
          "height": 97
        },
        "id": "pqfehLPaM_ne",
        "outputId": "fd9339c4-5fee-4939-81a9-27f5832c60c7"
      },
      "source": [
        "object(islands)\n",
        "\n",
        "class(islands)"
      ],
      "execution_count": 38,
      "outputs": [
        {
          "output_type": "error",
          "ename": "ERROR",
          "evalue": "ignored",
          "traceback": [
            "Error in object(islands): could not find function \"object\"\nTraceback:\n"
          ]
        }
      ]
    },
    {
      "cell_type": "markdown",
      "metadata": {
        "id": "UL4nGrtTONf_"
      },
      "source": [
        "**Enter solution below:**"
      ]
    },
    {
      "cell_type": "markdown",
      "metadata": {
        "id": "So6V5QzVP9ij"
      },
      "source": [
        "3. In which data structure are the `attributes` of this plot stored?"
      ]
    },
    {
      "cell_type": "code",
      "metadata": {
        "colab": {
          "base_uri": "https://localhost:8080/",
          "height": 97
        },
        "id": "-caGdDFpNvvu",
        "outputId": "9c2fd43d-c713-4b84-83f4-288e34e5a292"
      },
      "source": [
        "attr(islands) #???"
      ],
      "execution_count": 36,
      "outputs": [
        {
          "output_type": "error",
          "ename": "ERROR",
          "evalue": "ignored",
          "traceback": [
            "Error in attr(islands): either 2 or 3 arguments are required\nTraceback:\n"
          ]
        }
      ]
    },
    {
      "cell_type": "markdown",
      "metadata": {
        "id": "U6KgdF-uVpVX"
      },
      "source": [
        "4. Look for an `example` of the dataset. What kind of chart is generated here?\n"
      ]
    },
    {
      "cell_type": "code",
      "metadata": {
        "id": "cqGBPDkJOkz6"
      },
      "source": [
        ""
      ],
      "execution_count": null,
      "outputs": []
    },
    {
      "cell_type": "markdown",
      "metadata": {
        "id": "EtbGbi4fNGxk"
      },
      "source": [
        "## Cite your sources\n",
        "To finish, cite the sources of this EDA.\n",
        "\n",
        "*Hint: there are three sources.* \n"
      ]
    },
    {
      "cell_type": "markdown",
      "metadata": {
        "id": "_8RBSFjbNmmF"
      },
      "source": [
        "**Enter solution below:**"
      ]
    }
  ]
}