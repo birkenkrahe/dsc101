{
  "nbformat": 4,
  "nbformat_minor": 0,
  "metadata": {
    "colab": {
      "name": "EDA_basics_problems.ipynb",
      "provenance": [],
      "collapsed_sections": [],
      "authorship_tag": "ABX9TyOIUIPET9W013Ue88Lx2iqF",
      "include_colab_link": true
    },
    "kernelspec": {
      "name": "ir",
      "display_name": "R"
    },
    "language_info": {
      "name": "R"
    }
  },
  "cells": [
    {
      "cell_type": "markdown",
      "metadata": {
        "id": "view-in-github",
        "colab_type": "text"
      },
      "source": [
        "<a href=\"https://colab.research.google.com/github/birkenkrahe/notebooksf21/blob/main/EDA_basics_problems.ipynb\" target=\"_parent\"><img src=\"https://colab.research.google.com/assets/colab-badge.svg\" alt=\"Open In Colab\"/></a>"
      ]
    },
    {
      "cell_type": "markdown",
      "metadata": {
        "id": "FklNdR300qSS"
      },
      "source": [
        "# EDA Basics - Problem Set\n",
        "## Instructions\n",
        "* This problem set leads you through a short Exploratory Data Analysis session with a simple, small, built-in dataset.\n",
        "* Open the table of contents to get an overview of the different problem parts.\n",
        "* Work through the following problems at your own pace or during a class session with a time limit of 30 minutes - including the time to learn how to operate the online notebook. \n",
        "* Create code chunks when necessary and execute them to see the output.\n",
        "* You can compare with the solution set when you're done, and when you've exhausted all avenues of help, including: R's onboard `help()` facility (invoke this from the interactive console or in a web browser, but not in this notebook - help pages don't render well); the web with discussion forums like [stackoverflow.com](https://stackoverflow.com) (register!); asking me for hints.\n",
        "* Use your own copy of the notebook to take notes and reflect on false stops and starts - turn this problem set into a lesson of it own.\n",
        "* Notebooks can be shared with other people in the same organization, e.g. to get comments, or to collaborate."
      ]
    },
    {
      "cell_type": "markdown",
      "metadata": {
        "id": "JccL0a9I2Cn_"
      },
      "source": [
        "## Find the dataset\n",
        "Base R includes a package of data sets called \"datasets\". It contains data on \"Areas of the World's Major Landmasses\". \n",
        "\n",
        "What's the name of this dataset?\n",
        "\n",
        "*Hint: add a code chunk below the line `Enter solution below`. To add a code chunk, use the `+ Code` menu at the top of the screen, or define a keyboard shortcut in the menu (opens with `CTRL + m + h`).*"
      ]
    },
    {
      "cell_type": "markdown",
      "metadata": {
        "id": "7ko65b9o26Mu"
      },
      "source": [
        "**Enter solution below:**"
      ]
    },
    {
      "cell_type": "markdown",
      "metadata": {
        "id": "CGxomVxU4zrc"
      },
      "source": [
        "## Load the dataset\n",
        "1. Load the dataset with the \"Areas of the World's Major Landmasses\"\n",
        "2. Print the first 10 lines."
      ]
    },
    {
      "cell_type": "markdown",
      "metadata": {
        "id": "J9olB1bx_Fut"
      },
      "source": [
        "**Enter solution below:**"
      ]
    },
    {
      "cell_type": "markdown",
      "metadata": {
        "id": "L4pDBouI9HUC"
      },
      "source": [
        "## Check data structure\n",
        "1. What kind of data structure is this dataset? - *Enter the command in a code cell, and then answer the question in the directly following text cell.*\n",
        "2. How many landmass areas does the dataset contain?\n",
        "\n",
        "*Bonus question: how many `methods` does the generic function contain that is used to check data structure?*"
      ]
    },
    {
      "cell_type": "markdown",
      "metadata": {
        "id": "KbdraOIC_A1M"
      },
      "source": [
        "**Enter solution below:**"
      ]
    },
    {
      "cell_type": "markdown",
      "metadata": {
        "id": "UQYoE4vRABHT"
      },
      "source": [
        "## Check object type\n",
        "What type of R object is this dataset?"
      ]
    },
    {
      "cell_type": "markdown",
      "metadata": {
        "id": "Id8f6Y-wES0U"
      },
      "source": [
        "**Enter solution below:**"
      ]
    },
    {
      "cell_type": "markdown",
      "metadata": {
        "id": "_f1TSZLxGbNw"
      },
      "source": [
        "## Get to know the data\n",
        "1. Which area landmass is the largest? \n",
        "2. How large is it in square miles?\n",
        "\n",
        "*Hint: to answer (1), use the `max()` function to identify the largest landmass, and then extract the vector element using `[]`.*"
      ]
    },
    {
      "cell_type": "markdown",
      "metadata": {
        "id": "nnopB1ErH-lM"
      },
      "source": [
        "**Enter solution below:**"
      ]
    },
    {
      "cell_type": "markdown",
      "metadata": {
        "id": "C-uwiSeFJuKX"
      },
      "source": [
        "3. What is the size of the *average* landmass in the dataset?"
      ]
    },
    {
      "cell_type": "markdown",
      "metadata": {
        "id": "9rHnKW9VJ4Zl"
      },
      "source": [
        "**Enter solution below:**"
      ]
    },
    {
      "cell_type": "markdown",
      "metadata": {
        "id": "IckSD5eKKHpJ"
      },
      "source": [
        "4. How are the landmasses in the dataset called?"
      ]
    },
    {
      "cell_type": "markdown",
      "metadata": {
        "id": "U4Oj82x0KQLz"
      },
      "source": [
        "**Enter solution below:**"
      ]
    },
    {
      "cell_type": "markdown",
      "metadata": {
        "id": "KYCd5y59KgLB"
      },
      "source": [
        "5. What is the difference between the largest and the smallest landmass of the dataset?\n",
        "\n",
        "*Bonus question: solve this question using the `summary` function in two lines of code.*"
      ]
    },
    {
      "cell_type": "markdown",
      "metadata": {
        "id": "h7IvmooqLphU"
      },
      "source": [
        "**Enter solution below:**"
      ]
    },
    {
      "cell_type": "markdown",
      "metadata": {
        "id": "o3NpALvuJXjW"
      },
      "source": [
        "## Plot the data\n",
        "1. Plot an approximate representation of the distribution of the data in the dataset."
      ]
    },
    {
      "cell_type": "markdown",
      "metadata": {
        "id": "snNBdQKkJ5xU"
      },
      "source": [
        "**Enter solution below:**"
      ]
    },
    {
      "cell_type": "markdown",
      "metadata": {
        "id": "_8XzzKIjOJ7R"
      },
      "source": [
        "2. What is the object class of this plot?"
      ]
    },
    {
      "cell_type": "markdown",
      "metadata": {
        "id": "UL4nGrtTONf_"
      },
      "source": [
        "**Enter solution below:**"
      ]
    },
    {
      "cell_type": "markdown",
      "metadata": {
        "id": "So6V5QzVP9ij"
      },
      "source": [
        "3. In which data structure are the `attributes` of this plot stored?"
      ]
    },
    {
      "cell_type": "markdown",
      "metadata": {
        "id": "EtbGbi4fNGxk"
      },
      "source": [
        "## Cite your sources\n",
        "To finish, cite the sources of this EDA.\n",
        "\n",
        "*Hint: there are three sources.* \n"
      ]
    },
    {
      "cell_type": "markdown",
      "metadata": {
        "id": "_8RBSFjbNmmF"
      },
      "source": [
        "**Enter solution below:**"
      ]
    }
  ]
}