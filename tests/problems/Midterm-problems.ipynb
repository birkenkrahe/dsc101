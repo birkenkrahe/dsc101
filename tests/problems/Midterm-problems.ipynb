{
  "nbformat": 4,
  "nbformat_minor": 0,
  "metadata": {
    "colab": {
      "name": "Midterm_problems",
      "provenance": [],
      "collapsed_sections": [],
      "authorship_tag": "ABX9TyNk+j2+VMnbCTMXAO2Rd2ct",
      "include_colab_link": true
    },
    "kernelspec": {
      "name": "ir",
      "display_name": "R"
    },
    "language_info": {
      "name": "R"
    }
  },
  "cells": [
    {
      "cell_type": "markdown",
      "metadata": {
        "id": "view-in-github",
        "colab_type": "text"
      },
      "source": [
        "<a href=\"https://colab.research.google.com/github/birkenkrahe/notebooksf21/blob/main/Midterm_problems.ipynb\" target=\"_parent\"><img src=\"https://colab.research.google.com/assets/colab-badge.svg\" alt=\"Open In Colab\"/></a>"
      ]
    },
    {
      "cell_type": "markdown",
      "metadata": {
        "id": "07XtQN8l5Po3"
      },
      "source": [
        "# Properties of R (5 points)\n",
        "List as many properties of R as you can think of.\n",
        "\n",
        "**Tip:** remember the information obtained when opening R from the terminal. I could think of ten different properties. If you only identify 5, you get full points - any more will get you extra points.\n"
      ]
    },
    {
      "cell_type": "markdown",
      "metadata": {
        "id": "ZcDywa3S71oN"
      },
      "source": [
        "# Data structures (5 points)\n",
        " Write the commands for each of the following steps:\n",
        "\n",
        "1. Assign the number 5 to the object `x`"
      ]
    },
    {
      "cell_type": "markdown",
      "metadata": {
        "id": "CdWW0JL79dH4"
      },
      "source": [
        "2. Create a character vector `y` with four words in it (in this order): `fall`, `break`, `is`, `coming`."
      ]
    },
    {
      "cell_type": "markdown",
      "metadata": {
        "id": "-mZjto4z-AuP"
      },
      "source": [
        "3. Create a named list from `x` and `y` (in this order), and assign the list to the object `z`. Give `x` the name `\"Jill\"`, and `y` the name `\"Jack\"`."
      ]
    },
    {
      "cell_type": "markdown",
      "metadata": {
        "id": "z0daCIGN-ZjR"
      },
      "source": [
        "4. What is the length of `z$Jack`?"
      ]
    },
    {
      "cell_type": "markdown",
      "metadata": {
        "id": "syBU2rdp-loC"
      },
      "source": [
        "5. What is the length of `z`?"
      ]
    },
    {
      "cell_type": "markdown",
      "metadata": {
        "id": "2nJY1kr1_FHO"
      },
      "source": [
        "# Printing a subvector (4 points)\n",
        "\n",
        "Let `x` be a vector `c(1,2,3,4,5,6)`. List the commands to print only the first **three** elements of `x`\n",
        "\n",
        "\n",
        "**Tip:** I found ten different ways to do this using functions and the index operator. If you find four commands, you'll get full points - any more will get you extra points. "
      ]
    },
    {
      "cell_type": "markdown",
      "metadata": {
        "id": "Hz3DosAd_zEq"
      },
      "source": [
        "1. Using the `head()` function and the colon operator `:` to extract the first three indices. That the vector elements are identical to their indices is an accident! This would also work for a different vector, like `c(2,3,4,5,6,7)`."
      ]
    },
    {
      "cell_type": "markdown",
      "metadata": {
        "id": "zs3TX5oSAPwn"
      },
      "source": [
        "2. Using the colon operator and the index operator `[ ]` to extract the first three indices. "
      ]
    },
    {
      "cell_type": "markdown",
      "metadata": {
        "id": "lFYk5hfnBhyw"
      },
      "source": [
        "3. Using the index operator and the `c()` concatenation function to extrac the first three indices."
      ]
    },
    {
      "cell_type": "markdown",
      "metadata": {
        "id": "5QF9bUovBus0"
      },
      "source": [
        "4. Using the `subset()` function and logical operators to extract the first three indices. The evaluation of the second argument yields the index set 1,2,3 - the logical expression is true for 1,2,3. "
      ]
    },
    {
      "cell_type": "markdown",
      "metadata": {
        "id": "b9oB7tmMC-u7"
      },
      "source": [
        "5. Indexing with the sequence vector generator function `seq()`. This function has more arguments, but we only need to specify start and end of the sequence. The default step width is 1."
      ]
    },
    {
      "cell_type": "markdown",
      "metadata": {
        "id": "GadeRuWuDXCm"
      },
      "source": [
        "6. Indexing with the repetition vector generator function `rep()`. The default is a repetition of frequency 1. "
      ]
    },
    {
      "cell_type": "markdown",
      "metadata": {
        "id": "SwdB9XyHD3AR"
      },
      "source": [
        "7. Instead of selecting the indices we want (1,2,3), we can also remove the indices that we do not need (4,5,6). We can use either the colon operator or the `c()` function for that. In fact, we could also use `seq()` or `rep()`."
      ]
    },
    {
      "cell_type": "markdown",
      "metadata": {
        "id": "dilfIeosFPQw"
      },
      "source": [
        "# Printing data set rows (1 point)\n",
        "How do you print the last **five** rows of the data frame `mtcars`?\n",
        "\n",
        "**Tip:** this is easiest done with a function. Remember that this function has a default value for the number of rows it prints."
      ]
    },
    {
      "cell_type": "markdown",
      "metadata": {
        "id": "NWuxmIOmGtyC"
      },
      "source": [
        "# Working with datasets (3 points)\n",
        "`MASS` is a package with statistical datasets. Don't assume that `MASS` is already installed on your computer. \n",
        "\n",
        "What do you need to do to use the dataset `Boston` from `MASS` in your current R session?\n",
        "\n",
        "1. Give the commands (one per line)\n",
        "2. Describe what each command does on the same line as the command (as a comment after the command)\n",
        "\n",
        "**Tip:** The answer has three lines."
      ]
    },
    {
      "cell_type": "markdown",
      "metadata": {
        "id": "IaFttR1rHLWH"
      },
      "source": [
        "**Enter the solution below:**"
      ]
    },
    {
      "cell_type": "markdown",
      "metadata": {
        "id": "if22aEKiJHPM"
      },
      "source": [
        "*Note: the full name of the dataset *`Boston` is `MASS::Boston`. *Do you know how to see that?*"
      ]
    },
    {
      "cell_type": "markdown",
      "metadata": {
        "id": "BpOAr6JcJPS1"
      },
      "source": [
        "# Change display width (1 point)\n",
        "How can you change the number of columns displayed on the screen to `100` characters?\n",
        "\n",
        "**Tip:** This option's default is `80` characters."
      ]
    },
    {
      "cell_type": "markdown",
      "metadata": {
        "id": "HxdgCdHlKdeU"
      },
      "source": [
        "Note: in this notebook, you will not see the difference. In the interactive console, you would. To demonstrate the difference, run `head(Nile,20)` before and after the `options(width=100)` command."
      ]
    },
    {
      "cell_type": "markdown",
      "metadata": {
        "id": "tohzz3_OKtk9"
      },
      "source": [
        "# Logarithm base (2 points)\n",
        "One of the built-in R functions is the logarithm. \n",
        "\n",
        "1. What is the base of the logarithm function `log10()` in R?\n",
        "2. How can you print this base value on the screen using `log10()` and e-notation?"
      ]
    },
    {
      "cell_type": "markdown",
      "metadata": {
        "id": "bSD3k-EzKzRV"
      },
      "source": [
        "# Testing for equality (2 points)\n",
        "Compare two `numeric` vectors `x` and `y`:\n",
        "```\n",
        "x <- c(1,2,3)\n",
        "y <- c(1,2,4)\n",
        "```\n",
        "1. What is the result of `x==y`?\n",
        "2. Store 'x==y' in an object `foo`. What is `mode(foo)`?"
      ]
    },
    {
      "cell_type": "markdown",
      "metadata": {
        "id": "Tow8XO3LK7ge"
      },
      "source": [
        "# Built-in datasets (1 point)\n",
        "Which command gives you a list of all pre-installed and pre-loaded data sets on your computer? \n"
      ]
    },
    {
      "cell_type": "markdown",
      "metadata": {
        "id": "fK_wrDxOK-Q2"
      },
      "source": [
        "# Accuracy (1 point)\n",
        "Explain why the following expression is `FALSE`:\n",
        "```\n",
        "identical(sqrt(2)**2,2)\n",
        "```"
      ]
    },
    {
      "cell_type": "markdown",
      "metadata": {
        "id": "QdHJedK2aMx8"
      },
      "source": [
        "Answer: the square of the square root of 2 is different from 2 due to rounding errors, because irrational numbers (like `sqrt(2)`) are represented internally by finite numbers. In R, as in other math packages, this problem can be alleviated but not eliminated."
      ]
    },
    {
      "cell_type": "markdown",
      "metadata": {
        "id": "eCU990ltLDBJ"
      },
      "source": [
        "# Mode and data types (4 points)\n",
        "The functions `storage.mode()` and `mode()` determine the storage type and the mode (or data type) of an R object, respectively.\n",
        "\n",
        "1. What is `storage.mode(1)`?"
      ]
    },
    {
      "cell_type": "markdown",
      "metadata": {
        "id": "hYZQk3YZdiT0"
      },
      "source": [
        "2. What is `mode(1)`?"
      ]
    },
    {
      "cell_type": "markdown",
      "metadata": {
        "id": "KRI6axXkdxRf"
      },
      "source": [
        "3. What is `storage.mode(c(\"Fall break\"))`?"
      ]
    },
    {
      "cell_type": "markdown",
      "metadata": {
        "id": "NvD0m2gPeAXX"
      },
      "source": [
        "4. What is `mode(c(\"Fall break\"))`?"
      ]
    },
    {
      "cell_type": "markdown",
      "metadata": {
        "id": "gk62hG0TLIHg"
      },
      "source": [
        "# Checking data structures (3 points)\n",
        "`x`, `A`, `df` are R objects:\n",
        "\n",
        "* `x` is a vector\n",
        "* `A` is a matrix\n",
        "* `df` is a data frame\n",
        "\n",
        "Write three function commands to check if it is true that `x` is a vector, `A` is a matrix, and `df` is a data frame.\n",
        "\n"
      ]
    },
    {
      "cell_type": "markdown",
      "metadata": {
        "id": "klHdot4ALM7A"
      },
      "source": [
        "# Named vectors (5 points)\n",
        "`x` is a vector of three elements:\n",
        "```\n",
        "x <- c(2,25,21)\n",
        "```\n",
        "1. What is the result of `print(x)`?"
      ]
    },
    {
      "cell_type": "markdown",
      "metadata": {
        "id": "2_RdUpcQiZyu"
      },
      "source": [
        "2. What is the name of `x[1]`?"
      ]
    },
    {
      "cell_type": "markdown",
      "metadata": {
        "id": "M0c14eXrin0H"
      },
      "source": [
        "3. Which function is used to name the elements of `x`?"
      ]
    },
    {
      "cell_type": "markdown",
      "metadata": {
        "id": "7vgkYZkOi9c7"
      },
      "source": [
        "4. Which command will name the elements of `x` `\"Bob's\"`, `\"your\"`, and `\"uncle\"` (in this order)?"
      ]
    },
    {
      "cell_type": "markdown",
      "metadata": {
        "id": "p1Q7_8GOic9G"
      },
      "source": [
        "5. What is the result of `print(x)` after naming `x` like that?"
      ]
    },
    {
      "cell_type": "markdown",
      "metadata": {
        "id": "9mGBrV_TLPdg"
      },
      "source": [
        "# Binary operators (1 point)\n",
        "1. What happens when you add a number and a character, like `1` and `\"Joe\"`?\n",
        "2. Explain the result!"
      ]
    },
    {
      "cell_type": "markdown",
      "metadata": {
        "id": "8ITPuVPHlllv"
      },
      "source": [
        "1. You get an error (no execution)\n",
        "2. \"Non-numeric argument to binary operator\" means that the `+` operator requires two numeric arguments on either side."
      ]
    },
    {
      "cell_type": "markdown",
      "metadata": {
        "id": "IXDtelHXL2nF"
      },
      "source": [
        "# Special numbers (6 points)\n",
        "1. Which special numbers in R do you know and what do they mean?\n",
        "2. How do you test for them?"
      ]
    },
    {
      "cell_type": "markdown",
      "metadata": {
        "id": "e7LWfc9XL57d"
      },
      "source": [
        "# Bonus: Plot and histogram (2 points)\n",
        "`plot()` and `hist()` are both generic graphical functions. `Nile` is a built-in time series data set.\n",
        "\n",
        "What is the difference in output between `plot(Nile)` and `hist(Nile)`?"
      ]
    },
    {
      "cell_type": "markdown",
      "metadata": {
        "id": "MGLZTQvbL_aL"
      },
      "source": [
        "# Bonus: Citing software (2 points)\n",
        "When do you need to cite R in publications?"
      ]
    },
    {
      "cell_type": "markdown",
      "metadata": {
        "id": "y4W5gyiDMCh8"
      },
      "source": [
        "# Bonus: Quitting R (2 points)\n",
        "What is the result when you quit R with `q()` and answer `\"yes\"` to the question `\"Do you want to save the workspace image?\"`\n",
        "\n",
        "*Note: this only works for the interactive version of R, the console or terminal, not in a notebook like here, or when executing R scripts from the command line.*"
      ]
    },
    {
      "cell_type": "markdown",
      "metadata": {
        "id": "EKp7eEzaMH92"
      },
      "source": [
        "# Bonus: Generic functions (2 points)\n",
        "`print()`, `plot()`, and `summary()` are examples of generic functions. \n",
        "1. What does this mean? \n",
        "\n"
      ]
    },
    {
      "cell_type": "markdown",
      "metadata": {
        "id": "jpBOLGEjMMwd"
      },
      "source": [
        "# Bonus: Structure of a dataset (2 points)\n",
        "The function `str()` shows the structure of data sets.\n",
        "1. Which output do you expect from `str(1:100)`?\n",
        "2. Which output do you expect from `str(letters)`?\n",
        "\n",
        "**Tip:** remember `str(Nile)`. `letters` is a constant character vector."
      ]
    }
  ]
}