{
  "nbformat": 4,
  "nbformat_minor": 0,
  "metadata": {
    "colab": {
      "name": "data_import_problems.ipynb",
      "provenance": [],
      "collapsed_sections": [],
      "authorship_tag": "ABX9TyOnjDnABUFpHmCK1uWOj6Xe",
      "include_colab_link": true
    },
    "kernelspec": {
      "name": "ir",
      "display_name": "R"
    },
    "language_info": {
      "name": "R"
    }
  },
  "cells": [
    {
      "cell_type": "markdown",
      "metadata": {
        "id": "view-in-github",
        "colab_type": "text"
      },
      "source": [
        "<a href=\"https://colab.research.google.com/github/birkenkrahe/notebooksf21/blob/main/data_import_problems.ipynb\" target=\"_parent\"><img src=\"https://colab.research.google.com/assets/colab-badge.svg\" alt=\"Open In Colab\"/></a>"
      ]
    },
    {
      "cell_type": "markdown",
      "metadata": {
        "id": "3Yoj4ok_eh4-"
      },
      "source": [
        "# Data import with R\n",
        "The main purpose of this practice sheet is to practice what you've learnt in the [DataCamp assignment](https://campus.datacamp.com/courses/introduction-to-importing-data-in-r/importing-data-from-flat-files-with-utils?ex=1).\n",
        "\n",
        "Along the way, we're going to repeat some R commands and add a little more I/O information."
      ]
    },
    {
      "cell_type": "markdown",
      "metadata": {
        "id": "leMNWJpghfi8"
      },
      "source": [
        "## Uploading files\n",
        "\n",
        "* Download the files `hotdogs.txt` and `swimming_pools.csv` from GitHub to your computer.\n",
        "* Enter the command to find out in which working directory you currently are."
      ]
    },
    {
      "cell_type": "code",
      "metadata": {
        "id": "EtwUASZ-D-fz"
      },
      "source": [
        ""
      ],
      "execution_count": null,
      "outputs": []
    },
    {
      "cell_type": "markdown",
      "metadata": {
        "id": "ulj6JnKImEtV"
      },
      "source": [
        "## Notebook navigation\n",
        "\n",
        "- Open the folder symbol in the left sidebar. It only shows the contents of the current folder, `sample_data`. \n",
        "- Navigate to the next higher folder by clicking on the symbol right above the folder `sample_data`.\n",
        "\n",
        "You are now looking at a complete Linux file server tree. On Unix-like systems (Linux, MacOS), file paths are separated by forward slashes `/`, while Windows uses backward slashes `\\`. Data uploaded anywhere but in `/content` are deleted whenever the connection to your session is severed.\n",
        "\n",
        "- In the sidebar, find the (empty) folder `practice` and right-click on the folder name to open a menu and choose `Upload`.\n",
        "- Upload the files `hotdogs.txt` and `swimming_pools.csv` to `practice`.\n",
        "- Enter the command to change the working directory to `/practice`. \n",
        "\n",
        "*Tip: You need the absolute path for that.*"
      ]
    },
    {
      "cell_type": "code",
      "metadata": {
        "id": "0Vt2fjjBgx5Q"
      },
      "source": [
        ""
      ],
      "execution_count": null,
      "outputs": []
    },
    {
      "cell_type": "markdown",
      "metadata": {
        "id": "z3-1YoymHVV2"
      },
      "source": [
        "Enter the command to show that you are in fact in the folder `/practice`."
      ]
    },
    {
      "cell_type": "code",
      "metadata": {
        "id": "Ecn2HCeOG4Lg"
      },
      "source": [
        ""
      ],
      "execution_count": null,
      "outputs": []
    },
    {
      "cell_type": "markdown",
      "metadata": {
        "id": "pMf50LmUga4C"
      },
      "source": [
        "*Bonus question: print the full path to the file `hotdogs.txt` as a `character` using the function `file.path()`.*"
      ]
    },
    {
      "cell_type": "code",
      "metadata": {
        "id": "IOyKj_kygjma"
      },
      "source": [
        ""
      ],
      "execution_count": null,
      "outputs": []
    },
    {
      "cell_type": "markdown",
      "metadata": {
        "id": "YZJbct_thad1"
      },
      "source": [
        "## Finding files\n",
        "\n",
        "Find the files in `/practice`: you can see in the sidebar that they're there. Enter a command that will print the file names."
      ]
    },
    {
      "cell_type": "code",
      "metadata": {
        "id": "LWn6m8BDhWZq"
      },
      "source": [
        ""
      ],
      "execution_count": null,
      "outputs": []
    },
    {
      "cell_type": "markdown",
      "metadata": {
        "id": "O9Ga8H5qH9B9"
      },
      "source": [
        "Show the structure of the object you just created."
      ]
    },
    {
      "cell_type": "code",
      "metadata": {
        "id": "DSKg2QkbIEoa"
      },
      "source": [
        ""
      ],
      "execution_count": null,
      "outputs": []
    },
    {
      "cell_type": "markdown",
      "metadata": {
        "id": "A1Cg7xTrKKdC"
      },
      "source": [
        "What kind of data structure is this? Write the complete technical name for this object in the text box below:"
      ]
    },
    {
      "cell_type": "markdown",
      "metadata": {
        "id": "6QkxZSFpKVch"
      },
      "source": [
        "**ANSWER: `dir()` creates** ..."
      ]
    },
    {
      "cell_type": "markdown",
      "metadata": {
        "id": "9gRAAvh3PAyC"
      },
      "source": [
        "## Loading text files\n",
        "Take a look at the text file `hotdogs.txt`, and import it as a data frame named `hotdogs`."
      ]
    },
    {
      "cell_type": "code",
      "metadata": {
        "id": "eOT8MehdPZO7"
      },
      "source": [
        ""
      ],
      "execution_count": 32,
      "outputs": []
    },
    {
      "cell_type": "markdown",
      "metadata": {
        "id": "BLviG7fTQOYw"
      },
      "source": [
        "Print the first few lines of `hotdogs`."
      ]
    },
    {
      "cell_type": "code",
      "metadata": {
        "id": "y2LrOdt1QU7x"
      },
      "source": [
        ""
      ],
      "execution_count": null,
      "outputs": []
    },
    {
      "cell_type": "markdown",
      "metadata": {
        "id": "1FuN7Yn1RCJA"
      },
      "source": [
        "Verify that `hotdogs` is a data frame so that the answer is a `logical` constant."
      ]
    },
    {
      "cell_type": "code",
      "metadata": {
        "id": "bt0cIosZRGJm"
      },
      "source": [
        ""
      ],
      "execution_count": null,
      "outputs": []
    },
    {
      "cell_type": "markdown",
      "metadata": {
        "id": "BtAxt5Ryhe78"
      },
      "source": [
        "Take a look at the first few lines of the file `swimming_pools.csv`. Take note of the header, and import it as a data frame `pools` using the following command in the code cell below:\n",
        "```\n",
        "read.csv2(file=\"swimming_pools.csv,header=TRUE)\n",
        "```"
      ]
    },
    {
      "cell_type": "code",
      "metadata": {
        "id": "Y430W066h1js"
      },
      "source": [
        ""
      ],
      "execution_count": 87,
      "outputs": []
    },
    {
      "cell_type": "markdown",
      "metadata": {
        "id": "BBjDmBgFh9uZ"
      },
      "source": [
        "Check the structure of `pools` to make sure that you have what you expected: two `character` columns (`Name` and `Address` of the pool), and two `numeric` columns (`Latitude` and `Longitude` of the pool's location)."
      ]
    },
    {
      "cell_type": "code",
      "metadata": {
        "id": "YM5vK7C4isU4"
      },
      "source": [
        ""
      ],
      "execution_count": null,
      "outputs": []
    },
    {
      "cell_type": "markdown",
      "metadata": {
        "id": "T3bklie2ivt-"
      },
      "source": [
        "Evidently, we made a mistake. Can you find it and fix it? Put the correct command to import `swimming_pools.csv` in the code cell below.\n",
        "\n",
        "*Tip: take a look at the help page for `read.table()`.*"
      ]
    },
    {
      "cell_type": "code",
      "metadata": {
        "id": "jdKWJ1yfjM-8"
      },
      "source": [
        ""
      ],
      "execution_count": null,
      "outputs": []
    },
    {
      "cell_type": "markdown",
      "metadata": {
        "id": "JKEQ4RroRhNK"
      },
      "source": [
        "## Naming data frame vectors\n",
        "\n",
        "What are the `names` of the `hotdog` dataframe column vectors?"
      ]
    },
    {
      "cell_type": "code",
      "metadata": {
        "id": "tXRelpF1Rs7O"
      },
      "source": [
        ""
      ],
      "execution_count": null,
      "outputs": []
    },
    {
      "cell_type": "markdown",
      "metadata": {
        "id": "H_pmKpCVR4Ta"
      },
      "source": [
        "The original `hotdogs.txt` data are the results of a laboratory analysis of calories and sodium content of major hot dog brands (UCLA, 2008).\n",
        "\n",
        "Rename the column vectors of `hotdogs` to `Type`, `Calories` and `Sodium` in this order - without re-importing the file (as in the DataCamp assignment).\n",
        "\n",
        "Instead, use the fact that the names of the column vectors are stored in a `character` vector."
      ]
    },
    {
      "cell_type": "code",
      "metadata": {
        "id": "XOnBcVE0UYxH"
      },
      "source": [
        ""
      ],
      "execution_count": 38,
      "outputs": []
    },
    {
      "cell_type": "markdown",
      "metadata": {
        "id": "YnMTwc0vUnlx"
      },
      "source": [
        "Check the data frame by printing out its structure."
      ]
    },
    {
      "cell_type": "code",
      "metadata": {
        "id": "b6b_IiWaUiFZ"
      },
      "source": [
        ""
      ],
      "execution_count": null,
      "outputs": []
    },
    {
      "cell_type": "markdown",
      "metadata": {
        "id": "SmixQZwQYSLK"
      },
      "source": [
        "## Extract values from the data frame"
      ]
    },
    {
      "cell_type": "markdown",
      "metadata": {
        "id": "pA5sSIjoUuCA"
      },
      "source": [
        "We can now refer to the column vectors by name, for example `x <- hotdogs$Calories` for all values of that vector, or `x[x<300]` for all hotdogs with less than 300 calories.\n",
        "\n",
        "How many hotdog types have less than 300 and more than 250 milligrams of sodium? Use the next code cell to determine and print the correct number."
      ]
    },
    {
      "cell_type": "code",
      "metadata": {
        "id": "PgT99L3eWNQg"
      },
      "source": [
        ""
      ],
      "execution_count": null,
      "outputs": []
    },
    {
      "cell_type": "markdown",
      "metadata": {
        "id": "Kh4pUcSCYcTY"
      },
      "source": [
        "What `Type` of hotdogs are these? \n",
        "\n",
        "*Tip: extract all elements of the vector with the hotdog types that satisfy the (logical) condition of having more than 250 mg and less than 300 mg sodium.*   "
      ]
    },
    {
      "cell_type": "code",
      "metadata": {
        "id": "AiLxcYRnYjc_"
      },
      "source": [
        ""
      ],
      "execution_count": null,
      "outputs": []
    },
    {
      "cell_type": "markdown",
      "metadata": {
        "id": "F0xzwMJ0Y27G"
      },
      "source": [
        "## Plotting `hotdogs`\n",
        "This is what you're about to learn in the next few sessions. For now, just follow the instructions.\n",
        "\n",
        "Assign the `Calories` vector to an object `x`."
      ]
    },
    {
      "cell_type": "code",
      "metadata": {
        "id": "KSmXuF3xZWZu"
      },
      "source": [
        ""
      ],
      "execution_count": 65,
      "outputs": []
    },
    {
      "cell_type": "markdown",
      "metadata": {
        "id": "0Z3_ao9VZnf7"
      },
      "source": [
        "Now, `x` contains the hotdog `Calories`, and `y` contains the `Sodium` values. \n",
        "\n",
        "Let's plot these: enter `plot(x,y)` in the next code cell:"
      ]
    },
    {
      "cell_type": "code",
      "metadata": {
        "id": "uu_zVFdmZc75"
      },
      "source": [
        ""
      ],
      "execution_count": null,
      "outputs": []
    },
    {
      "cell_type": "markdown",
      "metadata": {
        "id": "_1rnvB-PaFJB"
      },
      "source": [
        "If we want to find out how these hotdogs are distributed by type, we need to put the third available variable, `Type`, to use. \n",
        "\n",
        "First, put the `Type` of hotdog in another vector named `z`.  "
      ]
    },
    {
      "cell_type": "code",
      "metadata": {
        "id": "VZCzpHYNaMp9"
      },
      "source": [
        ""
      ],
      "execution_count": 68,
      "outputs": []
    },
    {
      "cell_type": "markdown",
      "metadata": {
        "id": "Kjtsr4EQcXgo"
      },
      "source": [
        "Next, turn `z` into a `factor` - simply overwrite it with a `factor` version of itself.\n"
      ]
    },
    {
      "cell_type": "code",
      "metadata": {
        "id": "GhVvcYLwdyk4"
      },
      "source": [
        ""
      ],
      "execution_count": 70,
      "outputs": []
    },
    {
      "cell_type": "markdown",
      "metadata": {
        "id": "jqeAIwaAk8Xr"
      },
      "source": [
        "Now plot the data set again, this time using `z` to color the data points. Enter the following command in the code cell below:\n",
        "```\n",
        "plot(x,y,col=z)\n",
        "```"
      ]
    },
    {
      "cell_type": "code",
      "metadata": {
        "id": "q-4b2qV7U9YH"
      },
      "source": [
        ""
      ],
      "execution_count": null,
      "outputs": []
    },
    {
      "cell_type": "markdown",
      "metadata": {
        "id": "fK4EZiyILKNt"
      },
      "source": [
        "## Complete Creative Commons reference\n",
        "\n",
        "The file `swimming_pools.txt` is distributed under a 'Creative Commons' copyright. Check [the origin of the file](https://www.data.brisbane.qld.gov.au/data/dataset/swimming-pools) to find out how to complete the reference below, and complete it accordingly."
      ]
    },
    {
      "cell_type": "markdown",
      "metadata": {
        "id": "44N9EiJgLkc2"
      },
      "source": [
        "## References\n",
        "\n",
        "`hotdog.txt`: Moore, David S., and George P. McCabe (1989). Introduction to the Practice of Statistics. Original source: Consumer Reports, June 1986, pp. 366-367\n",
        "\n",
        "R Core Team (2021). R: A language and environment for statistical computing. R Foundation for Statistical Computing, Vienna, Austria. Online: [www.R-project.org](https://www.r-project.org).\n",
        "\n",
        "`swimming_pools.csv`: ???\n",
        "\n",
        "UCLA (29 Dec 2008). SOCR 012708 ID Data HotDogs (wiki). Online: [wiki.stat.ucla.edu](http://wiki.stat.ucla.edu/socr/index.php/SOCR_012708_ID_Data_HotDogs)."
      ]
    }
  ]
}