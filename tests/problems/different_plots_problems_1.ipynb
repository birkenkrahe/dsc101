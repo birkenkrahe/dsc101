{
  "nbformat": 4,
  "nbformat_minor": 0,
  "metadata": {
    "colab": {
      "name": "different_plots_problems_1.ipynb",
      "provenance": [],
      "collapsed_sections": [],
      "authorship_tag": "ABX9TyOhupvc1Ss45/IJ9p7mZd18",
      "include_colab_link": true
    },
    "kernelspec": {
      "name": "ir",
      "display_name": "R"
    },
    "language_info": {
      "name": "R"
    }
  },
  "cells": [
    {
      "cell_type": "markdown",
      "metadata": {
        "id": "view-in-github",
        "colab_type": "text"
      },
      "source": [
        "<a href=\"https://colab.research.google.com/github/birkenkrahe/notebooksf21/blob/main/different_plots_problems_1.ipynb\" target=\"_parent\"><img src=\"https://colab.research.google.com/assets/colab-badge.svg\" alt=\"Open In Colab\"/></a>"
      ]
    },
    {
      "cell_type": "markdown",
      "metadata": {
        "id": "Vri3K_dlGBEP"
      },
      "source": [
        "The second chapter of the DataCamp course \"Data Visualization with R\" is not quite as easy as I thought. This notebook prepares you for some of the coding details so that you have a better fighting chance. \n",
        "\n",
        "Remember that the final exam *will* be sourced from the notebooks and tests available in GitHub and Schoology. "
      ]
    },
    {
      "cell_type": "markdown",
      "metadata": {
        "id": "XEk2ElqCP6aC"
      },
      "source": [
        "# Characterizing a single variable"
      ]
    },
    {
      "cell_type": "markdown",
      "metadata": {
        "id": "x5d3nPe8ysby"
      },
      "source": [
        "## Plotting more than one frame\n",
        "\n",
        "The function `par()` allows you to plot more than one frame - useful to compare plots.\n",
        "\n",
        "The `mfrow` attribute in `par()` is an `N` x `M` matrix. `par(mfrow=c(N,M))` creates a panel of `N` rows and `M columns.\n",
        "\n",
        "You define the plot parameters with `par` before creating a new plot. \n"
      ]
    },
    {
      "cell_type": "markdown",
      "metadata": {
        "id": "Xz6yI13p0DVh"
      },
      "source": [
        "Check out the structure of the built-in dataset `ToothGrowth`."
      ]
    },
    {
      "cell_type": "code",
      "metadata": {
        "id": "musftJejzhZi"
      },
      "source": [
        ""
      ],
      "execution_count": null,
      "outputs": []
    },
    {
      "cell_type": "markdown",
      "metadata": {
        "id": "PX8sFS2f0TdC"
      },
      "source": [
        "Save `ToothGrowth` in a data frame called `tg`."
      ]
    },
    {
      "cell_type": "code",
      "metadata": {
        "id": "yy3-QfTozncn"
      },
      "source": [
        ""
      ],
      "execution_count": null,
      "outputs": []
    },
    {
      "cell_type": "markdown",
      "metadata": {
        "id": "YTfDooX60tSU"
      },
      "source": [
        "Create two histograms, one for each of the numeric vectors in `ToothGrowth`. \n",
        "\n",
        "Plot these histograms side by side.\n",
        "\n",
        "Color the histograms: the first one should have the color `2`, the second one the color `steelblue`.\n",
        "\n",
        "Put all commands into one cell. The general form should look like this:\n",
        "```\n",
        "par(...)\n",
        "hist(...)\n",
        "hist(...)\n",
        "```"
      ]
    },
    {
      "cell_type": "code",
      "metadata": {
        "id": "CNz44zXE1QII"
      },
      "source": [
        ""
      ],
      "execution_count": null,
      "outputs": []
    },
    {
      "cell_type": "markdown",
      "metadata": {
        "id": "bOq5_fa92euX"
      },
      "source": [
        "How would you define a 2 x 2 plot frame of 2 rows and 2 columns?"
      ]
    },
    {
      "cell_type": "markdown",
      "metadata": {
        "id": "48KfwBRQ2vhQ"
      },
      "source": [
        "1. Test your solution by plotting 100 random points as a histogram, using the function `rnorm(100)`: each time this function is called, it generates a different set of 100 randomly distributed points. \n",
        "2. Name the histograms `Random numbers 1`, `Random numbers 2`, `Random numbers 3`, and `Random numbers 4`.\n",
        "\n",
        "Put all commands into one cell. Again the first command should be a `par()`, the next ones `hist()` functions.\n",
        "\n",
        "*Tip: the title and labels of a histogram is assigned using the same attribute as the `plot()` function.*"
      ]
    },
    {
      "cell_type": "code",
      "metadata": {
        "id": "0q55EFoP2_Xg"
      },
      "source": [
        ""
      ],
      "execution_count": null,
      "outputs": []
    },
    {
      "cell_type": "markdown",
      "metadata": {
        "id": "N0Z7Hwnd17pN"
      },
      "source": [
        "## Density plots\n",
        "\n",
        "The density plot or estimate is a smoothing function.\n",
        "\n",
        "Plot the density distribution for 100 random points. Title the diagram `Random density distribution`, and choose the line type `5` (dashed line).\n",
        "\n",
        "*Tip: the general form of the command is `plot(density(rnorm(...)))`.*\n"
      ]
    },
    {
      "cell_type": "code",
      "metadata": {
        "id": "eQ6UejMA3ir8"
      },
      "source": [
        ""
      ],
      "execution_count": null,
      "outputs": []
    },
    {
      "cell_type": "markdown",
      "metadata": {
        "id": "G-reaX3I4GjX"
      },
      "source": [
        "The plot reveals that this distribution is very nearly Gaussian (normally distributed)."
      ]
    },
    {
      "cell_type": "markdown",
      "metadata": {
        "id": "Q1Is_gYWTDFk"
      },
      "source": [
        "Let's plot another density estimate across this one, using the `lines()` function. \n",
        "\n",
        "Save two 100 random point distributions to the objects `d1` and `d2`, like this:\n",
        "```\n",
        "d <- density(rnorm(100))\n",
        "```\n",
        "In the third line of the same cell, plot `d1` with the title `Random distributions` and an empty x-axis label. In the fourth line, plot `d2` using the `lines()` function with the color `steelblue`. "
      ]
    },
    {
      "cell_type": "code",
      "metadata": {
        "id": "TIRp5mLfUCey"
      },
      "source": [
        ""
      ],
      "execution_count": null,
      "outputs": []
    },
    {
      "cell_type": "markdown",
      "metadata": {
        "id": "CZjZf5m24WNa"
      },
      "source": [
        "## QQ-Plots\n",
        "The quantile-quantile (q-q or QQ) plot is a graphical technique for determining if two data sets come from populations with a common distribution.\n",
        "\n",
        "A QQ-plot is a plot of the quantiles of the first data set against the quantiles of the second data set. By a quantile, we mean the fraction (or percent) of points below the given value. That is, the 0.3 (or 30%) quantile is the point at which 30% percent of the data fall below and 70% fall above that value. [ENG13]\n",
        "\n",
        "\n"
      ]
    },
    {
      "cell_type": "markdown",
      "metadata": {
        "id": "hcgwcyWxLEw_"
      },
      "source": [
        "Print the 1st and 3rd quartile (25% and 75% of the values resp.) for the `ToothGrowth` dataset.  "
      ]
    },
    {
      "cell_type": "code",
      "metadata": {
        "id": "P_3Gxt0VLDP5"
      },
      "source": [
        ""
      ],
      "execution_count": null,
      "outputs": []
    },
    {
      "cell_type": "markdown",
      "metadata": {
        "id": "NEZEUY-VLl7L"
      },
      "source": [
        "The R base functions `qqnorm()` and `qqplot()` can be used to produce  QQ-plots: \n",
        "1. `qqnorm()` produces a normal QQ-plot of the variable (i.e. uses the Gaussian or normal distribution as a reference on the x-axis).\n",
        "2. `qqplot()` plots a reference line through the points. If the points are located around this line, the tested distribution is approximately normally distributed. "
      ]
    },
    {
      "cell_type": "markdown",
      "metadata": {
        "id": "vzyXm-cTMhlS"
      },
      "source": [
        "Create a QQ-plot for the numerical `len` vector in the `ToothGrowth` dataset. Name the plot `Normal QQ-Plot - Length of Odontoblasts in 60 Guinea Pigs`. Since the title is long, split it up after `of`."
      ]
    },
    {
      "cell_type": "code",
      "metadata": {
        "id": "YHpXnjA6MyiZ"
      },
      "source": [
        ""
      ],
      "execution_count": null,
      "outputs": []
    },
    {
      "cell_type": "markdown",
      "metadata": {
        "id": "k1fkDw2XODRp"
      },
      "source": [
        "Copy the command from the last cell into the next code cell. In the second line of that cell, plot a reference line through the plot, using the `qqline()` function. Draw a `steelblue` line of width `2`. So the cell should have the general form:\n",
        "```\n",
        "qqnorm(...)\n",
        "qqline(...)\n",
        "```\n",
        "\n",
        "*Tip: `qqline()` attributes for color and line width are the same as for the `plot()` function.*"
      ]
    },
    {
      "cell_type": "code",
      "metadata": {
        "id": "HwXDlNIeNssX"
      },
      "source": [
        ""
      ],
      "execution_count": null,
      "outputs": []
    },
    {
      "cell_type": "markdown",
      "metadata": {
        "id": "JLeFjr96NwD3"
      },
      "source": [
        "If you're puzzled by the title, check out the [R documentation](https://www.rdocumentation.org/packages/datasets/versions/3.6.2/topics/ToothGrowth) for `ToothGrowth`. "
      ]
    },
    {
      "cell_type": "markdown",
      "metadata": {
        "id": "V_YZOec1Km3h"
      },
      "source": [
        "# References\n",
        "\n",
        "[ENG13] NIST/SEMATECH e-Handbook of Statistical Methods, https://doi.org/10.18434/M32189, 10/28/2021.\n",
        "\n",
        "[R21] R Core Team (2021). R: A language and environment for statistical\n",
        "  computing. R Foundation for Statistical Computing, Vienna, Austria.\n",
        "  URL https://www.R-project.org/.\n",
        "\n",
        "[STH16] STHDA (2016).  QQ-plots: Quantile-Quantile plots - R Base Graphs [website]. [URL sthda.com](http://www.sthda.com/english/wiki/qq-plots-quantile-quantile-plots-r-base-graphs)."
      ]
    }
  ]
}