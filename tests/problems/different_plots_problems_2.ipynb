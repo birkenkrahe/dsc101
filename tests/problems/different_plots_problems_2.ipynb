{
  "nbformat": 4,
  "nbformat_minor": 0,
  "metadata": {
    "colab": {
      "name": "different_plots_problems_2.ipynb",
      "provenance": [],
      "collapsed_sections": [],
      "authorship_tag": "ABX9TyPHjMFyRulLFKBS4l0D0S7C",
      "include_colab_link": true
    },
    "kernelspec": {
      "name": "ir",
      "display_name": "R"
    },
    "language_info": {
      "name": "R"
    }
  },
  "cells": [
    {
      "cell_type": "markdown",
      "metadata": {
        "id": "view-in-github",
        "colab_type": "text"
      },
      "source": [
        "<a href=\"https://colab.research.google.com/github/birkenkrahe/notebooksf21/blob/main/different_plots_problems_2.ipynb\" target=\"_parent\"><img src=\"https://colab.research.google.com/assets/colab-badge.svg\" alt=\"Open In Colab\"/></a>"
      ]
    },
    {
      "cell_type": "markdown",
      "metadata": {
        "id": "2kingZIwlQcQ"
      },
      "source": [
        "# Different plots (part 2)\n",
        "Cp. \"Different plot types\" of the DataCamp course \"[Data Visualization in R](https://app.datacamp.com/learn/courses/data-visualization-in-r)\" by Ronald Pearson. \n",
        "\n",
        "In this practice notebook, you will work with the built-in dataset `trees`. "
      ]
    },
    {
      "cell_type": "markdown",
      "metadata": {
        "id": "ulvPL1KT38fg"
      },
      "source": [
        "## Structure and nature of the dataset"
      ]
    },
    {
      "cell_type": "markdown",
      "metadata": {
        "id": "TW86KRkerQbZ"
      },
      "source": [
        "What is the structure of the built-in dataset `trees`?"
      ]
    },
    {
      "cell_type": "code",
      "metadata": {
        "id": "n4-PzGMrn0M7"
      },
      "source": [
        ""
      ],
      "execution_count": null,
      "outputs": []
    },
    {
      "cell_type": "markdown",
      "metadata": {
        "id": "0H_O6jiyrVWZ"
      },
      "source": [
        "Find out more about the data by calling the `help` function. Do this outside of the notebook and copy the reference for the dataset in the text field:"
      ]
    },
    {
      "cell_type": "markdown",
      "metadata": {
        "id": "EKvsU-aauUZb"
      },
      "source": [
        "**Reference:** ...?"
      ]
    },
    {
      "cell_type": "markdown",
      "metadata": {
        "id": "VFQd4jYo4McK"
      },
      "source": [
        "## Distributions"
      ]
    },
    {
      "cell_type": "markdown",
      "metadata": {
        "id": "NsAmQ0U-sx-7"
      },
      "source": [
        "How is the volume of the different trees distributed? Plot the distribution."
      ]
    },
    {
      "cell_type": "code",
      "metadata": {
        "id": "xQ4Q-lC7pv2B"
      },
      "source": [
        ""
      ],
      "execution_count": null,
      "outputs": []
    },
    {
      "cell_type": "markdown",
      "metadata": {
        "id": "XbZQeqFZufkU"
      },
      "source": [
        "Create a smooth density estimate of this distribution."
      ]
    },
    {
      "cell_type": "code",
      "metadata": {
        "id": "tEb9l4IQoMNR"
      },
      "source": [
        ""
      ],
      "execution_count": null,
      "outputs": []
    },
    {
      "cell_type": "markdown",
      "metadata": {
        "id": "9dn3rYTP4XrO"
      },
      "source": [
        "## Summary statistics"
      ]
    },
    {
      "cell_type": "markdown",
      "metadata": {
        "id": "AxHpkrSzurOc"
      },
      "source": [
        "What's the difference between the largest and the smallest tree?"
      ]
    },
    {
      "cell_type": "code",
      "metadata": {
        "id": "OpD2c0C0s3iq"
      },
      "source": [
        ""
      ],
      "execution_count": null,
      "outputs": []
    },
    {
      "cell_type": "markdown",
      "metadata": {
        "id": "wMFWvgdNwKa6"
      },
      "source": [
        "Print the summary statistics for `trees`."
      ]
    },
    {
      "cell_type": "code",
      "metadata": {
        "id": "IDnh2hs9wHWG"
      },
      "source": [
        ""
      ],
      "execution_count": null,
      "outputs": []
    },
    {
      "cell_type": "markdown",
      "metadata": {
        "id": "z0fxWdHOvc7o"
      },
      "source": [
        "Show how the three numerical variables differ from one another in one plot. Title the plot `Tree volumes`.\n",
        "\n",
        "*Tip: this type of plot is often chosen to show outliers.*"
      ]
    },
    {
      "cell_type": "code",
      "metadata": {
        "id": "iJ1QLm3_vb_g"
      },
      "source": [
        ""
      ],
      "execution_count": null,
      "outputs": []
    },
    {
      "cell_type": "markdown",
      "metadata": {
        "id": "fR96O7Lf0Nyb"
      },
      "source": [
        "Which of the three variables has the greatest value spread?"
      ]
    },
    {
      "cell_type": "markdown",
      "metadata": {
        "id": "IzgZt7aD0UsM"
      },
      "source": [
        "**Answer:** ..."
      ]
    },
    {
      "cell_type": "markdown",
      "metadata": {
        "id": "9dx49vvl4cYf"
      },
      "source": [
        "## Correlations I"
      ]
    },
    {
      "cell_type": "markdown",
      "metadata": {
        "id": "Nop5dj_M0ndm"
      },
      "source": [
        "One of the two variables `Girth` and `Height` is more strongly correlated with the variable `Volume`. Which one is it? Title the plots appropriately.\n",
        "\n",
        "*Tip: plot the data points of either variable against `Volume` as a scatterplot.*"
      ]
    },
    {
      "cell_type": "code",
      "metadata": {
        "id": "ruKE1TtA0sU_"
      },
      "source": [
        ""
      ],
      "execution_count": null,
      "outputs": []
    },
    {
      "cell_type": "code",
      "metadata": {
        "id": "ba_9ZdPh14Ne"
      },
      "source": [
        ""
      ],
      "execution_count": null,
      "outputs": []
    },
    {
      "cell_type": "markdown",
      "metadata": {
        "id": "4CRSfmLp1-2S"
      },
      "source": [
        "**The answer:** "
      ]
    },
    {
      "cell_type": "markdown",
      "metadata": {
        "id": "bz-VUNnq4kTb"
      },
      "source": [
        "## Linear model"
      ]
    },
    {
      "cell_type": "markdown",
      "metadata": {
        "id": "Q9Xc-1Ff2j6x"
      },
      "source": [
        "Create a linear model of the dependency between the strongly correlated variables, using the function `lm()`, and store the model in a variable `linmod`."
      ]
    },
    {
      "cell_type": "code",
      "metadata": {
        "id": "CR7zJaYbryqE"
      },
      "source": [
        ""
      ],
      "execution_count": null,
      "outputs": []
    },
    {
      "cell_type": "markdown",
      "metadata": {
        "id": "uaPUUD5y23FS"
      },
      "source": [
        "Repeat the `plot()` command from earlier (so that `plot.new()` is called), and add a **thick**, **blue**, **dashed** reference line to the plot using `abline()`. The intercept and slope for this line should come from the linear model `linmod`."
      ]
    },
    {
      "cell_type": "code",
      "metadata": {
        "id": "Xd2IK5EK3GN0"
      },
      "source": [
        ""
      ],
      "execution_count": null,
      "outputs": []
    },
    {
      "cell_type": "markdown",
      "metadata": {
        "id": "V2dJHSqU3qbx"
      },
      "source": [
        "You can now see that the two variables are positively correlated."
      ]
    },
    {
      "cell_type": "markdown",
      "metadata": {
        "id": "XhrMEXvU43q1"
      },
      "source": [
        "## Correlations II"
      ]
    },
    {
      "cell_type": "markdown",
      "metadata": {
        "id": "4t3SLUvT47Qe"
      },
      "source": [
        "**Install** and **load** the package `corrplot`. "
      ]
    },
    {
      "cell_type": "code",
      "metadata": {
        "id": "zxJwHhvepLjH"
      },
      "source": [
        ""
      ],
      "execution_count": null,
      "outputs": []
    },
    {
      "cell_type": "markdown",
      "metadata": {
        "id": "CE7l4_304-9X"
      },
      "source": [
        "The `trees` dataset has three numerical variables. Create a correlation matrix using the function `cor()`, store it in an object `treeMat`, and print the matrix."
      ]
    },
    {
      "cell_type": "code",
      "metadata": {
        "id": "TjdLuqZJzlk_"
      },
      "source": [
        ""
      ],
      "execution_count": null,
      "outputs": []
    },
    {
      "cell_type": "markdown",
      "metadata": {
        "id": "IStSBRag57ns"
      },
      "source": [
        "Create a correlation plot using `treeMat`. As the `method`, choose `\"ellipse\"`. "
      ]
    },
    {
      "cell_type": "code",
      "metadata": {
        "id": "RK8eicrh6KaL"
      },
      "source": [
        ""
      ],
      "execution_count": null,
      "outputs": []
    },
    {
      "cell_type": "markdown",
      "metadata": {
        "id": "k5PvcB0h6O3U"
      },
      "source": [
        "You now have a different visualization of the correlation between the variables."
      ]
    }
  ]
}