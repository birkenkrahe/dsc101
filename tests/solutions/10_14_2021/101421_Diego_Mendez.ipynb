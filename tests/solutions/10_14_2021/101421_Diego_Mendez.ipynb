{
  "nbformat": 4,
  "nbformat_minor": 0,
  "metadata": {
    "colab": {
      "name": "Copy of EDA_basics_problems.ipynb",
      "provenance": [],
      "collapsed_sections": []
    },
    "kernelspec": {
      "name": "ir",
      "display_name": "R"
    },
    "language_info": {
      "name": "R"
    }
  },
  "cells": [
    {
      "cell_type": "markdown",
      "metadata": {
        "id": "FklNdR300qSS"
      },
      "source": [
        "# EDA Basics - Problem Set\n",
        "## Instructions\n",
        "* This problem set leads you through a short Exploratory Data Analysis session with a simple, small, built-in dataset.\n",
        "* Open the table of contents to get an overview of the different problem parts.\n",
        "* Work through the following problems at your own pace or during a class session with a time limit of 30 minutes - including the time to learn how to operate the online notebook. \n",
        "* Create code chunks when necessary and execute them to see the output.\n",
        "* You can compare with the solution set when you're done, and when you've exhausted all avenues of help, including: R's onboard `help()` facility (invoke this from the interactive console or in a web browser, but not in this notebook - help pages don't render well); the web with discussion forums like [stackoverflow.com](https://stackoverflow.com) (register!); asking me for hints.\n",
        "* Use your own copy of the notebook to take notes and reflect on false stops and starts - turn this problem set into a lesson of it own.\n",
        "* Notebooks can be shared with other people in the same organization, e.g. to get comments, or to collaborate."
      ]
    },
    {
      "cell_type": "markdown",
      "metadata": {
        "id": "JccL0a9I2Cn_"
      },
      "source": [
        "## Find the dataset\n",
        "Base R includes a package of data sets called \"datasets\". It contains data on \"Areas of the World's Major Landmasses\". \n",
        "\n",
        "What's the name of this dataset?\n",
        "\n",
        "*Hint: add a code chunk below the line `Enter solution below`. To add a code chunk, use the `+ Code` menu at the top of the screen, or define a keyboard shortcut in the menu (opens with `CTRL + m + h`).*"
      ]
    },
    {
      "cell_type": "markdown",
      "metadata": {
        "id": "7ko65b9o26Mu"
      },
      "source": [
        "**Enter solution below:**"
      ]
    },
    {
      "cell_type": "code",
      "metadata": {
        "id": "02m6YYT-IRQu"
      },
      "source": [
        "data()"
      ],
      "execution_count": 4,
      "outputs": []
    },
    {
      "cell_type": "markdown",
      "metadata": {
        "id": "CGxomVxU4zrc"
      },
      "source": [
        "## Load the dataset\n",
        "1. Load the dataset with the \"Areas of the World's Major Landmasses\"\n",
        "2. Print the first 10 lines."
      ]
    },
    {
      "cell_type": "markdown",
      "metadata": {
        "id": "J9olB1bx_Fut"
      },
      "source": [
        "**Enter solution below:**"
      ]
    },
    {
      "cell_type": "code",
      "metadata": {
        "colab": {
          "base_uri": "https://localhost:8080/",
          "height": 119
        },
        "id": "cl7ZlWNiJZXp",
        "outputId": "1112629a-0a77-4331-ff3a-2231d507ef13"
      },
      "source": [
        "islands"
      ],
      "execution_count": 6,
      "outputs": [
        {
          "output_type": "display_data",
          "data": {
            "text/plain": [
              "          Africa       Antarctica             Asia        Australia \n",
              "           11506             5500            16988             2968 \n",
              "    Axel Heiberg           Baffin            Banks           Borneo \n",
              "              16              184               23              280 \n",
              "         Britain          Celebes            Celon             Cuba \n",
              "              84               73               25               43 \n",
              "           Devon        Ellesmere           Europe        Greenland \n",
              "              21               82             3745              840 \n",
              "          Hainan       Hispaniola         Hokkaido           Honshu \n",
              "              13               30               30               89 \n",
              "         Iceland          Ireland             Java           Kyushu \n",
              "              40               33               49               14 \n",
              "           Luzon       Madagascar         Melville         Mindanao \n",
              "              42              227               16               36 \n",
              "        Moluccas      New Britain       New Guinea  New Zealand (N) \n",
              "              29               15              306               44 \n",
              " New Zealand (S)     Newfoundland    North America    Novaya Zemlya \n",
              "              58               43             9390               32 \n",
              " Prince of Wales         Sakhalin    South America      Southampton \n",
              "              13               29             6795               16 \n",
              "     Spitsbergen          Sumatra           Taiwan         Tasmania \n",
              "              15              183               14               26 \n",
              "Tierra del Fuego            Timor        Vancouver         Victoria \n",
              "              19               13               12               82 "
            ],
            "text/latex": "\\begin{description*}\n\\item[Africa] 11506\n\\item[Antarctica] 5500\n\\item[Asia] 16988\n\\item[Australia] 2968\n\\item[Axel Heiberg] 16\n\\item[Baffin] 184\n\\item[Banks] 23\n\\item[Borneo] 280\n\\item[Britain] 84\n\\item[Celebes] 73\n\\item[Celon] 25\n\\item[Cuba] 43\n\\item[Devon] 21\n\\item[Ellesmere] 82\n\\item[Europe] 3745\n\\item[Greenland] 840\n\\item[Hainan] 13\n\\item[Hispaniola] 30\n\\item[Hokkaido] 30\n\\item[Honshu] 89\n\\item[Iceland] 40\n\\item[Ireland] 33\n\\item[Java] 49\n\\item[Kyushu] 14\n\\item[Luzon] 42\n\\item[Madagascar] 227\n\\item[Melville] 16\n\\item[Mindanao] 36\n\\item[Moluccas] 29\n\\item[New Britain] 15\n\\item[New Guinea] 306\n\\item[New Zealand (N)] 44\n\\item[New Zealand (S)] 58\n\\item[Newfoundland] 43\n\\item[North America] 9390\n\\item[Novaya Zemlya] 32\n\\item[Prince of Wales] 13\n\\item[Sakhalin] 29\n\\item[South America] 6795\n\\item[Southampton] 16\n\\item[Spitsbergen] 15\n\\item[Sumatra] 183\n\\item[Taiwan] 14\n\\item[Tasmania] 26\n\\item[Tierra del Fuego] 19\n\\item[Timor] 13\n\\item[Vancouver] 12\n\\item[Victoria] 82\n\\end{description*}\n",
            "text/markdown": "Africa\n:   11506Antarctica\n:   5500Asia\n:   16988Australia\n:   2968Axel Heiberg\n:   16Baffin\n:   184Banks\n:   23Borneo\n:   280Britain\n:   84Celebes\n:   73Celon\n:   25Cuba\n:   43Devon\n:   21Ellesmere\n:   82Europe\n:   3745Greenland\n:   840Hainan\n:   13Hispaniola\n:   30Hokkaido\n:   30Honshu\n:   89Iceland\n:   40Ireland\n:   33Java\n:   49Kyushu\n:   14Luzon\n:   42Madagascar\n:   227Melville\n:   16Mindanao\n:   36Moluccas\n:   29New Britain\n:   15New Guinea\n:   306New Zealand (N)\n:   44New Zealand (S)\n:   58Newfoundland\n:   43North America\n:   9390Novaya Zemlya\n:   32Prince of Wales\n:   13Sakhalin\n:   29South America\n:   6795Southampton\n:   16Spitsbergen\n:   15Sumatra\n:   183Taiwan\n:   14Tasmania\n:   26Tierra del Fuego\n:   19Timor\n:   13Vancouver\n:   12Victoria\n:   82\n\n",
            "text/html": [
              "<style>\n",
              ".dl-inline {width: auto; margin:0; padding: 0}\n",
              ".dl-inline>dt, .dl-inline>dd {float: none; width: auto; display: inline-block}\n",
              ".dl-inline>dt::after {content: \":\\0020\"; padding-right: .5ex}\n",
              ".dl-inline>dt:not(:first-of-type) {padding-left: .5ex}\n",
              "</style><dl class=dl-inline><dt>Africa</dt><dd>11506</dd><dt>Antarctica</dt><dd>5500</dd><dt>Asia</dt><dd>16988</dd><dt>Australia</dt><dd>2968</dd><dt>Axel Heiberg</dt><dd>16</dd><dt>Baffin</dt><dd>184</dd><dt>Banks</dt><dd>23</dd><dt>Borneo</dt><dd>280</dd><dt>Britain</dt><dd>84</dd><dt>Celebes</dt><dd>73</dd><dt>Celon</dt><dd>25</dd><dt>Cuba</dt><dd>43</dd><dt>Devon</dt><dd>21</dd><dt>Ellesmere</dt><dd>82</dd><dt>Europe</dt><dd>3745</dd><dt>Greenland</dt><dd>840</dd><dt>Hainan</dt><dd>13</dd><dt>Hispaniola</dt><dd>30</dd><dt>Hokkaido</dt><dd>30</dd><dt>Honshu</dt><dd>89</dd><dt>Iceland</dt><dd>40</dd><dt>Ireland</dt><dd>33</dd><dt>Java</dt><dd>49</dd><dt>Kyushu</dt><dd>14</dd><dt>Luzon</dt><dd>42</dd><dt>Madagascar</dt><dd>227</dd><dt>Melville</dt><dd>16</dd><dt>Mindanao</dt><dd>36</dd><dt>Moluccas</dt><dd>29</dd><dt>New Britain</dt><dd>15</dd><dt>New Guinea</dt><dd>306</dd><dt>New Zealand (N)</dt><dd>44</dd><dt>New Zealand (S)</dt><dd>58</dd><dt>Newfoundland</dt><dd>43</dd><dt>North America</dt><dd>9390</dd><dt>Novaya Zemlya</dt><dd>32</dd><dt>Prince of Wales</dt><dd>13</dd><dt>Sakhalin</dt><dd>29</dd><dt>South America</dt><dd>6795</dd><dt>Southampton</dt><dd>16</dd><dt>Spitsbergen</dt><dd>15</dd><dt>Sumatra</dt><dd>183</dd><dt>Taiwan</dt><dd>14</dd><dt>Tasmania</dt><dd>26</dd><dt>Tierra del Fuego</dt><dd>19</dd><dt>Timor</dt><dd>13</dd><dt>Vancouver</dt><dd>12</dd><dt>Victoria</dt><dd>82</dd></dl>\n"
            ]
          },
          "metadata": {}
        }
      ]
    },
    {
      "cell_type": "code",
      "metadata": {
        "colab": {
          "base_uri": "https://localhost:8080/",
          "height": 34
        },
        "id": "cHjwjrhfJci5",
        "outputId": "abb0d64f-4407-4fdf-b07f-e0c5c0db572a"
      },
      "source": [
        "head(islands)"
      ],
      "execution_count": 11,
      "outputs": [
        {
          "output_type": "display_data",
          "data": {
            "text/plain": [
              "      Africa   Antarctica         Asia    Australia Axel Heiberg       Baffin \n",
              "       11506         5500        16988         2968           16          184 "
            ],
            "text/latex": "\\begin{description*}\n\\item[Africa] 11506\n\\item[Antarctica] 5500\n\\item[Asia] 16988\n\\item[Australia] 2968\n\\item[Axel Heiberg] 16\n\\item[Baffin] 184\n\\end{description*}\n",
            "text/markdown": "Africa\n:   11506Antarctica\n:   5500Asia\n:   16988Australia\n:   2968Axel Heiberg\n:   16Baffin\n:   184\n\n",
            "text/html": [
              "<style>\n",
              ".dl-inline {width: auto; margin:0; padding: 0}\n",
              ".dl-inline>dt, .dl-inline>dd {float: none; width: auto; display: inline-block}\n",
              ".dl-inline>dt::after {content: \":\\0020\"; padding-right: .5ex}\n",
              ".dl-inline>dt:not(:first-of-type) {padding-left: .5ex}\n",
              "</style><dl class=dl-inline><dt>Africa</dt><dd>11506</dd><dt>Antarctica</dt><dd>5500</dd><dt>Asia</dt><dd>16988</dd><dt>Australia</dt><dd>2968</dd><dt>Axel Heiberg</dt><dd>16</dd><dt>Baffin</dt><dd>184</dd></dl>\n"
            ]
          },
          "metadata": {}
        }
      ]
    },
    {
      "cell_type": "code",
      "metadata": {
        "colab": {
          "base_uri": "https://localhost:8080/",
          "height": 51
        },
        "id": "RQ_2e2gnJz9a",
        "outputId": "bde96901-6e36-40b8-d6a4-b74370954de4"
      },
      "source": [
        "head(islands,10)"
      ],
      "execution_count": 14,
      "outputs": [
        {
          "output_type": "display_data",
          "data": {
            "text/plain": [
              "      Africa   Antarctica         Asia    Australia Axel Heiberg       Baffin \n",
              "       11506         5500        16988         2968           16          184 \n",
              "       Banks       Borneo      Britain      Celebes \n",
              "          23          280           84           73 "
            ],
            "text/latex": "\\begin{description*}\n\\item[Africa] 11506\n\\item[Antarctica] 5500\n\\item[Asia] 16988\n\\item[Australia] 2968\n\\item[Axel Heiberg] 16\n\\item[Baffin] 184\n\\item[Banks] 23\n\\item[Borneo] 280\n\\item[Britain] 84\n\\item[Celebes] 73\n\\end{description*}\n",
            "text/markdown": "Africa\n:   11506Antarctica\n:   5500Asia\n:   16988Australia\n:   2968Axel Heiberg\n:   16Baffin\n:   184Banks\n:   23Borneo\n:   280Britain\n:   84Celebes\n:   73\n\n",
            "text/html": [
              "<style>\n",
              ".dl-inline {width: auto; margin:0; padding: 0}\n",
              ".dl-inline>dt, .dl-inline>dd {float: none; width: auto; display: inline-block}\n",
              ".dl-inline>dt::after {content: \":\\0020\"; padding-right: .5ex}\n",
              ".dl-inline>dt:not(:first-of-type) {padding-left: .5ex}\n",
              "</style><dl class=dl-inline><dt>Africa</dt><dd>11506</dd><dt>Antarctica</dt><dd>5500</dd><dt>Asia</dt><dd>16988</dd><dt>Australia</dt><dd>2968</dd><dt>Axel Heiberg</dt><dd>16</dd><dt>Baffin</dt><dd>184</dd><dt>Banks</dt><dd>23</dd><dt>Borneo</dt><dd>280</dd><dt>Britain</dt><dd>84</dd><dt>Celebes</dt><dd>73</dd></dl>\n"
            ]
          },
          "metadata": {}
        }
      ]
    },
    {
      "cell_type": "markdown",
      "metadata": {
        "id": "L4pDBouI9HUC"
      },
      "source": [
        "## Check data structure\n",
        "1. What kind of data structure is this dataset? - *Enter the command in a code cell, and then answer the question in the directly following text cell.*\n",
        "2. How many landmass areas does the dataset contain?\n",
        "\n",
        "*Bonus question: how many `methods` does the generic function contain that is used to check data structure?*"
      ]
    },
    {
      "cell_type": "markdown",
      "metadata": {
        "id": "KbdraOIC_A1M"
      },
      "source": [
        "**Enter solution below:**"
      ]
    },
    {
      "cell_type": "code",
      "metadata": {
        "colab": {
          "base_uri": "https://localhost:8080/"
        },
        "id": "0skJEdgNKFOT",
        "outputId": "63679b08-388a-455b-8b7b-746f661ef9a2"
      },
      "source": [
        "str(islands)"
      ],
      "execution_count": 15,
      "outputs": [
        {
          "output_type": "stream",
          "name": "stdout",
          "text": [
            " Named num [1:48] 11506 5500 16988 2968 16 ...\n",
            " - attr(*, \"names\")= chr [1:48] \"Africa\" \"Antarctica\" \"Asia\" \"Australia\" ...\n"
          ]
        }
      ]
    },
    {
      "cell_type": "markdown",
      "metadata": {
        "id": "r9J75wCbL6OO"
      },
      "source": [
        "48"
      ]
    },
    {
      "cell_type": "markdown",
      "metadata": {
        "id": "UQYoE4vRABHT"
      },
      "source": [
        "## Check object type\n",
        "What type of R object is this dataset?"
      ]
    },
    {
      "cell_type": "markdown",
      "metadata": {
        "id": "Id8f6Y-wES0U"
      },
      "source": [
        "**Enter solution below:**"
      ]
    },
    {
      "cell_type": "code",
      "metadata": {
        "colab": {
          "base_uri": "https://localhost:8080/",
          "height": 34
        },
        "id": "q5dt_A6MKig7",
        "outputId": "ce22e794-9465-4957-9b0e-98131e7871c1"
      },
      "source": [
        "typeof(islands)"
      ],
      "execution_count": 25,
      "outputs": [
        {
          "output_type": "display_data",
          "data": {
            "text/plain": [
              "[1] \"double\""
            ],
            "text/latex": "'double'",
            "text/markdown": "'double'",
            "text/html": [
              "'double'"
            ]
          },
          "metadata": {}
        }
      ]
    },
    {
      "cell_type": "markdown",
      "metadata": {
        "id": "_f1TSZLxGbNw"
      },
      "source": [
        "## Get to know the data\n",
        "1. Which area landmass is the largest? \n",
        "2. How large is it in square miles?\n",
        "\n",
        "*Hint: to answer (1), use the `max()` function to identify the largest landmass, and then extract the vector element using `[]`.*"
      ]
    },
    {
      "cell_type": "markdown",
      "metadata": {
        "id": "nnopB1ErH-lM"
      },
      "source": [
        "**Enter solution below:**"
      ]
    },
    {
      "cell_type": "code",
      "metadata": {
        "colab": {
          "base_uri": "https://localhost:8080/",
          "height": 34
        },
        "id": "q-rvDZx7Kj67",
        "outputId": "96f33cc6-b996-4255-f0ff-d19a9b1cfa00"
      },
      "source": [
        "which.max(islands)"
      ],
      "execution_count": 16,
      "outputs": [
        {
          "output_type": "display_data",
          "data": {
            "text/plain": [
              "Asia \n",
              "   3 "
            ],
            "text/latex": "\\textbf{Asia:} 3",
            "text/markdown": "**Asia:** 3",
            "text/html": [
              "<strong>Asia:</strong> 3"
            ]
          },
          "metadata": {}
        }
      ]
    },
    {
      "cell_type": "code",
      "metadata": {
        "colab": {
          "base_uri": "https://localhost:8080/",
          "height": 34
        },
        "id": "E64XbZpHKpuz",
        "outputId": "c42634b1-efdb-4395-9bf9-778597841e14"
      },
      "source": [
        "max(islands)"
      ],
      "execution_count": 17,
      "outputs": [
        {
          "output_type": "display_data",
          "data": {
            "text/plain": [
              "[1] 16988"
            ],
            "text/latex": "16988",
            "text/markdown": "16988",
            "text/html": [
              "16988"
            ]
          },
          "metadata": {}
        }
      ]
    },
    {
      "cell_type": "code",
      "metadata": {
        "colab": {
          "base_uri": "https://localhost:8080/",
          "height": 34
        },
        "id": "lc_p2BhAK9L8",
        "outputId": "9d6e5040-84ff-4d3e-b838-42362c56a5b1"
      },
      "source": [
        "islands[which.max(islands)]"
      ],
      "execution_count": 21,
      "outputs": [
        {
          "output_type": "display_data",
          "data": {
            "text/plain": [
              " Asia \n",
              "16988 "
            ],
            "text/latex": "\\textbf{Asia:} 16988",
            "text/markdown": "**Asia:** 16988",
            "text/html": [
              "<strong>Asia:</strong> 16988"
            ]
          },
          "metadata": {}
        }
      ]
    },
    {
      "cell_type": "markdown",
      "metadata": {
        "id": "C-uwiSeFJuKX"
      },
      "source": [
        "3. What is the size of the *average* landmass in the dataset?"
      ]
    },
    {
      "cell_type": "code",
      "metadata": {
        "colab": {
          "base_uri": "https://localhost:8080/",
          "height": 51
        },
        "id": "tI_1VyZxMdIH",
        "outputId": "09b98ebc-ed97-4729-f6bd-6f1afa2999d6"
      },
      "source": [
        "summary(islands)"
      ],
      "execution_count": 33,
      "outputs": [
        {
          "output_type": "display_data",
          "data": {
            "text/plain": [
              "   Min. 1st Qu.  Median    Mean 3rd Qu.    Max. \n",
              "   12.0    20.5    41.0  1252.7   183.2 16988.0 "
            ]
          },
          "metadata": {}
        }
      ]
    },
    {
      "cell_type": "code",
      "metadata": {
        "colab": {
          "base_uri": "https://localhost:8080/",
          "height": 34
        },
        "id": "tFI0CUziNJqo",
        "outputId": "24c81ac9-576d-4fdb-b141-603b3cfb0461"
      },
      "source": [
        "mean(islands)"
      ],
      "execution_count": 34,
      "outputs": [
        {
          "output_type": "display_data",
          "data": {
            "text/plain": [
              "[1] 1252.729"
            ],
            "text/latex": "1252.72916666667",
            "text/markdown": "1252.72916666667",
            "text/html": [
              "1252.72916666667"
            ]
          },
          "metadata": {}
        }
      ]
    },
    {
      "cell_type": "markdown",
      "metadata": {
        "id": "9rHnKW9VJ4Zl"
      },
      "source": [
        "**Enter solution below:**"
      ]
    },
    {
      "cell_type": "markdown",
      "metadata": {
        "id": "IckSD5eKKHpJ"
      },
      "source": [
        "4. How are the landmasses in the dataset called?"
      ]
    },
    {
      "cell_type": "markdown",
      "metadata": {
        "id": "U4Oj82x0KQLz"
      },
      "source": [
        "**Enter solution below:**"
      ]
    },
    {
      "cell_type": "markdown",
      "metadata": {
        "id": "KYCd5y59KgLB"
      },
      "source": [
        "5. What is the difference between the largest and the smallest landmass of the dataset?\n",
        "\n",
        "*Bonus question: solve this question using the `summary` function in two lines of code.*"
      ]
    },
    {
      "cell_type": "code",
      "metadata": {
        "colab": {
          "base_uri": "https://localhost:8080/",
          "height": 51
        },
        "id": "8PTJVLiENTxR",
        "outputId": "9d0d2671-a158-4ad2-b8a0-c1971b4b4ff6"
      },
      "source": [
        "summary(islands)"
      ],
      "execution_count": 35,
      "outputs": [
        {
          "output_type": "display_data",
          "data": {
            "text/plain": [
              "   Min. 1st Qu.  Median    Mean 3rd Qu.    Max. \n",
              "   12.0    20.5    41.0  1252.7   183.2 16988.0 "
            ]
          },
          "metadata": {}
        }
      ]
    },
    {
      "cell_type": "code",
      "metadata": {
        "colab": {
          "base_uri": "https://localhost:8080/",
          "height": 34
        },
        "id": "QkARLMEqNWto",
        "outputId": "89af1781-17d7-4031-c36f-27a8ea138d8b"
      },
      "source": [
        "16988.0 - 12.0"
      ],
      "execution_count": 36,
      "outputs": [
        {
          "output_type": "display_data",
          "data": {
            "text/plain": [
              "[1] 16976"
            ],
            "text/latex": "16976",
            "text/markdown": "16976",
            "text/html": [
              "16976"
            ]
          },
          "metadata": {}
        }
      ]
    },
    {
      "cell_type": "markdown",
      "metadata": {
        "id": "h7IvmooqLphU"
      },
      "source": [
        "**Enter solution below:**"
      ]
    },
    {
      "cell_type": "markdown",
      "metadata": {
        "id": "o3NpALvuJXjW"
      },
      "source": [
        "## Plot the data\n",
        "1. Plot an approximate representation of the distribution of the data in the dataset."
      ]
    },
    {
      "cell_type": "code",
      "metadata": {
        "colab": {
          "base_uri": "https://localhost:8080/",
          "height": 1000
        },
        "id": "TLI11hMMNh9I",
        "outputId": "1a1a8d57-c9da-46b1-fa16-f6aa557d61df"
      },
      "source": [
        "dist(islands)"
      ],
      "execution_count": 42,
      "outputs": [
        {
          "output_type": "display_data",
          "data": {
            "text/plain": [
              "                 Africa Antarctica  Asia Australia Axel Heiberg Baffin Banks\n",
              "Antarctica         6006                                                     \n",
              "Asia               5482      11488                                          \n",
              "Australia          8538       2532 14020                                    \n",
              "Axel Heiberg      11490       5484 16972      2952                          \n",
              "Baffin            11322       5316 16804      2784          168             \n",
              "Banks             11483       5477 16965      2945            7    161      \n",
              "Borneo            11226       5220 16708      2688          264     96   257\n",
              "Britain           11422       5416 16904      2884           68    100    61\n",
              "Celebes           11433       5427 16915      2895           57    111    50\n",
              "Celon             11481       5475 16963      2943            9    159     2\n",
              "Cuba              11463       5457 16945      2925           27    141    20\n",
              "Devon             11485       5479 16967      2947            5    163     2\n",
              "Ellesmere         11424       5418 16906      2886           66    102    59\n",
              "Europe             7761       1755 13243       777         3729   3561  3722\n",
              "Greenland         10666       4660 16148      2128          824    656   817\n",
              "Hainan            11493       5487 16975      2955            3    171    10\n",
              "Hispaniola        11476       5470 16958      2938           14    154     7\n",
              "Hokkaido          11476       5470 16958      2938           14    154     7\n",
              "Honshu            11417       5411 16899      2879           73     95    66\n",
              "Iceland           11466       5460 16948      2928           24    144    17\n",
              "Ireland           11473       5467 16955      2935           17    151    10\n",
              "Java              11457       5451 16939      2919           33    135    26\n",
              "Kyushu            11492       5486 16974      2954            2    170     9\n",
              "Luzon             11464       5458 16946      2926           26    142    19\n",
              "Madagascar        11279       5273 16761      2741          211     43   204\n",
              "Melville          11490       5484 16972      2952            0    168     7\n",
              "Mindanao          11470       5464 16952      2932           20    148    13\n",
              "Moluccas          11477       5471 16959      2939           13    155     6\n",
              "New Britain       11491       5485 16973      2953            1    169     8\n",
              "New Guinea        11200       5194 16682      2662          290    122   283\n",
              "New Zealand (N)   11462       5456 16944      2924           28    140    21\n",
              "New Zealand (S)   11448       5442 16930      2910           42    126    35\n",
              "Newfoundland      11463       5457 16945      2925           27    141    20\n",
              "North America      2116       3890  7598      6422         9374   9206  9367\n",
              "Novaya Zemlya     11474       5468 16956      2936           16    152     9\n",
              "Prince of Wales   11493       5487 16975      2955            3    171    10\n",
              "Sakhalin          11477       5471 16959      2939           13    155     6\n",
              "South America      4711       1295 10193      3827         6779   6611  6772\n",
              "Southampton       11490       5484 16972      2952            0    168     7\n",
              "Spitsbergen       11491       5485 16973      2953            1    169     8\n",
              "Sumatra           11323       5317 16805      2785          167      1   160\n",
              "Taiwan            11492       5486 16974      2954            2    170     9\n",
              "Tasmania          11480       5474 16962      2942           10    158     3\n",
              "Tierra del Fuego  11487       5481 16969      2949            3    165     4\n",
              "Timor             11493       5487 16975      2955            3    171    10\n",
              "Vancouver         11494       5488 16976      2956            4    172    11\n",
              "Victoria          11424       5418 16906      2886           66    102    59\n",
              "                 Borneo Britain Celebes Celon  Cuba Devon Ellesmere Europe\n",
              "Antarctica                                                                \n",
              "Asia                                                                      \n",
              "Australia                                                                 \n",
              "Axel Heiberg                                                              \n",
              "Baffin                                                                    \n",
              "Banks                                                                     \n",
              "Borneo                                                                    \n",
              "Britain             196                                                   \n",
              "Celebes             207      11                                           \n",
              "Celon               255      59      48                                   \n",
              "Cuba                237      41      30    18                             \n",
              "Devon               259      63      52     4    22                       \n",
              "Ellesmere           198       2       9    57    39    61                 \n",
              "Europe             3465    3661    3672  3720  3702  3724      3663       \n",
              "Greenland           560     756     767   815   797   819       758   2905\n",
              "Hainan              267      71      60    12    30     8        69   3732\n",
              "Hispaniola          250      54      43     5    13     9        52   3715\n",
              "Hokkaido            250      54      43     5    13     9        52   3715\n",
              "Honshu              191       5      16    64    46    68         7   3656\n",
              "Iceland             240      44      33    15     3    19        42   3705\n",
              "Ireland             247      51      40     8    10    12        49   3712\n",
              "Java                231      35      24    24     6    28        33   3696\n",
              "Kyushu              266      70      59    11    29     7        68   3731\n",
              "Luzon               238      42      31    17     1    21        40   3703\n",
              "Madagascar           53     143     154   202   184   206       145   3518\n",
              "Melville            264      68      57     9    27     5        66   3729\n",
              "Mindanao            244      48      37    11     7    15        46   3709\n",
              "Moluccas            251      55      44     4    14     8        53   3716\n",
              "New Britain         265      69      58    10    28     6        67   3730\n",
              "New Guinea           26     222     233   281   263   285       224   3439\n",
              "New Zealand (N)     236      40      29    19     1    23        38   3701\n",
              "New Zealand (S)     222      26      15    33    15    37        24   3687\n",
              "Newfoundland        237      41      30    18     0    22        39   3702\n",
              "North America      9110    9306    9317  9365  9347  9369      9308   5645\n",
              "Novaya Zemlya       248      52      41     7    11    11        50   3713\n",
              "Prince of Wales     267      71      60    12    30     8        69   3732\n",
              "Sakhalin            251      55      44     4    14     8        53   3716\n",
              "South America      6515    6711    6722  6770  6752  6774      6713   3050\n",
              "Southampton         264      68      57     9    27     5        66   3729\n",
              "Spitsbergen         265      69      58    10    28     6        67   3730\n",
              "Sumatra              97      99     110   158   140   162       101   3562\n",
              "Taiwan              266      70      59    11    29     7        68   3731\n",
              "Tasmania            254      58      47     1    17     5        56   3719\n",
              "Tierra del Fuego    261      65      54     6    24     2        63   3726\n",
              "Timor               267      71      60    12    30     8        69   3732\n",
              "Vancouver           268      72      61    13    31     9        70   3733\n",
              "Victoria            198       2       9    57    39    61         0   3663\n",
              "                 Greenland Hainan Hispaniola Hokkaido Honshu Iceland Ireland\n",
              "Antarctica                                                                  \n",
              "Asia                                                                        \n",
              "Australia                                                                   \n",
              "Axel Heiberg                                                                \n",
              "Baffin                                                                      \n",
              "Banks                                                                       \n",
              "Borneo                                                                      \n",
              "Britain                                                                     \n",
              "Celebes                                                                     \n",
              "Celon                                                                       \n",
              "Cuba                                                                        \n",
              "Devon                                                                       \n",
              "Ellesmere                                                                   \n",
              "Europe                                                                      \n",
              "Greenland                                                                   \n",
              "Hainan                 827                                                  \n",
              "Hispaniola             810     17                                           \n",
              "Hokkaido               810     17          0                                \n",
              "Honshu                 751     76         59       59                       \n",
              "Iceland                800     27         10       10     49                \n",
              "Ireland                807     20          3        3     56       7        \n",
              "Java                   791     36         19       19     40       9      16\n",
              "Kyushu                 826      1         16       16     75      26      19\n",
              "Luzon                  798     29         12       12     47       2       9\n",
              "Madagascar             613    214        197      197    138     187     194\n",
              "Melville               824      3         14       14     73      24      17\n",
              "Mindanao               804     23          6        6     53       4       3\n",
              "Moluccas               811     16          1        1     60      11       4\n",
              "New Britain            825      2         15       15     74      25      18\n",
              "New Guinea             534    293        276      276    217     266     273\n",
              "New Zealand (N)        796     31         14       14     45       4      11\n",
              "New Zealand (S)        782     45         28       28     31      18      25\n",
              "Newfoundland           797     30         13       13     46       3      10\n",
              "North America         8550   9377       9360     9360   9301    9350    9357\n",
              "Novaya Zemlya          808     19          2        2     57       8       1\n",
              "Prince of Wales        827      0         17       17     76      27      20\n",
              "Sakhalin               811     16          1        1     60      11       4\n",
              "South America         5955   6782       6765     6765   6706    6755    6762\n",
              "Southampton            824      3         14       14     73      24      17\n",
              "Spitsbergen            825      2         15       15     74      25      18\n",
              "Sumatra                657    170        153      153     94     143     150\n",
              "Taiwan                 826      1         16       16     75      26      19\n",
              "Tasmania               814     13          4        4     63      14       7\n",
              "Tierra del Fuego       821      6         11       11     70      21      14\n",
              "Timor                  827      0         17       17     76      27      20\n",
              "Vancouver              828      1         18       18     77      28      21\n",
              "Victoria               758     69         52       52      7      42      49\n",
              "                  Java Kyushu Luzon Madagascar Melville Mindanao Moluccas\n",
              "Antarctica                                                               \n",
              "Asia                                                                     \n",
              "Australia                                                                \n",
              "Axel Heiberg                                                             \n",
              "Baffin                                                                   \n",
              "Banks                                                                    \n",
              "Borneo                                                                   \n",
              "Britain                                                                  \n",
              "Celebes                                                                  \n",
              "Celon                                                                    \n",
              "Cuba                                                                     \n",
              "Devon                                                                    \n",
              "Ellesmere                                                                \n",
              "Europe                                                                   \n",
              "Greenland                                                                \n",
              "Hainan                                                                   \n",
              "Hispaniola                                                               \n",
              "Hokkaido                                                                 \n",
              "Honshu                                                                   \n",
              "Iceland                                                                  \n",
              "Ireland                                                                  \n",
              "Java                                                                     \n",
              "Kyushu              35                                                   \n",
              "Luzon                7     28                                            \n",
              "Madagascar         178    213   185                                      \n",
              "Melville            33      2    26        211                           \n",
              "Mindanao            13     22     6        191       20                  \n",
              "Moluccas            20     15    13        198       13        7         \n",
              "New Britain         34      1    27        212        1       21       14\n",
              "New Guinea         257    292   264         79      290      270      277\n",
              "New Zealand (N)      5     30     2        183       28        8       15\n",
              "New Zealand (S)      9     44    16        169       42       22       29\n",
              "Newfoundland         6     29     1        184       27        7       14\n",
              "North America     9341   9376  9348       9163     9374     9354     9361\n",
              "Novaya Zemlya       17     18    10        195       16        4        3\n",
              "Prince of Wales     36      1    29        214        3       23       16\n",
              "Sakhalin            20     15    13        198       13        7        0\n",
              "South America     6746   6781  6753       6568     6779     6759     6766\n",
              "Southampton         33      2    26        211        0       20       13\n",
              "Spitsbergen         34      1    27        212        1       21       14\n",
              "Sumatra            134    169   141         44      167      147      154\n",
              "Taiwan              35      0    28        213        2       22       15\n",
              "Tasmania            23     12    16        201       10       10        3\n",
              "Tierra del Fuego    30      5    23        208        3       17       10\n",
              "Timor               36      1    29        214        3       23       16\n",
              "Vancouver           37      2    30        215        4       24       17\n",
              "Victoria            33     68    40        145       66       46       53\n",
              "                 New Britain New Guinea New Zealand (N) New Zealand (S)\n",
              "Antarctica                                                             \n",
              "Asia                                                                   \n",
              "Australia                                                              \n",
              "Axel Heiberg                                                           \n",
              "Baffin                                                                 \n",
              "Banks                                                                  \n",
              "Borneo                                                                 \n",
              "Britain                                                                \n",
              "Celebes                                                                \n",
              "Celon                                                                  \n",
              "Cuba                                                                   \n",
              "Devon                                                                  \n",
              "Ellesmere                                                              \n",
              "Europe                                                                 \n",
              "Greenland                                                              \n",
              "Hainan                                                                 \n",
              "Hispaniola                                                             \n",
              "Hokkaido                                                               \n",
              "Honshu                                                                 \n",
              "Iceland                                                                \n",
              "Ireland                                                                \n",
              "Java                                                                   \n",
              "Kyushu                                                                 \n",
              "Luzon                                                                  \n",
              "Madagascar                                                             \n",
              "Melville                                                               \n",
              "Mindanao                                                               \n",
              "Moluccas                                                               \n",
              "New Britain                                                            \n",
              "New Guinea               291                                           \n",
              "New Zealand (N)           29        262                                \n",
              "New Zealand (S)           43        248              14                \n",
              "Newfoundland              28        263               1              15\n",
              "North America           9375       9084            9346            9332\n",
              "Novaya Zemlya             17        274              12              26\n",
              "Prince of Wales            2        293              31              45\n",
              "Sakhalin                  14        277              15              29\n",
              "South America           6780       6489            6751            6737\n",
              "Southampton                1        290              28              42\n",
              "Spitsbergen                0        291              29              43\n",
              "Sumatra                  168        123             139             125\n",
              "Taiwan                     1        292              30              44\n",
              "Tasmania                  11        280              18              32\n",
              "Tierra del Fuego           4        287              25              39\n",
              "Timor                      2        293              31              45\n",
              "Vancouver                  3        294              32              46\n",
              "Victoria                  67        224              38              24\n",
              "                 Newfoundland North America Novaya Zemlya Prince of Wales\n",
              "Antarctica                                                               \n",
              "Asia                                                                     \n",
              "Australia                                                                \n",
              "Axel Heiberg                                                             \n",
              "Baffin                                                                   \n",
              "Banks                                                                    \n",
              "Borneo                                                                   \n",
              "Britain                                                                  \n",
              "Celebes                                                                  \n",
              "Celon                                                                    \n",
              "Cuba                                                                     \n",
              "Devon                                                                    \n",
              "Ellesmere                                                                \n",
              "Europe                                                                   \n",
              "Greenland                                                                \n",
              "Hainan                                                                   \n",
              "Hispaniola                                                               \n",
              "Hokkaido                                                                 \n",
              "Honshu                                                                   \n",
              "Iceland                                                                  \n",
              "Ireland                                                                  \n",
              "Java                                                                     \n",
              "Kyushu                                                                   \n",
              "Luzon                                                                    \n",
              "Madagascar                                                               \n",
              "Melville                                                                 \n",
              "Mindanao                                                                 \n",
              "Moluccas                                                                 \n",
              "New Britain                                                              \n",
              "New Guinea                                                               \n",
              "New Zealand (N)                                                          \n",
              "New Zealand (S)                                                          \n",
              "Newfoundland                                                             \n",
              "North America            9347                                            \n",
              "Novaya Zemlya              11          9358                              \n",
              "Prince of Wales            30          9377            19                \n",
              "Sakhalin                   14          9361             3              16\n",
              "South America            6752          2595          6763            6782\n",
              "Southampton                27          9374            16               3\n",
              "Spitsbergen                28          9375            17               2\n",
              "Sumatra                   140          9207           151             170\n",
              "Taiwan                     29          9376            18               1\n",
              "Tasmania                   17          9364             6              13\n",
              "Tierra del Fuego           24          9371            13               6\n",
              "Timor                      30          9377            19               0\n",
              "Vancouver                  31          9378            20               1\n",
              "Victoria                   39          9308            50              69\n",
              "                 Sakhalin South America Southampton Spitsbergen Sumatra Taiwan\n",
              "Antarctica                                                                    \n",
              "Asia                                                                          \n",
              "Australia                                                                     \n",
              "Axel Heiberg                                                                  \n",
              "Baffin                                                                        \n",
              "Banks                                                                         \n",
              "Borneo                                                                        \n",
              "Britain                                                                       \n",
              "Celebes                                                                       \n",
              "Celon                                                                         \n",
              "Cuba                                                                          \n",
              "Devon                                                                         \n",
              "Ellesmere                                                                     \n",
              "Europe                                                                        \n",
              "Greenland                                                                     \n",
              "Hainan                                                                        \n",
              "Hispaniola                                                                    \n",
              "Hokkaido                                                                      \n",
              "Honshu                                                                        \n",
              "Iceland                                                                       \n",
              "Ireland                                                                       \n",
              "Java                                                                          \n",
              "Kyushu                                                                        \n",
              "Luzon                                                                         \n",
              "Madagascar                                                                    \n",
              "Melville                                                                      \n",
              "Mindanao                                                                      \n",
              "Moluccas                                                                      \n",
              "New Britain                                                                   \n",
              "New Guinea                                                                    \n",
              "New Zealand (N)                                                               \n",
              "New Zealand (S)                                                               \n",
              "Newfoundland                                                                  \n",
              "North America                                                                 \n",
              "Novaya Zemlya                                                                 \n",
              "Prince of Wales                                                               \n",
              "Sakhalin                                                                      \n",
              "South America        6766                                                     \n",
              "Southampton            13          6779                                       \n",
              "Spitsbergen            14          6780           1                           \n",
              "Sumatra               154          6612         167         168               \n",
              "Taiwan                 15          6781           2           1     169       \n",
              "Tasmania                3          6769          10          11     157     12\n",
              "Tierra del Fuego       10          6776           3           4     164      5\n",
              "Timor                  16          6782           3           2     170      1\n",
              "Vancouver              17          6783           4           3     171      2\n",
              "Victoria               53          6713          66          67     101     68\n",
              "                 Tasmania Tierra del Fuego Timor Vancouver\n",
              "Antarctica                                                \n",
              "Asia                                                      \n",
              "Australia                                                 \n",
              "Axel Heiberg                                              \n",
              "Baffin                                                    \n",
              "Banks                                                     \n",
              "Borneo                                                    \n",
              "Britain                                                   \n",
              "Celebes                                                   \n",
              "Celon                                                     \n",
              "Cuba                                                      \n",
              "Devon                                                     \n",
              "Ellesmere                                                 \n",
              "Europe                                                    \n",
              "Greenland                                                 \n",
              "Hainan                                                    \n",
              "Hispaniola                                                \n",
              "Hokkaido                                                  \n",
              "Honshu                                                    \n",
              "Iceland                                                   \n",
              "Ireland                                                   \n",
              "Java                                                      \n",
              "Kyushu                                                    \n",
              "Luzon                                                     \n",
              "Madagascar                                                \n",
              "Melville                                                  \n",
              "Mindanao                                                  \n",
              "Moluccas                                                  \n",
              "New Britain                                               \n",
              "New Guinea                                                \n",
              "New Zealand (N)                                           \n",
              "New Zealand (S)                                           \n",
              "Newfoundland                                              \n",
              "North America                                             \n",
              "Novaya Zemlya                                             \n",
              "Prince of Wales                                           \n",
              "Sakhalin                                                  \n",
              "South America                                             \n",
              "Southampton                                               \n",
              "Spitsbergen                                               \n",
              "Sumatra                                                   \n",
              "Taiwan                                                    \n",
              "Tasmania                                                  \n",
              "Tierra del Fuego        7                                 \n",
              "Timor                  13                6                \n",
              "Vancouver              14                7     1          \n",
              "Victoria               56               63    69        70"
            ]
          },
          "metadata": {}
        }
      ]
    },
    {
      "cell_type": "markdown",
      "metadata": {
        "id": "snNBdQKkJ5xU"
      },
      "source": [
        "**Enter solution below:**"
      ]
    },
    {
      "cell_type": "markdown",
      "metadata": {
        "id": "_8XzzKIjOJ7R"
      },
      "source": [
        "2. What is the object class of this plot?"
      ]
    },
    {
      "cell_type": "markdown",
      "metadata": {
        "id": "UL4nGrtTONf_"
      },
      "source": [
        "**Enter solution below:**"
      ]
    },
    {
      "cell_type": "markdown",
      "metadata": {
        "id": "So6V5QzVP9ij"
      },
      "source": [
        "3. In which data structure are the `attributes` of this plot stored?"
      ]
    },
    {
      "cell_type": "markdown",
      "metadata": {
        "id": "U6KgdF-uVpVX"
      },
      "source": [
        "4. Look for an `example` of the dataset. What kind of chart is generated here?\n"
      ]
    },
    {
      "cell_type": "markdown",
      "metadata": {
        "id": "EtbGbi4fNGxk"
      },
      "source": [
        "## Cite your sources\n",
        "To finish, cite the sources of this EDA.\n",
        "\n",
        "*Hint: there are three sources.* \n"
      ]
    },
    {
      "cell_type": "markdown",
      "metadata": {
        "id": "_8RBSFjbNmmF"
      },
      "source": [
        "**Enter solution below:**"
      ]
    },
    {
      "cell_type": "code",
      "metadata": {
        "colab": {
          "base_uri": "https://localhost:8080/",
          "height": 374
        },
        "id": "rm-172_rNrrx",
        "outputId": "bc7f10c1-df42-4bc1-8625-241d95280c85"
      },
      "source": [
        "citation()"
      ],
      "execution_count": 38,
      "outputs": [
        {
          "output_type": "display_data",
          "data": {
            "text/plain": [
              "\n",
              "To cite R in publications use:\n",
              "\n",
              "  R Core Team (2021). R: A language and environment for statistical\n",
              "  computing. R Foundation for Statistical Computing, Vienna, Austria.\n",
              "  URL https://www.R-project.org/.\n",
              "\n",
              "A BibTeX entry for LaTeX users is\n",
              "\n",
              "  @Manual{,\n",
              "    title = {R: A Language and Environment for Statistical Computing},\n",
              "    author = {{R Core Team}},\n",
              "    organization = {R Foundation for Statistical Computing},\n",
              "    address = {Vienna, Austria},\n",
              "    year = {2021},\n",
              "    url = {https://www.R-project.org/},\n",
              "  }\n",
              "\n",
              "We have invested a lot of time and effort in creating R, please cite it\n",
              "when using it for data analysis. See also ‘citation(\"pkgname\")’ for\n",
              "citing R packages.\n"
            ]
          },
          "metadata": {}
        }
      ]
    }
  ]
}