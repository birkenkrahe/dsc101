{
  "nbformat": 4,
  "nbformat_minor": 0,
  "metadata": {
    "colab": {
      "name": "EDA_basics_solution.ipynb",
      "provenance": [],
      "collapsed_sections": [],
      "authorship_tag": "ABX9TyOhyUB76/xzRE9ArMtaWfHF",
      "include_colab_link": true
    },
    "kernelspec": {
      "name": "ir",
      "display_name": "R"
    },
    "language_info": {
      "name": "R"
    }
  },
  "cells": [
    {
      "cell_type": "markdown",
      "metadata": {
        "id": "view-in-github",
        "colab_type": "text"
      },
      "source": [
        "<a href=\"https://colab.research.google.com/github/birkenkrahe/notebooksf21/blob/main/EDA_basics_solution.ipynb\" target=\"_parent\"><img src=\"https://colab.research.google.com/assets/colab-badge.svg\" alt=\"Open In Colab\"/></a>"
      ]
    },
    {
      "cell_type": "markdown",
      "metadata": {
        "id": "FklNdR300qSS"
      },
      "source": [
        "# EDA Basics - Problem Set\n",
        "## Instructions\n",
        "* This problem set leads you through a short Exploratory Data Analysis session with a simple, small, built-in dataset.\n",
        "* Open the table of contents to get an overview of the different problem parts.\n",
        "* Work through the following problems at your own pace or during a class session with a time limit of 30 minutes - including the time to learn how to operate the online notebook. \n",
        "* Create code chunks when necessary and execute them to see the output.\n",
        "* You can compare with the solution set when you're done, and when you've exhausted all avenues of help, including: R's onboard `help()` facility (invoke this from the interactive console or in a web browser, but not in this notebook - help pages don't render well); the web with discussion forums like [stackoverflow.com](https://stackoverflow.com) (register!); asking me for hints.\n",
        "* Use your own copy of the notebook to take notes and reflect on false stops and starts - turn this problem set into a lesson of it own.\n",
        "* Notebooks can be shared with other people in the same organization, e.g. to get comments, or to collaborate."
      ]
    },
    {
      "cell_type": "markdown",
      "metadata": {
        "id": "JccL0a9I2Cn_"
      },
      "source": [
        "## Find the dataset\n",
        "Base R includes a package of data sets called \"datasets\". It contains data on \"Areas of the World's Major Landmasses\". \n",
        "\n",
        "What's the name of this dataset?\n",
        "\n",
        "*Hint: add a code chunk below the line `Enter solution below`. To add a code chunk, use the `+ Code` menu at the top of the screen, or define a keyboard shortcut in the menu (opens with `CTRL + m + h`).*"
      ]
    },
    {
      "cell_type": "markdown",
      "metadata": {
        "id": "7ko65b9o26Mu"
      },
      "source": [
        "**Enter solution below:**"
      ]
    },
    {
      "cell_type": "code",
      "metadata": {
        "id": "PnFnnvkB0lvZ"
      },
      "source": [
        "data(package=\"datasets\") # prints list of ALL datasets in \"datasets\""
      ],
      "execution_count": null,
      "outputs": []
    },
    {
      "cell_type": "markdown",
      "metadata": {
        "id": "5Twn_iGR4pxn"
      },
      "source": [
        "The dataset is called `islands`."
      ]
    },
    {
      "cell_type": "markdown",
      "metadata": {
        "id": "CGxomVxU4zrc"
      },
      "source": [
        "## Load the dataset\n",
        "1. Load the dataset with the \"Areas of the World's Major Landmasses\"\n",
        "2. Print the first 10 lines."
      ]
    },
    {
      "cell_type": "markdown",
      "metadata": {
        "id": "J9olB1bx_Fut"
      },
      "source": [
        "**Enter solution below:**"
      ]
    },
    {
      "cell_type": "code",
      "metadata": {
        "id": "h5nXX1VQ7_yu"
      },
      "source": [
        "library(datasets)  # this is not necessary because \"datasets\" is built-in"
      ],
      "execution_count": null,
      "outputs": []
    },
    {
      "cell_type": "code",
      "metadata": {
        "id": "lQpF9g5y72we"
      },
      "source": [
        "data(islands) # this works only because datasets is pre-loaded\n",
        "              # otherwise you need to load the package with library()"
      ],
      "execution_count": null,
      "outputs": []
    },
    {
      "cell_type": "code",
      "metadata": {
        "colab": {
          "base_uri": "https://localhost:8080/",
          "height": 50
        },
        "id": "ljD8qr5t8oh9",
        "outputId": "a0d09046-4f25-4361-9352-9846f1c914dc"
      },
      "source": [
        "head(islands,10)"
      ],
      "execution_count": null,
      "outputs": [
        {
          "output_type": "display_data",
          "data": {
            "text/plain": [
              "      Africa   Antarctica         Asia    Australia Axel Heiberg       Baffin \n",
              "       11506         5500        16988         2968           16          184 \n",
              "       Banks       Borneo      Britain      Celebes \n",
              "          23          280           84           73 "
            ],
            "text/latex": "\\begin{description*}\n\\item[Africa] 11506\n\\item[Antarctica] 5500\n\\item[Asia] 16988\n\\item[Australia] 2968\n\\item[Axel Heiberg] 16\n\\item[Baffin] 184\n\\item[Banks] 23\n\\item[Borneo] 280\n\\item[Britain] 84\n\\item[Celebes] 73\n\\end{description*}\n",
            "text/markdown": "Africa\n:   11506Antarctica\n:   5500Asia\n:   16988Australia\n:   2968Axel Heiberg\n:   16Baffin\n:   184Banks\n:   23Borneo\n:   280Britain\n:   84Celebes\n:   73\n\n",
            "text/html": [
              "<style>\n",
              ".dl-inline {width: auto; margin:0; padding: 0}\n",
              ".dl-inline>dt, .dl-inline>dd {float: none; width: auto; display: inline-block}\n",
              ".dl-inline>dt::after {content: \":\\0020\"; padding-right: .5ex}\n",
              ".dl-inline>dt:not(:first-of-type) {padding-left: .5ex}\n",
              "</style><dl class=dl-inline><dt>Africa</dt><dd>11506</dd><dt>Antarctica</dt><dd>5500</dd><dt>Asia</dt><dd>16988</dd><dt>Australia</dt><dd>2968</dd><dt>Axel Heiberg</dt><dd>16</dd><dt>Baffin</dt><dd>184</dd><dt>Banks</dt><dd>23</dd><dt>Borneo</dt><dd>280</dd><dt>Britain</dt><dd>84</dd><dt>Celebes</dt><dd>73</dd></dl>\n"
            ]
          },
          "metadata": {}
        }
      ]
    },
    {
      "cell_type": "markdown",
      "metadata": {
        "id": "L4pDBouI9HUC"
      },
      "source": [
        "## Check data structure\n",
        "1. What kind of data structure is this dataset? - *Enter the command in a code cell, and then answer the question in the directly following text cell.*\n",
        "2. How many landmass areas does the dataset contain?\n",
        "\n",
        "*Bonus question: how many `methods` does the generic function contain that is used to check data structure?*"
      ]
    },
    {
      "cell_type": "markdown",
      "metadata": {
        "id": "KbdraOIC_A1M"
      },
      "source": [
        "**Enter solution below:**"
      ]
    },
    {
      "cell_type": "code",
      "metadata": {
        "colab": {
          "base_uri": "https://localhost:8080/"
        },
        "id": "ZpSCWwj4_D3Z",
        "outputId": "51e04506-60b3-4548-f984-a1a816804b4e"
      },
      "source": [
        "str(islands)  # the generic function str() gives you "
      ],
      "execution_count": null,
      "outputs": [
        {
          "output_type": "stream",
          "name": "stdout",
          "text": [
            " Named num [1:48] 11506 5500 16988 2968 16 ...\n",
            " - attr(*, \"names\")= chr [1:48] \"Africa\" \"Antarctica\" \"Asia\" \"Australia\" ...\n"
          ]
        }
      ]
    },
    {
      "cell_type": "markdown",
      "metadata": {
        "id": "M_y0sc22_3rg"
      },
      "source": [
        "Answer: the `islands` dataset is a named numerical vector of 48 elements."
      ]
    },
    {
      "cell_type": "code",
      "metadata": {
        "colab": {
          "base_uri": "https://localhost:8080/",
          "height": 105
        },
        "id": "gA1vUOqmEzWv",
        "outputId": "3b337162-1267-40ac-ffb3-2d2d8097fa97"
      },
      "source": [
        "methods(\"str\") # code answer to the bonus question"
      ],
      "execution_count": null,
      "outputs": [
        {
          "output_type": "display_data",
          "data": {
            "text/plain": [
              " [1] str.data.frame*         str.Date*               str.default*           \n",
              " [4] str.dendrogram*         str.logLik*             str.POSIXt*            \n",
              " [7] str.quosure*            str.rlang_data_pronoun* str.rlang_envs*        \n",
              "[10] str.shiny.tag.env*      str.vctrs_vctr*        \n",
              "see '?methods' for accessing help and source code"
            ]
          },
          "metadata": {}
        }
      ]
    },
    {
      "cell_type": "markdown",
      "metadata": {
        "id": "wCWz8QizFp-0"
      },
      "source": [
        "Answer: `str()` contains 11 different methods, each for different data structures. Of these, we have so far only met `data.frame`. Since `islands` is not a data frame, `str(islands)` invokes `str.default(islands)`."
      ]
    },
    {
      "cell_type": "markdown",
      "metadata": {
        "id": "UQYoE4vRABHT"
      },
      "source": [
        "## Check object type\n",
        "What type of R object is this dataset?"
      ]
    },
    {
      "cell_type": "markdown",
      "metadata": {
        "id": "Id8f6Y-wES0U"
      },
      "source": [
        "**Enter solution below:**"
      ]
    },
    {
      "cell_type": "code",
      "metadata": {
        "colab": {
          "base_uri": "https://localhost:8080/",
          "height": 34
        },
        "id": "b7bTWaXqERhg",
        "outputId": "3c4eec59-2fae-4ba6-97ab-70b626a26c40"
      },
      "source": [
        "class(islands)"
      ],
      "execution_count": null,
      "outputs": [
        {
          "output_type": "display_data",
          "data": {
            "text/plain": [
              "[1] \"numeric\""
            ],
            "text/latex": "'numeric'",
            "text/markdown": "'numeric'",
            "text/html": [
              "'numeric'"
            ]
          },
          "metadata": {}
        }
      ]
    },
    {
      "cell_type": "markdown",
      "metadata": {
        "id": "teQUgCSiGIFG"
      },
      "source": [
        "`class` and `mode` of `islands` are the same, because `islands` is a vector, which is the most basic class."
      ]
    },
    {
      "cell_type": "code",
      "metadata": {
        "colab": {
          "base_uri": "https://localhost:8080/",
          "height": 34
        },
        "id": "Opnp0TzzGDm5",
        "outputId": "820c572a-57f9-4657-a691-d198b4bd19cc"
      },
      "source": [
        "mode(islands)"
      ],
      "execution_count": null,
      "outputs": [
        {
          "output_type": "display_data",
          "data": {
            "text/plain": [
              "[1] \"numeric\""
            ],
            "text/latex": "'numeric'",
            "text/markdown": "'numeric'",
            "text/html": [
              "'numeric'"
            ]
          },
          "metadata": {}
        }
      ]
    },
    {
      "cell_type": "markdown",
      "metadata": {
        "id": "_f1TSZLxGbNw"
      },
      "source": [
        "## Get to know the data\n",
        "1. Which area landmass is the largest? \n",
        "2. How large is it in square miles?\n",
        "\n",
        "*Hint: to answer (1), use the `max()` function to identify the largest landmass, and then extract the vector element using `[]`.*"
      ]
    },
    {
      "cell_type": "markdown",
      "metadata": {
        "id": "nnopB1ErH-lM"
      },
      "source": [
        "**Enter solution below:**"
      ]
    },
    {
      "cell_type": "code",
      "metadata": {
        "colab": {
          "base_uri": "https://localhost:8080/",
          "height": 34
        },
        "id": "cSMovWWAG1y1",
        "outputId": "014efde7-f19e-4be0-fb23-c7aae8905197"
      },
      "source": [
        "islands[islands==max(islands)]"
      ],
      "execution_count": null,
      "outputs": [
        {
          "output_type": "display_data",
          "data": {
            "text/plain": [
              " Asia \n",
              "16988 "
            ],
            "text/latex": "\\textbf{Asia:} 16988",
            "text/markdown": "**Asia:** 16988",
            "text/html": [
              "<strong>Asia:</strong> 16988"
            ]
          },
          "metadata": {}
        }
      ]
    },
    {
      "cell_type": "markdown",
      "metadata": {
        "id": "Sd828ZppIDfR"
      },
      "source": [
        "Answer: the largest landmass is Asia with 16988 units."
      ]
    },
    {
      "cell_type": "code",
      "metadata": {
        "colab": {
          "base_uri": "https://localhost:8080/",
          "height": 34
        },
        "id": "FL6I9DXZIaK9",
        "outputId": "05fbb3fd-675c-4223-ff97-2ede2f28f576"
      },
      "source": [
        "16988*10000"
      ],
      "execution_count": null,
      "outputs": [
        {
          "output_type": "display_data",
          "data": {
            "text/plain": [
              "[1] 169880000"
            ],
            "text/latex": "169880000",
            "text/markdown": "169880000",
            "text/html": [
              "169880000"
            ]
          },
          "metadata": {}
        }
      ]
    },
    {
      "cell_type": "markdown",
      "metadata": {
        "id": "kgga1J4xIhl6"
      },
      "source": [
        "Answer: Asia has a landmass of (approximately) 169,880,000 square miles. To identify the unit (10,000 square miles), you need to look up `help(islands)`. "
      ]
    },
    {
      "cell_type": "markdown",
      "metadata": {
        "id": "C-uwiSeFJuKX"
      },
      "source": [
        "3. What is the size of the *average* landmass in the dataset?"
      ]
    },
    {
      "cell_type": "markdown",
      "metadata": {
        "id": "9rHnKW9VJ4Zl"
      },
      "source": [
        "**Enter solution below:**"
      ]
    },
    {
      "cell_type": "code",
      "metadata": {
        "colab": {
          "base_uri": "https://localhost:8080/",
          "height": 34
        },
        "id": "xTYMmlOmKB7-",
        "outputId": "f54f6d8f-d38a-4511-fa68-96daf1932a61"
      },
      "source": [
        "mean(islands)"
      ],
      "execution_count": null,
      "outputs": [
        {
          "output_type": "display_data",
          "data": {
            "text/plain": [
              "[1] 1252.729"
            ],
            "text/latex": "1252.72916666667",
            "text/markdown": "1252.72916666667",
            "text/html": [
              "1252.72916666667"
            ]
          },
          "metadata": {}
        }
      ]
    },
    {
      "cell_type": "markdown",
      "metadata": {
        "id": "IckSD5eKKHpJ"
      },
      "source": [
        "4. How are the landmasses in the dataset called?"
      ]
    },
    {
      "cell_type": "markdown",
      "metadata": {
        "id": "U4Oj82x0KQLz"
      },
      "source": [
        "**Enter solution below:**"
      ]
    },
    {
      "cell_type": "code",
      "metadata": {
        "colab": {
          "base_uri": "https://localhost:8080/",
          "height": 118
        },
        "id": "ep13pEt2KQ3q",
        "outputId": "2b38cd6f-253a-460e-dd94-1fae7a4b223e"
      },
      "source": [
        "names(islands)"
      ],
      "execution_count": null,
      "outputs": [
        {
          "output_type": "display_data",
          "data": {
            "text/plain": [
              " [1] \"Africa\"           \"Antarctica\"       \"Asia\"             \"Australia\"       \n",
              " [5] \"Axel Heiberg\"     \"Baffin\"           \"Banks\"            \"Borneo\"          \n",
              " [9] \"Britain\"          \"Celebes\"          \"Celon\"            \"Cuba\"            \n",
              "[13] \"Devon\"            \"Ellesmere\"        \"Europe\"           \"Greenland\"       \n",
              "[17] \"Hainan\"           \"Hispaniola\"       \"Hokkaido\"         \"Honshu\"          \n",
              "[21] \"Iceland\"          \"Ireland\"          \"Java\"             \"Kyushu\"          \n",
              "[25] \"Luzon\"            \"Madagascar\"       \"Melville\"         \"Mindanao\"        \n",
              "[29] \"Moluccas\"         \"New Britain\"      \"New Guinea\"       \"New Zealand (N)\" \n",
              "[33] \"New Zealand (S)\"  \"Newfoundland\"     \"North America\"    \"Novaya Zemlya\"   \n",
              "[37] \"Prince of Wales\"  \"Sakhalin\"         \"South America\"    \"Southampton\"     \n",
              "[41] \"Spitsbergen\"      \"Sumatra\"          \"Taiwan\"           \"Tasmania\"        \n",
              "[45] \"Tierra del Fuego\" \"Timor\"            \"Vancouver\"        \"Victoria\"        "
            ],
            "text/latex": "\\begin{enumerate*}\n\\item 'Africa'\n\\item 'Antarctica'\n\\item 'Asia'\n\\item 'Australia'\n\\item 'Axel Heiberg'\n\\item 'Baffin'\n\\item 'Banks'\n\\item 'Borneo'\n\\item 'Britain'\n\\item 'Celebes'\n\\item 'Celon'\n\\item 'Cuba'\n\\item 'Devon'\n\\item 'Ellesmere'\n\\item 'Europe'\n\\item 'Greenland'\n\\item 'Hainan'\n\\item 'Hispaniola'\n\\item 'Hokkaido'\n\\item 'Honshu'\n\\item 'Iceland'\n\\item 'Ireland'\n\\item 'Java'\n\\item 'Kyushu'\n\\item 'Luzon'\n\\item 'Madagascar'\n\\item 'Melville'\n\\item 'Mindanao'\n\\item 'Moluccas'\n\\item 'New Britain'\n\\item 'New Guinea'\n\\item 'New Zealand (N)'\n\\item 'New Zealand (S)'\n\\item 'Newfoundland'\n\\item 'North America'\n\\item 'Novaya Zemlya'\n\\item 'Prince of Wales'\n\\item 'Sakhalin'\n\\item 'South America'\n\\item 'Southampton'\n\\item 'Spitsbergen'\n\\item 'Sumatra'\n\\item 'Taiwan'\n\\item 'Tasmania'\n\\item 'Tierra del Fuego'\n\\item 'Timor'\n\\item 'Vancouver'\n\\item 'Victoria'\n\\end{enumerate*}\n",
            "text/markdown": "1. 'Africa'\n2. 'Antarctica'\n3. 'Asia'\n4. 'Australia'\n5. 'Axel Heiberg'\n6. 'Baffin'\n7. 'Banks'\n8. 'Borneo'\n9. 'Britain'\n10. 'Celebes'\n11. 'Celon'\n12. 'Cuba'\n13. 'Devon'\n14. 'Ellesmere'\n15. 'Europe'\n16. 'Greenland'\n17. 'Hainan'\n18. 'Hispaniola'\n19. 'Hokkaido'\n20. 'Honshu'\n21. 'Iceland'\n22. 'Ireland'\n23. 'Java'\n24. 'Kyushu'\n25. 'Luzon'\n26. 'Madagascar'\n27. 'Melville'\n28. 'Mindanao'\n29. 'Moluccas'\n30. 'New Britain'\n31. 'New Guinea'\n32. 'New Zealand (N)'\n33. 'New Zealand (S)'\n34. 'Newfoundland'\n35. 'North America'\n36. 'Novaya Zemlya'\n37. 'Prince of Wales'\n38. 'Sakhalin'\n39. 'South America'\n40. 'Southampton'\n41. 'Spitsbergen'\n42. 'Sumatra'\n43. 'Taiwan'\n44. 'Tasmania'\n45. 'Tierra del Fuego'\n46. 'Timor'\n47. 'Vancouver'\n48. 'Victoria'\n\n\n",
            "text/html": [
              "<style>\n",
              ".list-inline {list-style: none; margin:0; padding: 0}\n",
              ".list-inline>li {display: inline-block}\n",
              ".list-inline>li:not(:last-child)::after {content: \"\\00b7\"; padding: 0 .5ex}\n",
              "</style>\n",
              "<ol class=list-inline><li>'Africa'</li><li>'Antarctica'</li><li>'Asia'</li><li>'Australia'</li><li>'Axel Heiberg'</li><li>'Baffin'</li><li>'Banks'</li><li>'Borneo'</li><li>'Britain'</li><li>'Celebes'</li><li>'Celon'</li><li>'Cuba'</li><li>'Devon'</li><li>'Ellesmere'</li><li>'Europe'</li><li>'Greenland'</li><li>'Hainan'</li><li>'Hispaniola'</li><li>'Hokkaido'</li><li>'Honshu'</li><li>'Iceland'</li><li>'Ireland'</li><li>'Java'</li><li>'Kyushu'</li><li>'Luzon'</li><li>'Madagascar'</li><li>'Melville'</li><li>'Mindanao'</li><li>'Moluccas'</li><li>'New Britain'</li><li>'New Guinea'</li><li>'New Zealand (N)'</li><li>'New Zealand (S)'</li><li>'Newfoundland'</li><li>'North America'</li><li>'Novaya Zemlya'</li><li>'Prince of Wales'</li><li>'Sakhalin'</li><li>'South America'</li><li>'Southampton'</li><li>'Spitsbergen'</li><li>'Sumatra'</li><li>'Taiwan'</li><li>'Tasmania'</li><li>'Tierra del Fuego'</li><li>'Timor'</li><li>'Vancouver'</li><li>'Victoria'</li></ol>\n"
            ]
          },
          "metadata": {}
        }
      ]
    },
    {
      "cell_type": "markdown",
      "metadata": {
        "id": "KYCd5y59KgLB"
      },
      "source": [
        "5. What is the difference between the largest and the smallest landmass of the dataset?\n",
        "\n",
        "*Bonus question: solve this question using the `summary` function in two lines of code.*"
      ]
    },
    {
      "cell_type": "markdown",
      "metadata": {
        "id": "h7IvmooqLphU"
      },
      "source": [
        "**Enter solution below:**"
      ]
    },
    {
      "cell_type": "code",
      "metadata": {
        "colab": {
          "base_uri": "https://localhost:8080/",
          "height": 34
        },
        "id": "Ze5p1j9wLrdT",
        "outputId": "25b8c68c-4818-4c73-dac8-41d4ba26b506"
      },
      "source": [
        "max(islands)-min(islands)"
      ],
      "execution_count": null,
      "outputs": [
        {
          "output_type": "display_data",
          "data": {
            "text/plain": [
              "[1] 16976"
            ],
            "text/latex": "16976",
            "text/markdown": "16976",
            "text/html": [
              "16976"
            ]
          },
          "metadata": {}
        }
      ]
    },
    {
      "cell_type": "markdown",
      "metadata": {
        "id": "UC5cQ1OPLyXL"
      },
      "source": [
        "To solve the bonus question, you need to first store the `summary` as a named R object vector. Then you can subtract its elements."
      ]
    },
    {
      "cell_type": "code",
      "metadata": {
        "colab": {
          "base_uri": "https://localhost:8080/",
          "height": 34
        },
        "id": "MBO56g_2MGBW",
        "outputId": "97e0fd65-d1f4-4689-a152-13adf35a239c"
      },
      "source": [
        "sum_isl <- summary(islands)  # store summary information in object\n",
        "paste(sum_isl[\"Max.\"]-sum_isl[\"Min.\"]) # subtract elements and remove name"
      ],
      "execution_count": null,
      "outputs": [
        {
          "output_type": "display_data",
          "data": {
            "text/plain": [
              "[1] \"16976\""
            ],
            "text/latex": "'16976'",
            "text/markdown": "'16976'",
            "text/html": [
              "'16976'"
            ]
          },
          "metadata": {}
        }
      ]
    },
    {
      "cell_type": "markdown",
      "metadata": {
        "id": "ZoXlQjfMMvgC"
      },
      "source": [
        "Note: without the use of `paste()` in the last line, the printout contains the name of the `\"Max.\"` element."
      ]
    },
    {
      "cell_type": "markdown",
      "metadata": {
        "id": "o3NpALvuJXjW"
      },
      "source": [
        "## Plot the data\n",
        "1. Plot an approximate representation of the distribution of the data in the dataset."
      ]
    },
    {
      "cell_type": "markdown",
      "metadata": {
        "id": "snNBdQKkJ5xU"
      },
      "source": [
        "**Enter solution below:**"
      ]
    },
    {
      "cell_type": "code",
      "metadata": {
        "colab": {
          "base_uri": "https://localhost:8080/",
          "height": 437
        },
        "id": "lHmrOZplN-XV",
        "outputId": "77862993-7b7e-460b-dc5f-6a6a4b1ba9b2"
      },
      "source": [
        "hist(islands)"
      ],
      "execution_count": null,
      "outputs": [
        {
          "output_type": "display_data",
          "data": {
            "image/png": "[encoded data removed]",
            "text/plain": [
              "Plot with title “Histogram of islands”"
            ]
          },
          "metadata": {
            "image/png": {
              "width": 420,
              "height": 420
            }
          }
        }
      ]
    },
    {
      "cell_type": "markdown",
      "metadata": {
        "id": "_8XzzKIjOJ7R"
      },
      "source": [
        "2. What is the object class of this plot?"
      ]
    },
    {
      "cell_type": "markdown",
      "metadata": {
        "id": "UL4nGrtTONf_"
      },
      "source": [
        "**Enter solution below:**"
      ]
    },
    {
      "cell_type": "code",
      "metadata": {
        "id": "CY8jzOBdP4Gy"
      },
      "source": [
        "class(hist(islands)) # the answer is 'histogram'"
      ],
      "execution_count": null,
      "outputs": []
    },
    {
      "cell_type": "markdown",
      "metadata": {
        "id": "So6V5QzVP9ij"
      },
      "source": [
        "3. In which data structure are the `attributes` of this plot stored?"
      ]
    },
    {
      "cell_type": "code",
      "metadata": {
        "id": "M9Fr93K3QE7V"
      },
      "source": [
        "class(attributes(hist(islands))) # the answer is 'list'"
      ],
      "execution_count": null,
      "outputs": []
    },
    {
      "cell_type": "markdown",
      "metadata": {
        "id": "U6KgdF-uVpVX"
      },
      "source": [
        "4. Look for an `example` of the dataset. What kind of chart is generated here?\n"
      ]
    },
    {
      "cell_type": "code",
      "metadata": {
        "id": "g41DlZQWWTDV"
      },
      "source": [
        "example(islands)"
      ],
      "execution_count": null,
      "outputs": []
    },
    {
      "cell_type": "markdown",
      "metadata": {
        "id": "aAPvVQ8wWjc2"
      },
      "source": [
        "Answer: two dotchart (more specifically: a logarithmically scaled, horizontal dot plot) are created. The first one lists all area landmasses alphabetically by name, the second lists the landmasses by order of value, using the argument `islands[order(islands)]`. "
      ]
    },
    {
      "cell_type": "markdown",
      "metadata": {
        "id": "EtbGbi4fNGxk"
      },
      "source": [
        "## Cite your sources\n",
        "To finish, cite the sources of this EDA.\n",
        "\n",
        "*Hint: there are three sources.* \n"
      ]
    },
    {
      "cell_type": "markdown",
      "metadata": {
        "id": "_8RBSFjbNmmF"
      },
      "source": [
        "**Enter solution below:**"
      ]
    },
    {
      "cell_type": "markdown",
      "metadata": {
        "id": "Sm599OttNpCN"
      },
      "source": [
        "Answer: the three sources are the R project (from `citation()`), the data set reference (from the `help` page), and the reference for the Google Colaboratory software used to create this notebook. For the Colaboratory reference, you can either reference the software as software, or find a suitable paper:\n",
        "\n",
        "1. Bisong E. (2019) Google Colaboratory. In: Building Machine Learning and Deep Learning Models on Google Cloud Platform. Apress, Berkeley, CA. https://doi.org/10.1007/978-1-4842-4470-8_7\n",
        "2. McNeil, D. R. (1977) Interactive Data Analysis. Wiley.\n",
        "2. R Core Team (2021). R: A language and environment for statistical computing. R Foundation for Statistical Computing, Vienna, Austria. URL https://www.R-project.org/."
      ]
    }
  ]
}