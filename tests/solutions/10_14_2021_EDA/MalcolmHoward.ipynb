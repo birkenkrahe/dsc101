{
  "nbformat": 4,
  "nbformat_minor": 0,
  "metadata": {
    "colab": {
      "name": "MalcolmHoward.ipynb",
      "provenance": [],
      "collapsed_sections": []
    },
    "kernelspec": {
      "name": "ir",
      "display_name": "R"
    },
    "language_info": {
      "name": "R"
    }
  },
  "cells": [
    {
      "cell_type": "markdown",
      "metadata": {
        "id": "FklNdR300qSS"
      },
      "source": [
        "# EDA Basics - Problem Set\n",
        "## Instructions\n",
        "* This problem set leads you through a short Exploratory Data Analysis session with a simple, small, built-in dataset.\n",
        "* Open the table of contents to get an overview of the different problem parts.\n",
        "* Work through the following problems at your own pace or during a class session with a time limit of 30 minutes - including the time to learn how to operate the online notebook. \n",
        "* Create code chunks when necessary and execute them to see the output.\n",
        "* You can compare with the solution set when you're done, and when you've exhausted all avenues of help, including: R's onboard `help()` facility (invoke this from the interactive console or in a web browser, but not in this notebook - help pages don't render well); the web with discussion forums like [stackoverflow.com](https://stackoverflow.com) (register!); asking me for hints.\n",
        "* Use your own copy of the notebook to take notes and reflect on false stops and starts - turn this problem set into a lesson of it own.\n",
        "* Notebooks can be shared with other people in the same organization, e.g. to get comments, or to collaborate."
      ]
    },
    {
      "cell_type": "markdown",
      "metadata": {
        "id": "JccL0a9I2Cn_"
      },
      "source": [
        "## Find the dataset\n",
        "Base R includes a package of data sets called \"datasets\". It contains data on \"Areas of the World's Major Landmasses\". \n",
        "\n",
        "What's the name of this dataset?\n",
        "\n",
        "*Hint: add a code chunk below the line `Enter solution below`. To add a code chunk, use the `+ Code` menu at the top of the screen, or define a keyboard shortcut in the menu (opens with `CTRL + m + h`).*"
      ]
    },
    {
      "cell_type": "markdown",
      "metadata": {
        "id": "7ko65b9o26Mu"
      },
      "source": [
        "**Enter solution below:**"
      ]
    },
    {
      "cell_type": "markdown",
      "metadata": {
        "id": "CGxomVxU4zrc"
      },
      "source": [
        "## Load the dataset\n",
        "1. Load the dataset with the \"Areas of the World's Major Landmasses\"\n",
        "2. Print the first 10 lines."
      ]
    },
    {
      "cell_type": "markdown",
      "metadata": {
        "id": "J9olB1bx_Fut"
      },
      "source": [
        "**Enter solution below:**"
      ]
    },
    {
      "cell_type": "code",
      "metadata": {
        "id": "MltvmgqdnvK2"
      },
      "source": [
        "data()\n",
        "data(islands)"
      ],
      "execution_count": null,
      "outputs": []
    },
    {
      "cell_type": "code",
      "metadata": {
        "id": "3PI970qNoefb",
        "colab": {
          "base_uri": "https://localhost:8080/",
          "height": 34
        },
        "outputId": "cb46a83a-1b4f-4199-dbff-9863281993e7"
      },
      "source": [
        "head(islands, 10)"
      ],
      "execution_count": null,
      "outputs": [
        {
          "output_type": "display_data",
          "data": {
            "text/plain": [
              "      Africa   Antarctica         Asia    Australia Axel Heiberg       Baffin \n",
              "       11506         5500        16988         2968           16          184 \n",
              "       Banks       Borneo      Britain      Celebes \n",
              "          23          280           84           73 "
            ],
            "text/latex": "\\begin{description*}\n\\item[Africa] 11506\n\\item[Antarctica] 5500\n\\item[Asia] 16988\n\\item[Australia] 2968\n\\item[Axel Heiberg] 16\n\\item[Baffin] 184\n\\item[Banks] 23\n\\item[Borneo] 280\n\\item[Britain] 84\n\\item[Celebes] 73\n\\end{description*}\n",
            "text/markdown": "Africa\n:   11506Antarctica\n:   5500Asia\n:   16988Australia\n:   2968Axel Heiberg\n:   16Baffin\n:   184Banks\n:   23Borneo\n:   280Britain\n:   84Celebes\n:   73\n\n",
            "text/html": [
              "<style>\n",
              ".dl-inline {width: auto; margin:0; padding: 0}\n",
              ".dl-inline>dt, .dl-inline>dd {float: none; width: auto; display: inline-block}\n",
              ".dl-inline>dt::after {content: \":\\0020\"; padding-right: .5ex}\n",
              ".dl-inline>dt:not(:first-of-type) {padding-left: .5ex}\n",
              "</style><dl class=dl-inline><dt>Africa</dt><dd>11506</dd><dt>Antarctica</dt><dd>5500</dd><dt>Asia</dt><dd>16988</dd><dt>Australia</dt><dd>2968</dd><dt>Axel Heiberg</dt><dd>16</dd><dt>Baffin</dt><dd>184</dd><dt>Banks</dt><dd>23</dd><dt>Borneo</dt><dd>280</dd><dt>Britain</dt><dd>84</dd><dt>Celebes</dt><dd>73</dd></dl>\n"
            ]
          },
          "metadata": {}
        }
      ]
    },
    {
      "cell_type": "markdown",
      "metadata": {
        "id": "L4pDBouI9HUC"
      },
      "source": [
        "## Check data structure\n",
        "1. What kind of data structure is this dataset? - *Enter the command in a code cell, and then answer the question in the directly following text cell.*\n",
        "2. How many landmass areas does the dataset contain?\n",
        "\n",
        "*Bonus question: how many `methods` does the generic function contain that is used to check data structure?*"
      ]
    },
    {
      "cell_type": "markdown",
      "metadata": {
        "id": "KbdraOIC_A1M"
      },
      "source": [
        "**Enter solution below:**"
      ]
    },
    {
      "cell_type": "code",
      "metadata": {
        "id": "36W6Ho0homuO",
        "colab": {
          "base_uri": "https://localhost:8080/"
        },
        "outputId": "f88833b2-efdc-4813-f24c-b7b493b6b25a"
      },
      "source": [
        "str(islands)"
      ],
      "execution_count": null,
      "outputs": [
        {
          "output_type": "stream",
          "name": "stdout",
          "text": [
            " Named num [1:48] 11506 5500 16988 2968 16 ...\n",
            " - attr(*, \"names\")= chr [1:48] \"Africa\" \"Antarctica\" \"Asia\" \"Australia\" ...\n"
          ]
        }
      ]
    },
    {
      "cell_type": "markdown",
      "metadata": {
        "id": "v1n7WW_6oug2"
      },
      "source": [
        "numerical type "
      ]
    },
    {
      "cell_type": "markdown",
      "metadata": {
        "id": "E0-t_8iEo42W"
      },
      "source": [
        "it contains 48 land masses."
      ]
    },
    {
      "cell_type": "markdown",
      "metadata": {
        "id": "UQYoE4vRABHT"
      },
      "source": [
        "## Check object type\n",
        "What type of R object is this dataset?"
      ]
    },
    {
      "cell_type": "markdown",
      "metadata": {
        "id": "Id8f6Y-wES0U"
      },
      "source": [
        "**Enter solution below:**"
      ]
    },
    {
      "cell_type": "code",
      "metadata": {
        "id": "P7E-gdjio-QC",
        "colab": {
          "base_uri": "https://localhost:8080/",
          "height": 34
        },
        "outputId": "ae7ad424-d381-4d08-a3bf-78425e599db1"
      },
      "source": [
        "typeof(islands)"
      ],
      "execution_count": null,
      "outputs": [
        {
          "output_type": "display_data",
          "data": {
            "text/plain": [
              "[1] \"double\""
            ],
            "text/latex": "'double'",
            "text/markdown": "'double'",
            "text/html": [
              "'double'"
            ]
          },
          "metadata": {}
        }
      ]
    },
    {
      "cell_type": "markdown",
      "metadata": {
        "id": "_f1TSZLxGbNw"
      },
      "source": [
        "## Get to know the data\n",
        "1. Which area landmass is the largest? \n",
        "2. How large is it in square miles?\n",
        "\n",
        "*Hint: to answer (1), use the `max()` function to identify the largest landmass, and then extract the vector element using `[]`.*"
      ]
    },
    {
      "cell_type": "markdown",
      "metadata": {
        "id": "nnopB1ErH-lM"
      },
      "source": [
        "**Enter solution below:**"
      ]
    },
    {
      "cell_type": "code",
      "metadata": {
        "id": "qJSn-7QHpK3t",
        "colab": {
          "base_uri": "https://localhost:8080/",
          "height": 34
        },
        "outputId": "4ff8a3a9-7c18-429e-f48c-cdf56b26cb17"
      },
      "source": [
        "which.max(islands)"
      ],
      "execution_count": null,
      "outputs": [
        {
          "output_type": "display_data",
          "data": {
            "text/plain": [
              "Asia \n",
              "   3 "
            ],
            "text/latex": "\\textbf{Asia:} 3",
            "text/markdown": "**Asia:** 3",
            "text/html": [
              "<strong>Asia:</strong> 3"
            ]
          },
          "metadata": {}
        }
      ]
    },
    {
      "cell_type": "code",
      "metadata": {
        "id": "lO2Grl52pR_p",
        "colab": {
          "base_uri": "https://localhost:8080/",
          "height": 34
        },
        "outputId": "5f6ece6a-38af-46b7-9539-42ad823e7951"
      },
      "source": [
        "max(islands)"
      ],
      "execution_count": null,
      "outputs": [
        {
          "output_type": "display_data",
          "data": {
            "text/plain": [
              "[1] 16988"
            ],
            "text/latex": "16988",
            "text/markdown": "16988",
            "text/html": [
              "16988"
            ]
          },
          "metadata": {}
        }
      ]
    },
    {
      "cell_type": "markdown",
      "metadata": {
        "id": "C-uwiSeFJuKX"
      },
      "source": [
        "3. What is the size of the *average* landmass in the dataset?"
      ]
    },
    {
      "cell_type": "markdown",
      "metadata": {
        "id": "9rHnKW9VJ4Zl"
      },
      "source": [
        "**Enter solution below:**"
      ]
    },
    {
      "cell_type": "code",
      "metadata": {
        "id": "7xxHOkidpfPP",
        "colab": {
          "base_uri": "https://localhost:8080/",
          "height": 34
        },
        "outputId": "9f973090-ebce-4f68-bdd4-dc3acc6bb88f"
      },
      "source": [
        "mean(islands)"
      ],
      "execution_count": null,
      "outputs": [
        {
          "output_type": "display_data",
          "data": {
            "text/plain": [
              "[1] 1252.729"
            ],
            "text/latex": "1252.72916666667",
            "text/markdown": "1252.72916666667",
            "text/html": [
              "1252.72916666667"
            ]
          },
          "metadata": {}
        }
      ]
    },
    {
      "cell_type": "markdown",
      "metadata": {
        "id": "h5gXV56VpqfV"
      },
      "source": [
        "The average is 1253"
      ]
    },
    {
      "cell_type": "markdown",
      "metadata": {
        "id": "IckSD5eKKHpJ"
      },
      "source": [
        "4. How are the landmasses in the dataset called?"
      ]
    },
    {
      "cell_type": "markdown",
      "metadata": {
        "id": "U4Oj82x0KQLz"
      },
      "source": [
        "**Enter solution below:**"
      ]
    },
    {
      "cell_type": "code",
      "metadata": {
        "id": "8ymNZQCJpwT9"
      },
      "source": [
        "islands()"
      ],
      "execution_count": null,
      "outputs": []
    },
    {
      "cell_type": "markdown",
      "metadata": {
        "id": "KYCd5y59KgLB"
      },
      "source": [
        "5. What is the difference between the largest and the smallest landmass of the dataset?\n",
        "\n",
        "*Bonus question: solve this question using the `summary` function in two lines of code.*"
      ]
    },
    {
      "cell_type": "markdown",
      "metadata": {
        "id": "h7IvmooqLphU"
      },
      "source": [
        "**Enter solution below:**"
      ]
    },
    {
      "cell_type": "code",
      "metadata": {
        "id": "LUQyQIDFquyr",
        "colab": {
          "base_uri": "https://localhost:8080/",
          "height": 51
        },
        "outputId": "2b1e9798-6d17-489f-a174-2cd9e85bcdce"
      },
      "source": [
        "summary(max(islands) - min(islands))\n"
      ],
      "execution_count": null,
      "outputs": [
        {
          "output_type": "display_data",
          "data": {
            "text/plain": [
              "   Min. 1st Qu.  Median    Mean 3rd Qu.    Max. \n",
              "  16976   16976   16976   16976   16976   16976 "
            ]
          },
          "metadata": {}
        }
      ]
    },
    {
      "cell_type": "markdown",
      "metadata": {
        "id": "o3NpALvuJXjW"
      },
      "source": [
        "## Plot the data\n",
        "1. Plot an approximate representation of the distribution of the data in the dataset."
      ]
    },
    {
      "cell_type": "markdown",
      "metadata": {
        "id": "snNBdQKkJ5xU"
      },
      "source": [
        "**Enter solution below:**"
      ]
    },
    {
      "cell_type": "code",
      "metadata": {
        "id": "ydB_389KrSXK",
        "colab": {
          "base_uri": "https://localhost:8080/",
          "height": 437
        },
        "outputId": "97db01a3-44f5-4407-8075-3cf1d7882401"
      },
      "source": [
        "plot(islands)"
      ],
      "execution_count": null,
      "outputs": [
        {
          "output_type": "display_data",
          "data": {
            "image/png": "[encoded data removed]",
            "text/plain": [
              "plot without title"
            ]
          },
          "metadata": {
            "image/png": {
              "width": 420,
              "height": 420
            }
          }
        }
      ]
    },
    {
      "cell_type": "markdown",
      "metadata": {
        "id": "_8XzzKIjOJ7R"
      },
      "source": [
        "2. What is the object class of this plot?"
      ]
    },
    {
      "cell_type": "markdown",
      "metadata": {
        "id": "UL4nGrtTONf_"
      },
      "source": [
        "**Enter solution below:**"
      ]
    },
    {
      "cell_type": "code",
      "metadata": {
        "id": "ePfMpVMbrkHz",
        "colab": {
          "base_uri": "https://localhost:8080/",
          "height": 34
        },
        "outputId": "6e7719a8-da29-46ca-bb83-f86d07ef7e6c"
      },
      "source": [
        "class(islands)"
      ],
      "execution_count": null,
      "outputs": [
        {
          "output_type": "display_data",
          "data": {
            "text/plain": [
              "[1] \"numeric\""
            ],
            "text/latex": "'numeric'",
            "text/markdown": "'numeric'",
            "text/html": [
              "'numeric'"
            ]
          },
          "metadata": {}
        }
      ]
    },
    {
      "cell_type": "markdown",
      "metadata": {
        "id": "So6V5QzVP9ij"
      },
      "source": [
        "3. In which data structure are the `attributes` of this plot stored?"
      ]
    },
    {
      "cell_type": "code",
      "metadata": {
        "id": "pikgy1SXrpG1",
        "colab": {
          "base_uri": "https://localhost:8080/",
          "height": 102
        },
        "outputId": "65d36117-69af-41df-9277-b9d168ff55bb"
      },
      "source": [
        "attributes(islands)"
      ],
      "execution_count": null,
      "outputs": [
        {
          "output_type": "display_data",
          "data": {
            "text/plain": [
              "$names\n",
              " [1] \"Africa\"           \"Antarctica\"       \"Asia\"             \"Australia\"       \n",
              " [5] \"Axel Heiberg\"     \"Baffin\"           \"Banks\"            \"Borneo\"          \n",
              " [9] \"Britain\"          \"Celebes\"          \"Celon\"            \"Cuba\"            \n",
              "[13] \"Devon\"            \"Ellesmere\"        \"Europe\"           \"Greenland\"       \n",
              "[17] \"Hainan\"           \"Hispaniola\"       \"Hokkaido\"         \"Honshu\"          \n",
              "[21] \"Iceland\"          \"Ireland\"          \"Java\"             \"Kyushu\"          \n",
              "[25] \"Luzon\"            \"Madagascar\"       \"Melville\"         \"Mindanao\"        \n",
              "[29] \"Moluccas\"         \"New Britain\"      \"New Guinea\"       \"New Zealand (N)\" \n",
              "[33] \"New Zealand (S)\"  \"Newfoundland\"     \"North America\"    \"Novaya Zemlya\"   \n",
              "[37] \"Prince of Wales\"  \"Sakhalin\"         \"South America\"    \"Southampton\"     \n",
              "[41] \"Spitsbergen\"      \"Sumatra\"          \"Taiwan\"           \"Tasmania\"        \n",
              "[45] \"Tierra del Fuego\" \"Timor\"            \"Vancouver\"        \"Victoria\"        \n"
            ],
            "text/latex": "\\textbf{\\$names} = \\begin{enumerate*}\n\\item 'Africa'\n\\item 'Antarctica'\n\\item 'Asia'\n\\item 'Australia'\n\\item 'Axel Heiberg'\n\\item 'Baffin'\n\\item 'Banks'\n\\item 'Borneo'\n\\item 'Britain'\n\\item 'Celebes'\n\\item 'Celon'\n\\item 'Cuba'\n\\item 'Devon'\n\\item 'Ellesmere'\n\\item 'Europe'\n\\item 'Greenland'\n\\item 'Hainan'\n\\item 'Hispaniola'\n\\item 'Hokkaido'\n\\item 'Honshu'\n\\item 'Iceland'\n\\item 'Ireland'\n\\item 'Java'\n\\item 'Kyushu'\n\\item 'Luzon'\n\\item 'Madagascar'\n\\item 'Melville'\n\\item 'Mindanao'\n\\item 'Moluccas'\n\\item 'New Britain'\n\\item 'New Guinea'\n\\item 'New Zealand (N)'\n\\item 'New Zealand (S)'\n\\item 'Newfoundland'\n\\item 'North America'\n\\item 'Novaya Zemlya'\n\\item 'Prince of Wales'\n\\item 'Sakhalin'\n\\item 'South America'\n\\item 'Southampton'\n\\item 'Spitsbergen'\n\\item 'Sumatra'\n\\item 'Taiwan'\n\\item 'Tasmania'\n\\item 'Tierra del Fuego'\n\\item 'Timor'\n\\item 'Vancouver'\n\\item 'Victoria'\n\\end{enumerate*}\n",
            "text/markdown": "**$names** = 1. 'Africa'\n2. 'Antarctica'\n3. 'Asia'\n4. 'Australia'\n5. 'Axel Heiberg'\n6. 'Baffin'\n7. 'Banks'\n8. 'Borneo'\n9. 'Britain'\n10. 'Celebes'\n11. 'Celon'\n12. 'Cuba'\n13. 'Devon'\n14. 'Ellesmere'\n15. 'Europe'\n16. 'Greenland'\n17. 'Hainan'\n18. 'Hispaniola'\n19. 'Hokkaido'\n20. 'Honshu'\n21. 'Iceland'\n22. 'Ireland'\n23. 'Java'\n24. 'Kyushu'\n25. 'Luzon'\n26. 'Madagascar'\n27. 'Melville'\n28. 'Mindanao'\n29. 'Moluccas'\n30. 'New Britain'\n31. 'New Guinea'\n32. 'New Zealand (N)'\n33. 'New Zealand (S)'\n34. 'Newfoundland'\n35. 'North America'\n36. 'Novaya Zemlya'\n37. 'Prince of Wales'\n38. 'Sakhalin'\n39. 'South America'\n40. 'Southampton'\n41. 'Spitsbergen'\n42. 'Sumatra'\n43. 'Taiwan'\n44. 'Tasmania'\n45. 'Tierra del Fuego'\n46. 'Timor'\n47. 'Vancouver'\n48. 'Victoria'\n\n\n",
            "text/html": [
              "<strong>$names</strong> = <style>\n",
              ".list-inline {list-style: none; margin:0; padding: 0}\n",
              ".list-inline>li {display: inline-block}\n",
              ".list-inline>li:not(:last-child)::after {content: \"\\00b7\"; padding: 0 .5ex}\n",
              "</style>\n",
              "<ol class=list-inline><li>'Africa'</li><li>'Antarctica'</li><li>'Asia'</li><li>'Australia'</li><li>'Axel Heiberg'</li><li>'Baffin'</li><li>'Banks'</li><li>'Borneo'</li><li>'Britain'</li><li>'Celebes'</li><li>'Celon'</li><li>'Cuba'</li><li>'Devon'</li><li>'Ellesmere'</li><li>'Europe'</li><li>'Greenland'</li><li>'Hainan'</li><li>'Hispaniola'</li><li>'Hokkaido'</li><li>'Honshu'</li><li>'Iceland'</li><li>'Ireland'</li><li>'Java'</li><li>'Kyushu'</li><li>'Luzon'</li><li>'Madagascar'</li><li>'Melville'</li><li>'Mindanao'</li><li>'Moluccas'</li><li>'New Britain'</li><li>'New Guinea'</li><li>'New Zealand (N)'</li><li>'New Zealand (S)'</li><li>'Newfoundland'</li><li>'North America'</li><li>'Novaya Zemlya'</li><li>'Prince of Wales'</li><li>'Sakhalin'</li><li>'South America'</li><li>'Southampton'</li><li>'Spitsbergen'</li><li>'Sumatra'</li><li>'Taiwan'</li><li>'Tasmania'</li><li>'Tierra del Fuego'</li><li>'Timor'</li><li>'Vancouver'</li><li>'Victoria'</li></ol>\n"
            ]
          },
          "metadata": {}
        }
      ]
    },
    {
      "cell_type": "markdown",
      "metadata": {
        "id": "U6KgdF-uVpVX"
      },
      "source": [
        "4. Look for an `example` of the dataset. What kind of chart is generated here?\n"
      ]
    },
    {
      "cell_type": "code",
      "metadata": {
        "id": "gbLgPCyProOt",
        "colab": {
          "base_uri": "https://localhost:8080/",
          "height": 993
        },
        "outputId": "b47227db-dd54-4404-bf3f-f403ae8a4ff8"
      },
      "source": [
        "example(islands)"
      ],
      "execution_count": null,
      "outputs": [
        {
          "output_type": "stream",
          "name": "stdout",
          "text": [
            "\n",
            "islnds> require(graphics)\n",
            "\n",
            "islnds> dotchart(log(islands, 10),\n",
            "islnds+    main = \"islands data: log10(area) (log10(sq. miles))\")\n",
            "\n",
            "islnds> dotchart(log(islands[order(islands)], 10),\n",
            "islnds+    main = \"islands data: log10(area) (log10(sq. miles))\")\n"
          ]
        },
        {
          "output_type": "display_data",
          "data": {
            "image/png": "[encoded data removed]",
            "text/plain": [
              "Plot with title “islands data: log10(area) (log10(sq. miles))”"
            ]
          },
          "metadata": {
            "image/png": {
              "width": 420,
              "height": 420
            }
          }
        },
        {
          "output_type": "display_data",
          "data": {
            "image/png": "[encoded data removed]",
            "text/plain": [
              "Plot with title “islands data: log10(area) (log10(sq. miles))”"
            ]
          },
          "metadata": {
            "image/png": {
              "width": 420,
              "height": 420
            }
          }
        }
      ]
    },
    {
      "cell_type": "markdown",
      "metadata": {
        "id": "EtbGbi4fNGxk"
      },
      "source": [
        "## Cite your sources\n",
        "To finish, cite the sources of this EDA.\n",
        "\n",
        "*Hint: there are three sources.* \n"
      ]
    },
    {
      "cell_type": "markdown",
      "metadata": {
        "id": "_8RBSFjbNmmF"
      },
      "source": [
        "**Enter solution below:**"
      ]
    }
  ]
}