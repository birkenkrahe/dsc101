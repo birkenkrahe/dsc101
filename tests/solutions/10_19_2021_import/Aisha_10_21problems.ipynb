{
  "nbformat": 4,
  "nbformat_minor": 0,
  "metadata": {
    "colab": {
      "name": "Aisha-10.21problems.ipynb",
      "provenance": [],
      "collapsed_sections": []
    },
    "kernelspec": {
      "name": "ir",
      "display_name": "R"
    },
    "language_info": {
      "name": "R"
    }
  },
  "cells": [
    {
      "cell_type": "markdown",
      "metadata": {
        "id": "3Yoj4ok_eh4-"
      },
      "source": [
        "# Data import with R\n",
        "The main purpose of this practice sheet is to practice what you've learnt in the [DataCamp assignment](https://campus.datacamp.com/courses/introduction-to-importing-data-in-r/importing-data-from-flat-files-with-utils?ex=1).\n",
        "\n",
        "Along the way, we're going to repeat some R commands and add a little more I/O information."
      ]
    },
    {
      "cell_type": "markdown",
      "metadata": {
        "id": "leMNWJpghfi8"
      },
      "source": [
        "## Uploading files\n",
        "\n",
        "* Download the files `hotdogs.txt` and `swimming_pools.csv` from GitHub (in [`/tests/data/`](https://github.com/birkenkrahe/dsc101/tree/main/tests/data)) to your computer.\n",
        "* To do this, open the files as `Raw` files and save them (with right-click) as `.txt` and `.csv` files, respectively.\n",
        "* Enter the command to find out in which R working directory you currently are."
      ]
    },
    {
      "cell_type": "code",
      "metadata": {
        "id": "EtwUASZ-D-fz",
        "colab": {
          "base_uri": "https://localhost:8080/",
          "height": 35
        },
        "outputId": "f74a2ad1-82ba-4ad8-df29-5054ccfcda65"
      },
      "source": [
        "getwd()\n"
      ],
      "execution_count": 1,
      "outputs": [
        {
          "output_type": "display_data",
          "data": {
            "text/plain": [
              "[1] \"/content\""
            ],
            "text/latex": "'/content'",
            "text/markdown": "'/content'",
            "text/html": [
              "'/content'"
            ]
          },
          "metadata": {}
        }
      ]
    },
    {
      "cell_type": "markdown",
      "metadata": {
        "id": "ulj6JnKImEtV"
      },
      "source": [
        "## Notebook navigation\n",
        "\n",
        "- Open the folder symbol in the left sidebar. It only shows the contents of the current folder, `sample_data`. \n",
        "- In the sidebar, right click on the symbol above `sample_data` and create a `New folder` named `practice`. \n",
        "- Navigate to the next higher folder by clicking on the symbol right above the folder `sample_data`.\n",
        "\n",
        "You are now looking at a complete Linux file server tree. On Unix-like systems (Linux, MacOS), file paths are separated by forward slashes `/`, while Windows uses backward slashes `\\`. Data uploaded anywhere but in `/content` are deleted whenever the connection to your session is severed.\n",
        "\n",
        "- You should see the folder `practice` that you created inside `content`. \n",
        "- Right-click on `practice` and choose `Upload`.\n",
        "- Upload the files `hotdogs.txt` and `swimming_pools.csv` to `practice`."
      ]
    },
    {
      "cell_type": "markdown",
      "metadata": {
        "id": "bxWgSTDc6mpp"
      },
      "source": [
        "Image: how your notebook sidebar should look now:\n",
        "![sidebar.png](data:image/png;base64,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)"
      ]
    },
    {
      "cell_type": "markdown",
      "metadata": {
        "id": "BpALw4aZ8Yj1"
      },
      "source": [
        "Enter the command to change the working directory to `/practice`. \n",
        "\n",
        "*Tip: You need the absolute path for that.*"
      ]
    },
    {
      "cell_type": "code",
      "metadata": {
        "id": "0Vt2fjjBgx5Q"
      },
      "source": [
        "/content/practice"
      ],
      "execution_count": null,
      "outputs": []
    },
    {
      "cell_type": "code",
      "metadata": {
        "id": "FI6TeAgr4Gqy"
      },
      "source": [
        "setwd(\"/content/practice\")\n"
      ],
      "execution_count": 4,
      "outputs": []
    },
    {
      "cell_type": "markdown",
      "metadata": {
        "id": "z3-1YoymHVV2"
      },
      "source": [
        "Enter the command to show that you are in fact in the folder `/practice`."
      ]
    },
    {
      "cell_type": "code",
      "metadata": {
        "id": "Ecn2HCeOG4Lg",
        "colab": {
          "base_uri": "https://localhost:8080/",
          "height": 35
        },
        "outputId": "59d6c917-b262-462f-afb0-d2b0bda89c90"
      },
      "source": [
        "getwd()"
      ],
      "execution_count": 5,
      "outputs": [
        {
          "output_type": "display_data",
          "data": {
            "text/plain": [
              "[1] \"/content/practice\""
            ],
            "text/latex": "'/content/practice'",
            "text/markdown": "'/content/practice'",
            "text/html": [
              "'/content/practice'"
            ]
          },
          "metadata": {}
        }
      ]
    },
    {
      "cell_type": "markdown",
      "metadata": {
        "id": "pMf50LmUga4C"
      },
      "source": [
        "*Bonus question: print the full path to the file `hotdogs.txt` as a `character` using the function `file.path()`.*"
      ]
    },
    {
      "cell_type": "code",
      "metadata": {
        "id": "IOyKj_kygjma",
        "colab": {
          "base_uri": "https://localhost:8080/",
          "height": 131
        },
        "outputId": "0604b97c-4d02-4135-b6cf-dca2ea42bcc4"
      },
      "source": [
        "file.path(hotdogs.txt)"
      ],
      "execution_count": 6,
      "outputs": [
        {
          "output_type": "error",
          "ename": "ERROR",
          "evalue": "ignored",
          "traceback": [
            "Error in file.path(hotdogs.txt): object 'hotdogs.txt' not found\nTraceback:\n",
            "1. file.path(hotdogs.txt)"
          ]
        }
      ]
    },
    {
      "cell_type": "markdown",
      "metadata": {
        "id": "YZJbct_thad1"
      },
      "source": [
        "## Finding files\n",
        "\n",
        "Find the files in `/practice`: you can see in the sidebar that they're there. Enter a command that will print the file names."
      ]
    },
    {
      "cell_type": "code",
      "metadata": {
        "id": "LWn6m8BDhWZq",
        "colab": {
          "base_uri": "https://localhost:8080/"
        },
        "outputId": "cce6251c-dfaa-4d47-eb15-c34ad9d6f306"
      },
      "source": [
        "print(hotdogs.txt)"
      ],
      "execution_count": 8,
      "outputs": [
        {
          "output_type": "stream",
          "name": "stdout",
          "text": [
            "[1] \"hotdogs.txt\"\n"
          ]
        }
      ]
    },
    {
      "cell_type": "markdown",
      "metadata": {
        "id": "O9Ga8H5qH9B9"
      },
      "source": [
        "Show the structure of the object you just created."
      ]
    },
    {
      "cell_type": "code",
      "metadata": {
        "id": "DSKg2QkbIEoa",
        "colab": {
          "base_uri": "https://localhost:8080/"
        },
        "outputId": "02bedf05-a04f-499c-b4d6-b46741af4dc1"
      },
      "source": [
        "str(hotdogs)"
      ],
      "execution_count": 23,
      "outputs": [
        {
          "output_type": "stream",
          "name": "stdout",
          "text": [
            "'data.frame':\t54 obs. of  3 variables:\n",
            " $ V1: chr  \"Beef\" \"Beef\" \"Beef\" \"Beef\" ...\n",
            " $ V2: int  186 181 176 149 184 190 158 139 175 148 ...\n",
            " $ V3: int  495 477 425 322 482 587 370 322 479 375 ...\n"
          ]
        }
      ]
    },
    {
      "cell_type": "markdown",
      "metadata": {
        "id": "A1Cg7xTrKKdC"
      },
      "source": [
        "What kind of data structure is this? Write the complete technical name for this object in the text box below:"
      ]
    },
    {
      "cell_type": "markdown",
      "metadata": {
        "id": "ax1bCOlH6SJf"
      },
      "source": [
        "data frame\n"
      ]
    },
    {
      "cell_type": "markdown",
      "metadata": {
        "id": "6QkxZSFpKVch"
      },
      "source": [
        "**ANSWER: `dir()` creates** ..."
      ]
    },
    {
      "cell_type": "markdown",
      "metadata": {
        "id": "9gRAAvh3PAyC"
      },
      "source": [
        "## Loading text files\n",
        "Take a look at the text file `hotdogs.txt`, and import it as a data frame named `hotdogs`."
      ]
    },
    {
      "cell_type": "code",
      "metadata": {
        "id": "eOT8MehdPZO7"
      },
      "source": [
        "hotdogs <- read.delim(\"hotdogs.txt\", header = FALSE)"
      ],
      "execution_count": 10,
      "outputs": []
    },
    {
      "cell_type": "markdown",
      "metadata": {
        "id": "BLviG7fTQOYw"
      },
      "source": [
        "Print the first few lines of `hotdogs`."
      ]
    },
    {
      "cell_type": "code",
      "metadata": {
        "id": "y2LrOdt1QU7x",
        "colab": {
          "base_uri": "https://localhost:8080/",
          "height": 286
        },
        "outputId": "fbf30b12-f170-4701-8f1a-e253ab0772ea"
      },
      "source": [
        "head(hotdogs)"
      ],
      "execution_count": 11,
      "outputs": [
        {
          "output_type": "display_data",
          "data": {
            "text/plain": [
              "  V1   V2  V3 \n",
              "1 Beef 186 495\n",
              "2 Beef 181 477\n",
              "3 Beef 176 425\n",
              "4 Beef 149 322\n",
              "5 Beef 184 482\n",
              "6 Beef 190 587"
            ],
            "text/latex": "A data.frame: 6 × 3\n\\begin{tabular}{r|lll}\n  & V1 & V2 & V3\\\\\n  & <chr> & <int> & <int>\\\\\n\\hline\n\t1 & Beef & 186 & 495\\\\\n\t2 & Beef & 181 & 477\\\\\n\t3 & Beef & 176 & 425\\\\\n\t4 & Beef & 149 & 322\\\\\n\t5 & Beef & 184 & 482\\\\\n\t6 & Beef & 190 & 587\\\\\n\\end{tabular}\n",
            "text/markdown": "\nA data.frame: 6 × 3\n\n| <!--/--> | V1 &lt;chr&gt; | V2 &lt;int&gt; | V3 &lt;int&gt; |\n|---|---|---|---|\n| 1 | Beef | 186 | 495 |\n| 2 | Beef | 181 | 477 |\n| 3 | Beef | 176 | 425 |\n| 4 | Beef | 149 | 322 |\n| 5 | Beef | 184 | 482 |\n| 6 | Beef | 190 | 587 |\n\n",
            "text/html": [
              "<table class=\"dataframe\">\n",
              "<caption>A data.frame: 6 × 3</caption>\n",
              "<thead>\n",
              "\t<tr><th></th><th scope=col>V1</th><th scope=col>V2</th><th scope=col>V3</th></tr>\n",
              "\t<tr><th></th><th scope=col>&lt;chr&gt;</th><th scope=col>&lt;int&gt;</th><th scope=col>&lt;int&gt;</th></tr>\n",
              "</thead>\n",
              "<tbody>\n",
              "\t<tr><th scope=row>1</th><td>Beef</td><td>186</td><td>495</td></tr>\n",
              "\t<tr><th scope=row>2</th><td>Beef</td><td>181</td><td>477</td></tr>\n",
              "\t<tr><th scope=row>3</th><td>Beef</td><td>176</td><td>425</td></tr>\n",
              "\t<tr><th scope=row>4</th><td>Beef</td><td>149</td><td>322</td></tr>\n",
              "\t<tr><th scope=row>5</th><td>Beef</td><td>184</td><td>482</td></tr>\n",
              "\t<tr><th scope=row>6</th><td>Beef</td><td>190</td><td>587</td></tr>\n",
              "</tbody>\n",
              "</table>\n"
            ]
          },
          "metadata": {}
        }
      ]
    },
    {
      "cell_type": "markdown",
      "metadata": {
        "id": "1FuN7Yn1RCJA"
      },
      "source": [
        "Verify that `hotdogs` is a data frame so that the answer is a `logical` constant."
      ]
    },
    {
      "cell_type": "code",
      "metadata": {
        "id": "bt0cIosZRGJm",
        "colab": {
          "base_uri": "https://localhost:8080/",
          "height": 35
        },
        "outputId": "77273ccc-8aea-469c-ba7a-d9947558a6e1"
      },
      "source": [
        "is.data.frame(hotdogs)"
      ],
      "execution_count": 15,
      "outputs": [
        {
          "output_type": "display_data",
          "data": {
            "text/plain": [
              "[1] TRUE"
            ],
            "text/latex": "TRUE",
            "text/markdown": "TRUE",
            "text/html": [
              "TRUE"
            ]
          },
          "metadata": {}
        }
      ]
    },
    {
      "cell_type": "markdown",
      "metadata": {
        "id": "BtAxt5Ryhe78"
      },
      "source": [
        "Take a look at the first few lines of the file `swimming_pools.csv`. Take note of the header, and import it as a data frame `pools` using the following command in the code cell below:\n",
        "```\n",
        "read.csv2(file=\"swimming_pools.csv,header=TRUE)\n",
        "```"
      ]
    },
    {
      "cell_type": "code",
      "metadata": {
        "id": "Y430W066h1js"
      },
      "source": [
        "pools = read.csv2(file=\"swimming_pools.csv\",header=TRUE)\n"
      ],
      "execution_count": 19,
      "outputs": []
    },
    {
      "cell_type": "markdown",
      "metadata": {
        "id": "BBjDmBgFh9uZ"
      },
      "source": [
        "Check the structure of `pools` to make sure that you have what you expected: two `character` columns (`Name` and `Address` of the pool), and two `numeric` columns (`Latitude` and `Longitude` of the pool's location)."
      ]
    },
    {
      "cell_type": "code",
      "metadata": {
        "id": "YM5vK7C4isU4",
        "colab": {
          "base_uri": "https://localhost:8080/"
        },
        "outputId": "b7ea0fc3-a24d-41cd-c048-df006b4f783c"
      },
      "source": [
        "str(pools)"
      ],
      "execution_count": 20,
      "outputs": [
        {
          "output_type": "stream",
          "name": "stdout",
          "text": [
            "'data.frame':\t20 obs. of  1 variable:\n",
            " $ Name.Address.Latitude.Longitude: chr  \"Acacia Ridge Leisure Centre,1391 Beaudesert Road, Acacia Ridge,-27.58616,153.026354\" \"Bellbowrie Pool,Sugarwood Street, Bellbowrie,-27.565466,152.891082\" \"Carole Park,Cnr Boundary Road and Waterford Road Wacol,-27.607439,152.931511\" \"Centenary Pool (inner City),400 Gregory Terrace, Spring Hill,-27.455369,153.025067\" ...\n"
          ]
        }
      ]
    },
    {
      "cell_type": "markdown",
      "metadata": {
        "id": "T3bklie2ivt-"
      },
      "source": [
        "Evidently, we made a mistake. Can you find it and fix it? Put the correct command to import `swimming_pools.csv` in the code cell below.\n",
        "\n",
        "*Tip: take a look at the help page for `read.table()`.*"
      ]
    },
    {
      "cell_type": "code",
      "metadata": {
        "id": "jdKWJ1yfjM-8",
        "colab": {
          "base_uri": "https://localhost:8080/"
        },
        "outputId": "7f0eb26d-f5ac-4294-a182-d12e1982daec"
      },
      "source": [
        "?read.table()"
      ],
      "execution_count": 21,
      "outputs": [
        {
          "output_type": "stream",
          "name": "stderr",
          "text": [
            "Warning message in seq_len(head.end.idx):\n",
            "“first element used of 'length.out' argument”\n",
            "ERROR while rich displaying an object: Error in seq_len(head.end.idx): argument must be coercible to non-negative integer\n",
            "\n",
            "Traceback:\n",
            "1. FUN(X[[i]], ...)\n",
            "2. tryCatch(withCallingHandlers({\n",
            " .     if (!mime %in% names(repr::mime2repr)) \n",
            " .         stop(\"No repr_* for mimetype \", mime, \" in repr::mime2repr\")\n",
            " .     rpr <- repr::mime2repr[[mime]](obj)\n",
            " .     if (is.null(rpr)) \n",
            " .         return(NULL)\n",
            " .     prepare_content(is.raw(rpr), rpr)\n",
            " . }, error = error_handler), error = outer_handler)\n",
            "3. tryCatchList(expr, classes, parentenv, handlers)\n",
            "4. tryCatchOne(expr, names, parentenv, handlers[[1L]])\n",
            "5. doTryCatch(return(expr), name, parentenv, handler)\n",
            "6. withCallingHandlers({\n",
            " .     if (!mime %in% names(repr::mime2repr)) \n",
            " .         stop(\"No repr_* for mimetype \", mime, \" in repr::mime2repr\")\n",
            " .     rpr <- repr::mime2repr[[mime]](obj)\n",
            " .     if (is.null(rpr)) \n",
            " .         return(NULL)\n",
            " .     prepare_content(is.raw(rpr), rpr)\n",
            " . }, error = error_handler)\n",
            "7. repr::mime2repr[[mime]](obj)\n",
            "8. repr_html.help_files_with_topic(obj)\n",
            "9. repr_help_files_with_topic_generic(obj, Rd2HTML)\n"
          ]
        }
      ]
    },
    {
      "cell_type": "markdown",
      "metadata": {
        "id": "JKEQ4RroRhNK"
      },
      "source": [
        "## Naming data frame vectors\n",
        "\n",
        "What are the `names` of the `hotdog` dataframe column vectors?"
      ]
    },
    {
      "cell_type": "code",
      "metadata": {
        "id": "tXRelpF1Rs7O",
        "colab": {
          "base_uri": "https://localhost:8080/"
        },
        "outputId": "b68641f2-00a4-485e-e8de-109456b8ebaa"
      },
      "source": [
        "str(hotdogs)\n",
        "#their names are V1 V2 and V3"
      ],
      "execution_count": 24,
      "outputs": [
        {
          "output_type": "stream",
          "name": "stdout",
          "text": [
            "'data.frame':\t54 obs. of  3 variables:\n",
            " $ V1: chr  \"Beef\" \"Beef\" \"Beef\" \"Beef\" ...\n",
            " $ V2: int  186 181 176 149 184 190 158 139 175 148 ...\n",
            " $ V3: int  495 477 425 322 482 587 370 322 479 375 ...\n"
          ]
        }
      ]
    },
    {
      "cell_type": "markdown",
      "metadata": {
        "id": "H_pmKpCVR4Ta"
      },
      "source": [
        "The original `hotdogs.txt` data are the results of a laboratory analysis of calories and sodium content of major hot dog brands (UCLA, 2008).\n",
        "\n",
        "Rename the column vectors of `hotdogs` to `Type`, `Calories` and `Sodium` in this order - without re-importing the file (as in the DataCamp assignment).\n",
        "\n",
        "Instead, use the fact that the names of the column vectors are stored in a `character` vector."
      ]
    },
    {
      "cell_type": "code",
      "metadata": {
        "id": "XOnBcVE0UYxH"
      },
      "source": [
        "columnNames = c(\"type\", \"calories\", \"sodium\")\n",
        "\n",
        "colnames(hotdogs) = columnNames\n"
      ],
      "execution_count": 26,
      "outputs": []
    },
    {
      "cell_type": "markdown",
      "metadata": {
        "id": "YnMTwc0vUnlx"
      },
      "source": [
        "Check the data frame by printing out its structure."
      ]
    },
    {
      "cell_type": "code",
      "metadata": {
        "id": "b6b_IiWaUiFZ",
        "colab": {
          "base_uri": "https://localhost:8080/"
        },
        "outputId": "5cae46d5-cc45-43cf-e4da-c9ef869c2e83"
      },
      "source": [
        "str(hotdogs)"
      ],
      "execution_count": 27,
      "outputs": [
        {
          "output_type": "stream",
          "name": "stdout",
          "text": [
            "'data.frame':\t54 obs. of  3 variables:\n",
            " $ type    : chr  \"Beef\" \"Beef\" \"Beef\" \"Beef\" ...\n",
            " $ calories: int  186 181 176 149 184 190 158 139 175 148 ...\n",
            " $ sodium  : int  495 477 425 322 482 587 370 322 479 375 ...\n"
          ]
        }
      ]
    },
    {
      "cell_type": "markdown",
      "metadata": {
        "id": "SmixQZwQYSLK"
      },
      "source": [
        "## Extract values from the data frame"
      ]
    },
    {
      "cell_type": "markdown",
      "metadata": {
        "id": "pA5sSIjoUuCA"
      },
      "source": [
        "We can now refer to the column vectors by name, for example `x <- hotdogs$Calories` for all values of that vector, or `x[x<300]` for all hotdogs with less than 300 calories.\n",
        "\n",
        "How many hotdog types have less than 300 and more than 250 milligrams of sodium? Use the next code cell to determine and print the correct number."
      ]
    },
    {
      "cell_type": "code",
      "metadata": {
        "id": "PgT99L3eWNQg",
        "colab": {
          "base_uri": "https://localhost:8080/"
        },
        "outputId": "7242fab8-466e-4398-a144-c3a8ab235357"
      },
      "source": [
        "print(hotdogs$sodium > 250 & hotdogs$sodium < 300)\n",
        "#print(hotdogs$sodium < 300)\n",
        "\n",
        "#two hotdog types"
      ],
      "execution_count": 34,
      "outputs": [
        {
          "output_type": "stream",
          "name": "stdout",
          "text": [
            " [1] FALSE FALSE FALSE FALSE FALSE FALSE FALSE FALSE FALSE FALSE FALSE FALSE\n",
            "[13] FALSE FALSE FALSE FALSE FALSE FALSE  TRUE  TRUE FALSE FALSE FALSE FALSE\n",
            "[25] FALSE FALSE FALSE FALSE FALSE FALSE FALSE FALSE FALSE FALSE FALSE FALSE\n",
            "[37] FALSE FALSE FALSE FALSE FALSE FALSE FALSE FALSE FALSE FALSE FALSE FALSE\n",
            "[49] FALSE FALSE FALSE FALSE FALSE FALSE\n"
          ]
        }
      ]
    },
    {
      "cell_type": "markdown",
      "metadata": {
        "id": "Kh4pUcSCYcTY"
      },
      "source": [
        "What `Type` of hotdogs are these? \n",
        "\n",
        "*Tip: extract all elements of the vector with the hotdog types that satisfy the (logical) condition of having more than 250 mg and less than 300 mg sodium.*   "
      ]
    },
    {
      "cell_type": "code",
      "metadata": {
        "id": "AiLxcYRnYjc_",
        "colab": {
          "base_uri": "https://localhost:8080/",
          "height": 183
        },
        "outputId": "8a499e6a-8757-4e6b-d123-281db35e5ecc"
      },
      "source": [
        "#19 and 20\n",
        "\n",
        "print(hotdogs[,19])"
      ],
      "execution_count": 37,
      "outputs": [
        {
          "output_type": "error",
          "ename": "ERROR",
          "evalue": "ignored",
          "traceback": [
            "Error in `[.data.frame`(hotdogs, , 19): undefined columns selected\nTraceback:\n",
            "1. print(hotdogs[, 19])",
            "2. hotdogs[, 19]",
            "3. `[.data.frame`(hotdogs, , 19)",
            "4. stop(\"undefined columns selected\")"
          ]
        }
      ]
    },
    {
      "cell_type": "markdown",
      "metadata": {
        "id": "F0xzwMJ0Y27G"
      },
      "source": [
        "## Plotting `hotdogs`\n",
        "This is what you're about to learn in the next few sessions. For now, just follow the instructions.\n",
        "\n",
        "Assign the `Calories` vector to an object `x`."
      ]
    },
    {
      "cell_type": "code",
      "metadata": {
        "id": "KSmXuF3xZWZu"
      },
      "source": [
        "x <- hotdogs$calories\n",
        "y <- hotdogs$sodium\n"
      ],
      "execution_count": 47,
      "outputs": []
    },
    {
      "cell_type": "markdown",
      "metadata": {
        "id": "0Z3_ao9VZnf7"
      },
      "source": [
        "Now, `x` contains the hotdog `Calories`, and `y` contains the `Sodium` values. \n",
        "\n",
        "Let's plot these: enter `plot(x,y)` in the next code cell:"
      ]
    },
    {
      "cell_type": "code",
      "metadata": {
        "id": "uu_zVFdmZc75",
        "colab": {
          "base_uri": "https://localhost:8080/",
          "height": 437
        },
        "outputId": "22276b5d-6b70-4a51-adc4-0d5876f6ccb8"
      },
      "source": [
        "plot(x,y)"
      ],
      "execution_count": 48,
      "outputs": [
        {
          "output_type": "display_data",
          "data": {
            "image/png": "[encoded data removed]",
            "text/plain": [
              "plot without title"
            ]
          },
          "metadata": {
            "image/png": {
              "width": 420,
              "height": 420
            }
          }
        }
      ]
    },
    {
      "cell_type": "markdown",
      "metadata": {
        "id": "_1rnvB-PaFJB"
      },
      "source": [
        "If we want to find out how these hotdogs are distributed by type, we need to put the third available variable, `Type`, to use. \n",
        "\n",
        "First, put the `Type` of hotdog in another vector named `z`.  "
      ]
    },
    {
      "cell_type": "code",
      "metadata": {
        "id": "VZCzpHYNaMp9"
      },
      "source": [
        "z <- hotdogs$type"
      ],
      "execution_count": 49,
      "outputs": []
    },
    {
      "cell_type": "markdown",
      "metadata": {
        "id": "Kjtsr4EQcXgo"
      },
      "source": [
        "Next, turn `z` into a `factor` - simply overwrite it with a `factor` version of itself.\n"
      ]
    },
    {
      "cell_type": "code",
      "metadata": {
        "id": "GhVvcYLwdyk4",
        "colab": {
          "base_uri": "https://localhost:8080/",
          "height": 121
        },
        "outputId": "d33b5029-1967-427b-8846-25152b18c1b5"
      },
      "source": [
        "factor(z)"
      ],
      "execution_count": 50,
      "outputs": [
        {
          "output_type": "display_data",
          "data": {
            "text/plain": [
              " [1] Beef    Beef    Beef    Beef    Beef    Beef    Beef    Beef    Beef   \n",
              "[10] Beef    Beef    Beef    Beef    Beef    Beef    Beef    Beef    Beef   \n",
              "[19] Beef    Beef    Meat    Meat    Meat    Meat    Meat    Meat    Meat   \n",
              "[28] Meat    Meat    Meat    Meat    Meat    Meat    Meat    Meat    Meat   \n",
              "[37] Meat    Poultry Poultry Poultry Poultry Poultry Poultry Poultry Poultry\n",
              "[46] Poultry Poultry Poultry Poultry Poultry Poultry Poultry Poultry Poultry\n",
              "Levels: Beef Meat Poultry"
            ],
            "text/latex": "\\begin{enumerate*}\n\\item Beef\n\\item Beef\n\\item Beef\n\\item Beef\n\\item Beef\n\\item Beef\n\\item Beef\n\\item Beef\n\\item Beef\n\\item Beef\n\\item Beef\n\\item Beef\n\\item Beef\n\\item Beef\n\\item Beef\n\\item Beef\n\\item Beef\n\\item Beef\n\\item Beef\n\\item Beef\n\\item Meat\n\\item Meat\n\\item Meat\n\\item Meat\n\\item Meat\n\\item Meat\n\\item Meat\n\\item Meat\n\\item Meat\n\\item Meat\n\\item Meat\n\\item Meat\n\\item Meat\n\\item Meat\n\\item Meat\n\\item Meat\n\\item Meat\n\\item Poultry\n\\item Poultry\n\\item Poultry\n\\item Poultry\n\\item Poultry\n\\item Poultry\n\\item Poultry\n\\item Poultry\n\\item Poultry\n\\item Poultry\n\\item Poultry\n\\item Poultry\n\\item Poultry\n\\item Poultry\n\\item Poultry\n\\item Poultry\n\\item Poultry\n\\end{enumerate*}\n\n\\emph{Levels}: \\begin{enumerate*}\n\\item 'Beef'\n\\item 'Meat'\n\\item 'Poultry'\n\\end{enumerate*}\n",
            "text/markdown": "1. Beef\n2. Beef\n3. Beef\n4. Beef\n5. Beef\n6. Beef\n7. Beef\n8. Beef\n9. Beef\n10. Beef\n11. Beef\n12. Beef\n13. Beef\n14. Beef\n15. Beef\n16. Beef\n17. Beef\n18. Beef\n19. Beef\n20. Beef\n21. Meat\n22. Meat\n23. Meat\n24. Meat\n25. Meat\n26. Meat\n27. Meat\n28. Meat\n29. Meat\n30. Meat\n31. Meat\n32. Meat\n33. Meat\n34. Meat\n35. Meat\n36. Meat\n37. Meat\n38. Poultry\n39. Poultry\n40. Poultry\n41. Poultry\n42. Poultry\n43. Poultry\n44. Poultry\n45. Poultry\n46. Poultry\n47. Poultry\n48. Poultry\n49. Poultry\n50. Poultry\n51. Poultry\n52. Poultry\n53. Poultry\n54. Poultry\n\n\n\n**Levels**: 1. 'Beef'\n2. 'Meat'\n3. 'Poultry'\n\n\n",
            "text/html": [
              "<style>\n",
              ".list-inline {list-style: none; margin:0; padding: 0}\n",
              ".list-inline>li {display: inline-block}\n",
              ".list-inline>li:not(:last-child)::after {content: \"\\00b7\"; padding: 0 .5ex}\n",
              "</style>\n",
              "<ol class=list-inline><li>Beef</li><li>Beef</li><li>Beef</li><li>Beef</li><li>Beef</li><li>Beef</li><li>Beef</li><li>Beef</li><li>Beef</li><li>Beef</li><li>Beef</li><li>Beef</li><li>Beef</li><li>Beef</li><li>Beef</li><li>Beef</li><li>Beef</li><li>Beef</li><li>Beef</li><li>Beef</li><li>Meat</li><li>Meat</li><li>Meat</li><li>Meat</li><li>Meat</li><li>Meat</li><li>Meat</li><li>Meat</li><li>Meat</li><li>Meat</li><li>Meat</li><li>Meat</li><li>Meat</li><li>Meat</li><li>Meat</li><li>Meat</li><li>Meat</li><li>Poultry</li><li>Poultry</li><li>Poultry</li><li>Poultry</li><li>Poultry</li><li>Poultry</li><li>Poultry</li><li>Poultry</li><li>Poultry</li><li>Poultry</li><li>Poultry</li><li>Poultry</li><li>Poultry</li><li>Poultry</li><li>Poultry</li><li>Poultry</li><li>Poultry</li></ol>\n",
              "\n",
              "<details>\n",
              "\t<summary style=display:list-item;cursor:pointer>\n",
              "\t\t<strong>Levels</strong>:\n",
              "\t</summary>\n",
              "\t<style>\n",
              "\t.list-inline {list-style: none; margin:0; padding: 0}\n",
              "\t.list-inline>li {display: inline-block}\n",
              "\t.list-inline>li:not(:last-child)::after {content: \"\\00b7\"; padding: 0 .5ex}\n",
              "\t</style>\n",
              "\t<ol class=list-inline><li>'Beef'</li><li>'Meat'</li><li>'Poultry'</li></ol>\n",
              "</details>"
            ]
          },
          "metadata": {}
        }
      ]
    },
    {
      "cell_type": "markdown",
      "metadata": {
        "id": "jqeAIwaAk8Xr"
      },
      "source": [
        "Now plot the data set again, this time using `z` to color the data points. Enter the following command in the code cell below:\n",
        "```\n",
        "plot(x,y,col=z)\n",
        "```"
      ]
    },
    {
      "cell_type": "code",
      "metadata": {
        "id": "q-4b2qV7U9YH",
        "colab": {
          "base_uri": "https://localhost:8080/",
          "height": 603
        },
        "outputId": "d3339041-f0e1-403d-e46f-76dd8c493661"
      },
      "source": [
        "plot(x,y,z)"
      ],
      "execution_count": 52,
      "outputs": [
        {
          "output_type": "error",
          "ename": "ERROR",
          "evalue": "ignored",
          "traceback": [
            "Error in plot.xy(xy, type, ...): invalid plot type\nTraceback:\n",
            "1. plot(x, y, z)",
            "2. plot.default(x, y, z)",
            "3. plot.xy(xy, type, ...)",
            "4. stop(gettextf(\"invalid plot type\"))"
          ]
        },
        {
          "output_type": "display_data",
          "data": {
            "image/png": "[encoded data removed]",
            "text/plain": [
              "plot without title"
            ]
          },
          "metadata": {
            "image/png": {
              "width": 420,
              "height": 420
            }
          }
        }
      ]
    },
    {
      "cell_type": "markdown",
      "metadata": {
        "id": "fK4EZiyILKNt"
      },
      "source": [
        "## Complete Creative Commons reference\n",
        "\n",
        "The file `swimming_pools.txt` is distributed under a 'Creative Commons' copyright. Check [the origin of the file](https://www.data.brisbane.qld.gov.au/data/dataset/swimming-pools) to find out how to complete the reference below, and complete it accordingly."
      ]
    },
    {
      "cell_type": "markdown",
      "metadata": {
        "id": "44N9EiJgLkc2"
      },
      "source": [
        "## References\n",
        "\n",
        "`hotdog.txt`: Moore, David S., and George P. McCabe (1989). Introduction to the Practice of Statistics. Original source: Consumer Reports, June 1986, pp. 366-367\n",
        "\n",
        "R Core Team (2021). R: A language and environment for statistical computing. R Foundation for Statistical Computing, Vienna, Austria. Online: [www.R-project.org](https://www.r-project.org).\n",
        "\n",
        "`swimming_pools.csv`: Swimming Pool Locations (2015).Creative Commons Attribution 4.0. \n",
        "\n",
        "UCLA (29 Dec 2008). SOCR 012708 ID Data HotDogs (wiki). Online: [wiki.stat.ucla.edu](http://wiki.stat.ucla.edu/socr/index.php/SOCR_012708_ID_Data_HotDogs)."
      ]
    }
  ]
}